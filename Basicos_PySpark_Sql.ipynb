{
  "nbformat": 4,
  "nbformat_minor": 0,
  "metadata": {
    "colab": {
      "provenance": [],
      "mount_file_id": "1gJDGJgSEBRne1op6l2u2NvFc_d9oMaHv",
      "authorship_tag": "ABX9TyMWAQWDF+gpkHiNdIiHOzzI",
      "include_colab_link": true
    },
    "kernelspec": {
      "name": "python3",
      "display_name": "Python 3"
    },
    "language_info": {
      "name": "python"
    }
  },
  "cells": [
    {
      "cell_type": "markdown",
      "metadata": {
        "id": "view-in-github",
        "colab_type": "text"
      },
      "source": [
        "<a href=\"https://colab.research.google.com/github/luismiguelmartinluengo/PySpark_Demos/blob/main/Basicos_PySpark_Sql.ipynb\" target=\"_parent\"><img src=\"https://colab.research.google.com/assets/colab-badge.svg\" alt=\"Open In Colab\"/></a>"
      ]
    },
    {
      "cell_type": "code",
      "source": [
        "from google.colab import drive\n",
        "drive.mount('/content/drive')"
      ],
      "metadata": {
        "id": "Kq6yzMYuisdB"
      },
      "execution_count": null,
      "outputs": []
    },
    {
      "cell_type": "code",
      "source": [
        "from pyspark.sql import SparkSession\n",
        "from pyspark.sql.types import *\n",
        "from pyspark.sql.functions import lower, upper, avg, min, max, sum"
      ],
      "metadata": {
        "id": "wy0E4YaKix6M"
      },
      "execution_count": 2,
      "outputs": []
    },
    {
      "cell_type": "code",
      "source": [
        "sparkSession = SparkSession.builder.appName('Basicos Datafrae').getOrCreate()"
      ],
      "metadata": {
        "id": "dHrSs6vii2VH"
      },
      "execution_count": 3,
      "outputs": []
    },
    {
      "cell_type": "code",
      "source": [
        "sales = sparkSession.read.csv ('/content/drive/MyDrive/Colab Notebooks/data/sales_data.csv',\n",
        "                            sep = ',',\n",
        "                            header = True)\n",
        "sales.show(5)"
      ],
      "metadata": {
        "colab": {
          "base_uri": "https://localhost:8080/"
        },
        "id": "QT06cWzSjv4L",
        "outputId": "56a46f10-ae80-402f-f8db-53dcc82b914b"
      },
      "execution_count": 9,
      "outputs": [
        {
          "output_type": "stream",
          "name": "stdout",
          "text": [
            "+--------------+----------+---------------+-------------+--------------+----------------+-------------+--------------+\n",
            "|transaction_id|product_id|   product_name|quantity_sold|price_per_unit|transaction_date|       region|payment_method|\n",
            "+--------------+----------+---------------+-------------+--------------+----------------+-------------+--------------+\n",
            "|             1|      1002|         Laptop|            1|        754.47|      2024-02-15|       Europe|    Debit Card|\n",
            "|             2|      1003|     Headphones|            2|        692.86|      2023-01-01|       Africa|   Credit Card|\n",
            "|             3|      1010|Fitness Tracker|            7|         80.19|      2022-10-26|North America|    Debit Card|\n",
            "|             4|      1004|         Tablet|            9|        621.92|      2024-05-04|       Africa|    Debit Card|\n",
            "|             5|      1009| Gaming Console|            7|        259.42|      2023-05-08|       Africa|        PayPal|\n",
            "+--------------+----------+---------------+-------------+--------------+----------------+-------------+--------------+\n",
            "only showing top 5 rows\n",
            "\n"
          ]
        }
      ]
    },
    {
      "cell_type": "code",
      "source": [
        "sales.createOrReplaceTempView('sales')"
      ],
      "metadata": {
        "id": "U5P2Xs5_m6PC"
      },
      "execution_count": 10,
      "outputs": []
    },
    {
      "cell_type": "code",
      "source": [
        "sqlDistinctRegions = sparkSession.sql('SELECT DISTINCT region FROM sales')\n",
        "sqlDistinctRegions.show()"
      ],
      "metadata": {
        "colab": {
          "base_uri": "https://localhost:8080/"
        },
        "id": "uA7Sak4dprXO",
        "outputId": "5049ecf5-bb63-4057-a1da-ad21b309e30f"
      },
      "execution_count": 11,
      "outputs": [
        {
          "output_type": "stream",
          "name": "stdout",
          "text": [
            "+-------------+\n",
            "|       region|\n",
            "+-------------+\n",
            "|       Europe|\n",
            "|       Africa|\n",
            "|North America|\n",
            "|South America|\n",
            "|         Asia|\n",
            "+-------------+\n",
            "\n"
          ]
        }
      ]
    },
    {
      "cell_type": "code",
      "source": [
        "dfAgg = sales.groupBy('product_name').agg({'price_per_unit':'avg',\n",
        "                                        'price_per_unit':'max',\n",
        "                                        'price_per_unit':'min',\n",
        "                                        'price_per_unit':'sum'})\n",
        "dfAgg.show() #Solo muestra la última agregación\n",
        "dfAgg = sales.groupBy('product_name').agg(avg('price_per_unit').alias('Avg_price_per_unit'),\n",
        "                                       min('price_per_unit').alias('Min_price_per_unit'),\n",
        "                                       max('price_per_unit').alias('Max_price_per_unit'),\n",
        "                                       sum('price_per_unit').alias('Sum_price_per_unit'))\n",
        "dfAgg.show()"
      ],
      "metadata": {
        "colab": {
          "base_uri": "https://localhost:8080/"
        },
        "id": "9cEtv0Msp6gB",
        "outputId": "b6cd42ad-02e6-44c2-90a2-5d8a9bcfff35"
      },
      "execution_count": 12,
      "outputs": [
        {
          "output_type": "stream",
          "name": "stdout",
          "text": [
            "+-----------------+-------------------+\n",
            "|     product_name|sum(price_per_unit)|\n",
            "+-----------------+-------------------+\n",
            "|       Smartwatch|  55122.37000000001|\n",
            "|Bluetooth Speaker| 53639.130000000005|\n",
            "|           Laptop| 49244.149999999994|\n",
            "|  Fitness Tracker| 45093.060000000005|\n",
            "|           Camera|           56107.65|\n",
            "|       Television|           43345.93|\n",
            "|           Tablet|           46965.87|\n",
            "|       Smartphone|  45193.32999999998|\n",
            "|       Headphones|           67448.02|\n",
            "|   Gaming Console|  60786.26000000001|\n",
            "+-----------------+-------------------+\n",
            "\n",
            "+-----------------+------------------+------------------+------------------+------------------+\n",
            "|     product_name|Avg_price_per_unit|Min_price_per_unit|Max_price_per_unit|Sum_price_per_unit|\n",
            "+-----------------+------------------+------------------+------------------+------------------+\n",
            "|Bluetooth Speaker| 515.7608653846154|            100.93|            989.08|53639.130000000005|\n",
            "|           Camera| 524.3705607476636|            101.36|            989.64|          56107.65|\n",
            "|  Fitness Tracker| 512.4211363636364|            112.46|            999.59|45093.060000000005|\n",
            "|   Gaming Console| 524.0194827586208|            101.01|            990.29| 60786.26000000001|\n",
            "|       Headphones|      526.93765625|            106.66|            997.82|          67448.02|\n",
            "|           Laptop| 529.5069892473118|            101.55|            992.64|49244.149999999994|\n",
            "|       Smartphone| 544.4979518072287|            112.62|            986.83| 45193.32999999998|\n",
            "|       Smartwatch| 501.1124545454546|            100.88|            988.87| 55122.37000000001|\n",
            "|           Tablet| 521.8430000000001|            117.44|            989.23|          46965.87|\n",
            "|       Television| 535.1349382716049|            109.02|            997.46|          43345.93|\n",
            "+-----------------+------------------+------------------+------------------+------------------+\n",
            "\n"
          ]
        }
      ]
    },
    {
      "cell_type": "code",
      "source": [
        "customers = sparkSession.read.csv('/content/drive/MyDrive/Colab Notebooks/data/customers.csv',\n",
        "                                  header = True,\n",
        "                                  inferSchema = True)\n",
        "customers.printSchema()\n",
        "customers.show(5)"
      ],
      "metadata": {
        "id": "UGDqyxtCvzC1",
        "colab": {
          "base_uri": "https://localhost:8080/"
        },
        "outputId": "d9f6a5f4-68f6-411e-9f33-87292e169a46"
      },
      "execution_count": 25,
      "outputs": [
        {
          "output_type": "stream",
          "name": "stdout",
          "text": [
            "root\n",
            " |-- customer_id: integer (nullable = true)\n",
            " |-- name: string (nullable = true)\n",
            " |-- email: string (nullable = true)\n",
            " |-- join_date: date (nullable = true)\n",
            " |-- country: string (nullable = true)\n",
            " |-- loyalty_points: integer (nullable = true)\n",
            "\n",
            "+-----------+-----------------+--------------------+----------+-------------+--------------+\n",
            "|customer_id|             name|               email| join_date|      country|loyalty_points|\n",
            "+-----------+-----------------+--------------------+----------+-------------+--------------+\n",
            "|          1|     Norma Fisher| ysullivan@yahoo.com|2023-10-23|Guinea-Bissau|          6311|\n",
            "|          2|     Susan Wagner|katelynmontgomery...|2024-04-14|      Romania|          6890|\n",
            "|          3|Stephanie Collins|thomas15@stewart-...|2024-06-15|      Lesotho|           663|\n",
            "|          4|     Joseph Brown|cortezraymond@gar...|2021-10-30|  Saint Lucia|          4242|\n",
            "|          5|         Seth Lee|lindathomas@west.net|2023-12-02|     Botswana|          8376|\n",
            "+-----------+-----------------+--------------------+----------+-------------+--------------+\n",
            "only showing top 5 rows\n",
            "\n"
          ]
        }
      ]
    },
    {
      "cell_type": "code",
      "source": [
        "purchases = sparkSession.read.csv('/content/drive/MyDrive/Colab Notebooks/data/purchases.csv',\n",
        "                                  header = True,\n",
        "                                  inferSchema = True)\n",
        "purchases.printSchema()\n",
        "purchases.show(5)"
      ],
      "metadata": {
        "colab": {
          "base_uri": "https://localhost:8080/"
        },
        "id": "1XhmphPmJB6b",
        "outputId": "50653f78-c346-4a83-ace8-cae02db19d0c"
      },
      "execution_count": 26,
      "outputs": [
        {
          "output_type": "stream",
          "name": "stdout",
          "text": [
            "root\n",
            " |-- purchase_id: integer (nullable = true)\n",
            " |-- customer_id: integer (nullable = true)\n",
            " |-- purchase_amount: double (nullable = true)\n",
            " |-- purchase_date: date (nullable = true)\n",
            " |-- product_category: string (nullable = true)\n",
            " |-- payment_method: string (nullable = true)\n",
            "\n",
            "+-----------+-----------+---------------+-------------+----------------+--------------+\n",
            "|purchase_id|customer_id|purchase_amount|purchase_date|product_category|payment_method|\n",
            "+-----------+-----------+---------------+-------------+----------------+--------------+\n",
            "|          1|         67|          263.9|   2023-09-12|          Beauty|        PayPal|\n",
            "|          2|        240|         192.87|   2023-11-05|           Books|        PayPal|\n",
            "|          3|        597|          93.98|   2024-09-28|     Electronics| Bank Transfer|\n",
            "|          4|        517|         170.66|   2024-04-25|            Toys|   Credit Card|\n",
            "|          5|        832|          73.61|   2023-02-20|           Books|    Debit Card|\n",
            "+-----------+-----------+---------------+-------------+----------------+--------------+\n",
            "only showing top 5 rows\n",
            "\n"
          ]
        }
      ]
    },
    {
      "cell_type": "code",
      "source": [
        "customers = customers.filter(~customers.name.endswith('r'))\n",
        "purchases = purchases.filter(purchases.product_category != 'Books')\n",
        "print('Registros customers:', customers.count())\n",
        "print('Registros purchases:', purchases.count())"
      ],
      "metadata": {
        "colab": {
          "base_uri": "https://localhost:8080/"
        },
        "id": "BwVC17o5JyZJ",
        "outputId": "60dcbf2b-d824-4d23-cc77-57f87ceabbc3"
      },
      "execution_count": 27,
      "outputs": [
        {
          "output_type": "stream",
          "name": "stdout",
          "text": [
            "Registros customers: 909\n",
            "Registros purchases: 839\n"
          ]
        }
      ]
    },
    {
      "cell_type": "code",
      "source": [
        "inner = purchases.join(customers, on = 'customer_id', how = 'inner')\n",
        "print('Registros inner:', inner.count())\n",
        "inner.show(5)"
      ],
      "metadata": {
        "colab": {
          "base_uri": "https://localhost:8080/"
        },
        "id": "P1bnImE8KHAF",
        "outputId": "ff81d515-37f8-44c6-97df-a29df6f79849"
      },
      "execution_count": 28,
      "outputs": [
        {
          "output_type": "stream",
          "name": "stdout",
          "text": [
            "Registros inner: 759\n",
            "+-----------+-----------+---------------+-------------+----------------+--------------+-----------------+--------------------+----------+-----------+--------------+\n",
            "|customer_id|purchase_id|purchase_amount|purchase_date|product_category|payment_method|             name|               email| join_date|    country|loyalty_points|\n",
            "+-----------+-----------+---------------+-------------+----------------+--------------+-----------------+--------------------+----------+-----------+--------------+\n",
            "|          3|        714|          157.4|   2024-03-02|          Beauty|    Debit Card|Stephanie Collins|thomas15@stewart-...|2024-06-15|    Lesotho|           663|\n",
            "|          4|        151|          28.71|   2024-02-26|     Electronics| Bank Transfer|     Joseph Brown|cortezraymond@gar...|2021-10-30|Saint Lucia|          4242|\n",
            "|          5|         95|          43.99|   2023-02-04|          Beauty|   Credit Card|         Seth Lee|lindathomas@west.net|2023-12-02|   Botswana|          8376|\n",
            "|          6|        149|          346.6|   2023-11-18|          Beauty|    Debit Card|   Eddie Martinez|tamaramorrison@ho...|2022-03-15|      Kenya|          7961|\n",
            "|          7|        434|         372.77|   2023-10-02|  Home & Kitchen|    Debit Card|   Robert Stewart|   ivan20@zavala.com|2021-01-10| Uzbekistan|          6634|\n",
            "+-----------+-----------+---------------+-------------+----------------+--------------+-----------------+--------------------+----------+-----------+--------------+\n",
            "only showing top 5 rows\n",
            "\n"
          ]
        }
      ]
    },
    {
      "cell_type": "code",
      "source": [
        "left = purchases.join(customers, on = 'customer_id', how = 'left')\n",
        "print('Registros left:', left.count())\n",
        "left.filter(left.name.isNull()).show(5)"
      ],
      "metadata": {
        "colab": {
          "base_uri": "https://localhost:8080/"
        },
        "id": "Qa5uUZFgKRYI",
        "outputId": "65648c0a-3b56-4f79-fe91-5095e08ed751"
      },
      "execution_count": 30,
      "outputs": [
        {
          "output_type": "stream",
          "name": "stdout",
          "text": [
            "Registros left: 839\n",
            "+-----------+-----------+---------------+-------------+----------------+--------------+----+-----+---------+-------+--------------+\n",
            "|customer_id|purchase_id|purchase_amount|purchase_date|product_category|payment_method|name|email|join_date|country|loyalty_points|\n",
            "+-----------+-----------+---------------+-------------+----------------+--------------+----+-----+---------+-------+--------------+\n",
            "|        362|         10|         308.16|   2023-03-26|         Fashion|     Gift Card|NULL| NULL|     NULL|   NULL|          NULL|\n",
            "|        317|         13|          16.19|   2023-10-10|         Fashion| Bank Transfer|NULL| NULL|     NULL|   NULL|          NULL|\n",
            "|        503|         24|         317.64|   2023-10-20|     Electronics|    Debit Card|NULL| NULL|     NULL|   NULL|          NULL|\n",
            "|        665|         29|         171.12|   2024-02-28|          Beauty|     Gift Card|NULL| NULL|     NULL|   NULL|          NULL|\n",
            "|        758|         52|         497.88|   2023-02-20|  Home & Kitchen| Bank Transfer|NULL| NULL|     NULL|   NULL|          NULL|\n",
            "+-----------+-----------+---------------+-------------+----------------+--------------+----+-----+---------+-------+--------------+\n",
            "only showing top 5 rows\n",
            "\n"
          ]
        }
      ]
    },
    {
      "cell_type": "code",
      "source": [
        "right = purchases.join(customers, on = 'customer_id', how = 'right')\n",
        "print('Registros right:', right.count())\n",
        "right.filter(right.product_category.isNull()).show(5)"
      ],
      "metadata": {
        "colab": {
          "base_uri": "https://localhost:8080/"
        },
        "id": "qD9sb5xAKYFI",
        "outputId": "6469b409-4f54-4e2e-d349-4f339add5582"
      },
      "execution_count": 32,
      "outputs": [
        {
          "output_type": "stream",
          "name": "stdout",
          "text": [
            "Registros right: 1160\n",
            "+-----------+-----------+---------------+-------------+----------------+--------------+------------------+--------------------+----------+-----------+--------------+\n",
            "|customer_id|purchase_id|purchase_amount|purchase_date|product_category|payment_method|              name|               email| join_date|    country|loyalty_points|\n",
            "+-----------+-----------+---------------+-------------+----------------+--------------+------------------+--------------------+----------+-----------+--------------+\n",
            "|         11|       NULL|           NULL|         NULL|            NULL|          NULL|    Susan Ferguson|martinezjacob@wil...|2020-01-25|Netherlands|          9558|\n",
            "|         17|       NULL|           NULL|         NULL|            NULL|          NULL|Gabriella Williams|johnbenton@yahoo.com|2022-03-16|       Peru|          1553|\n",
            "|         19|       NULL|           NULL|         NULL|            NULL|          NULL|       Jerome Page|moralesjacqueline...|2020-02-26|       Chad|          8725|\n",
            "|         21|       NULL|           NULL|         NULL|            NULL|          NULL|     Sheri Burnett|monroedavid@moral...|2022-06-12|Afghanistan|          2407|\n",
            "|         23|       NULL|           NULL|         NULL|            NULL|          NULL|      Lori Johnson|callahandennis@ho...|2022-09-16|     Brazil|          1618|\n",
            "+-----------+-----------+---------------+-------------+----------------+--------------+------------------+--------------------+----------+-----------+--------------+\n",
            "only showing top 5 rows\n",
            "\n"
          ]
        }
      ]
    },
    {
      "cell_type": "code",
      "source": [
        "outer = purchases.join(customers, on = 'customer_id', how = 'outer')\n",
        "print('Registros outer:', outer.count())\n",
        "outer.filter(outer.name.isNull() | outer.product_category.isNull()).show(5)"
      ],
      "metadata": {
        "colab": {
          "base_uri": "https://localhost:8080/"
        },
        "id": "1quc0QU4U31L",
        "outputId": "dbee243f-26db-4ea4-edc6-481e872b8730"
      },
      "execution_count": 33,
      "outputs": [
        {
          "output_type": "stream",
          "name": "stdout",
          "text": [
            "Registros outer: 1240\n",
            "+-----------+-----------+---------------+-------------+----------------+--------------+------------------+--------------------+----------+-----------+--------------+\n",
            "|customer_id|purchase_id|purchase_amount|purchase_date|product_category|payment_method|              name|               email| join_date|    country|loyalty_points|\n",
            "+-----------+-----------+---------------+-------------+----------------+--------------+------------------+--------------------+----------+-----------+--------------+\n",
            "|          1|        642|         317.67|   2023-02-15|          Beauty|        PayPal|              NULL|                NULL|      NULL|       NULL|          NULL|\n",
            "|          2|        455|         407.47|   2023-08-20|         Fashion|     Gift Card|              NULL|                NULL|      NULL|       NULL|          NULL|\n",
            "|         11|       NULL|           NULL|         NULL|            NULL|          NULL|    Susan Ferguson|martinezjacob@wil...|2020-01-25|Netherlands|          9558|\n",
            "|         13|        631|         106.72|   2023-04-21|         Fashion|   Credit Card|              NULL|                NULL|      NULL|       NULL|          NULL|\n",
            "|         17|       NULL|           NULL|         NULL|            NULL|          NULL|Gabriella Williams|johnbenton@yahoo.com|2022-03-16|       Peru|          1553|\n",
            "+-----------+-----------+---------------+-------------+----------------+--------------+------------------+--------------------+----------+-----------+--------------+\n",
            "only showing top 5 rows\n",
            "\n"
          ]
        }
      ]
    },
    {
      "cell_type": "code",
      "source": [],
      "metadata": {
        "id": "I7yr0xzEVRNv"
      },
      "execution_count": null,
      "outputs": []
    }
  ]
}