{
  "nbformat": 4,
  "nbformat_minor": 0,
  "metadata": {
    "colab": {
      "provenance": [],
      "mount_file_id": "1MjAzNUk_chRYiB0c3HdhDtWIehuvZxKq",
      "authorship_tag": "ABX9TyPd3Zq9EOCMgthfXxv7LjsT",
      "include_colab_link": true
    },
    "kernelspec": {
      "name": "python3",
      "display_name": "Python 3"
    },
    "language_info": {
      "name": "python"
    }
  },
  "cells": [
    {
      "cell_type": "markdown",
      "metadata": {
        "id": "view-in-github",
        "colab_type": "text"
      },
      "source": [
        "<a href=\"https://colab.research.google.com/github/luismiguelmartinluengo/PySpark_Demos/blob/main/Labo_RDD_Grosery_store.ipynb\" target=\"_parent\"><img src=\"https://colab.research.google.com/assets/colab-badge.svg\" alt=\"Open In Colab\"/></a>"
      ]
    },
    {
      "cell_type": "code",
      "source": [
        "from google.colab import drive\n",
        "drive.mount('/content/drive')\n"
      ],
      "metadata": {
        "colab": {
          "base_uri": "https://localhost:8080/"
        },
        "id": "NGKbv9vsAH2o",
        "outputId": "a518d783-abf1-4e2a-b3ae-b75c24a4ed05"
      },
      "execution_count": null,
      "outputs": [
        {
          "output_type": "stream",
          "name": "stdout",
          "text": [
            "Drive already mounted at /content/drive; to attempt to forcibly remount, call drive.mount(\"/content/drive\", force_remount=True).\n"
          ]
        }
      ]
    },
    {
      "cell_type": "code",
      "execution_count": null,
      "metadata": {
        "id": "8Ai8APb9_1ba"
      },
      "outputs": [],
      "source": [
        "from pyspark.sql import SparkSession"
      ]
    },
    {
      "cell_type": "code",
      "source": [
        "dataPath = '/content/drive/MyDrive/Colab Notebooks/data/grocery_store_data.csv'"
      ],
      "metadata": {
        "id": "xWdcXF61DUCx"
      },
      "execution_count": null,
      "outputs": []
    },
    {
      "cell_type": "code",
      "source": [
        "sparkSession = SparkSession.builder.appName('Grocery Store Data').getOrCreate()"
      ],
      "metadata": {
        "id": "h5yQyie0De1m"
      },
      "execution_count": null,
      "outputs": []
    },
    {
      "cell_type": "code",
      "source": [
        "#Carga de datos y conversión a RDD\n",
        "dataFrame = sparkSession.read.csv(dataPath, header=True, inferSchema=True)\n",
        "rdd = dataFrame.rdd\n",
        "rdd.first()"
      ],
      "metadata": {
        "colab": {
          "base_uri": "https://localhost:8080/"
        },
        "id": "XuvzUrodDpEi",
        "outputId": "07fbdf6d-808e-4cdf-bddb-e94ba969548e"
      },
      "execution_count": null,
      "outputs": [
        {
          "output_type": "execute_result",
          "data": {
            "text/plain": [
              "Row(ItemID=1001, ItemName='Cheese', Category='Fruits', Quantity=15, PricePerUnit=1.64, TotalSales=24.599999999999998)"
            ]
          },
          "metadata": {},
          "execution_count": 33
        }
      ]
    },
    {
      "cell_type": "code",
      "source": [
        "#Extracción de RDD para contabilizar cantidades por producto\n",
        "rddItemQuantity = rdd.map(lambda x: (x['ItemName'], x['Quantity']))\n",
        "rddItemQuantity.takeSample(False, 5)"
      ],
      "metadata": {
        "colab": {
          "base_uri": "https://localhost:8080/"
        },
        "id": "DRu9Nw79D8Sk",
        "outputId": "5f81ff66-076f-4638-905d-2816a9de751a"
      },
      "execution_count": null,
      "outputs": [
        {
          "output_type": "execute_result",
          "data": {
            "text/plain": [
              "[('Bread', 38), ('Beef', 60), ('Milk', 23), ('Bread', 40), ('Milk', 12)]"
            ]
          },
          "metadata": {},
          "execution_count": 34
        }
      ]
    },
    {
      "cell_type": "code",
      "source": [
        "#Filtro de ventas con más de 10 productos vendidos\n",
        "rddHighSales = rddItemQuantity.filter(lambda x: x[1] > 10)\n",
        "rddHighSales.top(5, lambda x: -x[1])"
      ],
      "metadata": {
        "colab": {
          "base_uri": "https://localhost:8080/"
        },
        "id": "zjtQp9OrE1Nk",
        "outputId": "f66858d3-498a-48c2-e666-2784fb17c48d"
      },
      "execution_count": null,
      "outputs": [
        {
          "output_type": "execute_result",
          "data": {
            "text/plain": [
              "[('Apple', 11), ('Bread', 11), ('Milk', 11), ('Orange', 11), ('Bread', 11)]"
            ]
          },
          "metadata": {},
          "execution_count": 35
        }
      ]
    },
    {
      "cell_type": "code",
      "source": [
        "#Extraigo las distintas categorías existentes\n",
        "rddCategories = rdd.map(lambda x: x['Category']).distinct()\n",
        "rddCategories.collect()"
      ],
      "metadata": {
        "colab": {
          "base_uri": "https://localhost:8080/"
        },
        "id": "c5qzvUJBH6Ow",
        "outputId": "1fca7b0c-b00a-40e0-880e-72037b2a8292"
      },
      "execution_count": null,
      "outputs": [
        {
          "output_type": "execute_result",
          "data": {
            "text/plain": [
              "['Fruits', 'Bakery', 'Meat', 'Dairy']"
            ]
          },
          "metadata": {},
          "execution_count": 36
        }
      ]
    },
    {
      "cell_type": "code",
      "source": [
        "rddDistinct = rdd.distinct()\n",
        "print('El RDD original tiene ', rdd.count(), 'registros')\n",
        "print('El RDD distinct tiene ', rddDistinct.count(), 'registros')\n",
        "rddDistinct.unpersist()"
      ],
      "metadata": {
        "colab": {
          "base_uri": "https://localhost:8080/"
        },
        "id": "zh-gNLFBJejP",
        "outputId": "35ef0cce-b044-4713-f40b-668339949dba"
      },
      "execution_count": null,
      "outputs": [
        {
          "output_type": "stream",
          "name": "stdout",
          "text": [
            "El RDD original tiene  1000 registros\n",
            "El RDD distinct tiene  1000 registros\n"
          ]
        },
        {
          "output_type": "execute_result",
          "data": {
            "text/plain": [
              "PythonRDD[103] at RDD at PythonRDD.scala:53"
            ]
          },
          "metadata": {},
          "execution_count": 37
        }
      ]
    },
    {
      "cell_type": "code",
      "source": [
        "#Filtro la categoria Diary\n",
        "rddDairy = rdd.filter(lambda x: x['Category'] == 'Dairy')\n",
        "rddDairy.take(5)"
      ],
      "metadata": {
        "colab": {
          "base_uri": "https://localhost:8080/"
        },
        "id": "ZHY3Jz4rKw3F",
        "outputId": "0b3feb7e-1c7c-43de-968a-0e7377c15ff0"
      },
      "execution_count": null,
      "outputs": [
        {
          "output_type": "execute_result",
          "data": {
            "text/plain": [
              "[Row(ItemID=1016, ItemName='Bread', Category='Dairy', Quantity=8, PricePerUnit=18.7, TotalSales=149.6),\n",
              " Row(ItemID=1020, ItemName='Banana', Category='Dairy', Quantity=62, PricePerUnit=15.82, TotalSales=980.84),\n",
              " Row(ItemID=1022, ItemName='Apple', Category='Dairy', Quantity=62, PricePerUnit=8.49, TotalSales=526.38),\n",
              " Row(ItemID=1025, ItemName='Chicken', Category='Dairy', Quantity=84, PricePerUnit=11.65, TotalSales=978.6),\n",
              " Row(ItemID=1028, ItemName='Orange', Category='Dairy', Quantity=6, PricePerUnit=7.56, TotalSales=45.36)]"
            ]
          },
          "metadata": {},
          "execution_count": 41
        }
      ]
    },
    {
      "cell_type": "code",
      "source": [
        "#Calculo de ventas totales por Item (aunque este valor ya está en el fichero de origen)\n",
        "rddItemSales = rdd.map(lambda x: (x['ItemID'], x['ItemName'], x['Quantity'] * x['PricePerUnit']))\n",
        "rddItemSales.take(5)"
      ],
      "metadata": {
        "colab": {
          "base_uri": "https://localhost:8080/"
        },
        "id": "d9NZ8_WLdcoZ",
        "outputId": "60072271-69c9-4689-8a57-6bbe962ec34c"
      },
      "execution_count": null,
      "outputs": [
        {
          "output_type": "execute_result",
          "data": {
            "text/plain": [
              "[(1001, 'Cheese', 24.599999999999998),\n",
              " (1002, 'Milk', 687.9599999999999),\n",
              " (1003, 'Butter', 695.64),\n",
              " (1004, 'Bread', 700.7),\n",
              " (1005, 'Cheese', 1191.0)]"
            ]
          },
          "metadata": {},
          "execution_count": 44
        }
      ]
    },
    {
      "cell_type": "code",
      "source": [
        "#Total ventas por ItemName\n",
        "rddTotalSalesByItemName = rddItemSales.map(lambda x: (x[1],x[2])).reduceByKey(lambda x, y: x + y)\n",
        "rddTotalSalesByItemName.take(5)"
      ],
      "metadata": {
        "colab": {
          "base_uri": "https://localhost:8080/"
        },
        "id": "_t-rZl_jetgx",
        "outputId": "7b43e238-7c95-4048-9582-478070177be1"
      },
      "execution_count": null,
      "outputs": [
        {
          "output_type": "execute_result",
          "data": {
            "text/plain": [
              "[('Cheese', 44547.240000000005),\n",
              " ('Milk', 47475.599999999984),\n",
              " ('Butter', 44820.42),\n",
              " ('Bread', 51383.13),\n",
              " ('Beef', 45694.43000000002)]"
            ]
          },
          "metadata": {},
          "execution_count": 49
        }
      ]
    },
    {
      "cell_type": "code",
      "source": [
        "#Top 5 Items que generan mayor beneficio\n",
        "print(rddTotalSalesByItemName.top(5, lambda x: x[1]))\n",
        "#Otra forma\n",
        "print(rddTotalSalesByItemName.takeOrdered(5, lambda x: -x[1])) #takeOrdered muestra en orden ascendente por defecto\n",
        "#Otra forma\n",
        "print(rddTotalSalesByItemName.sortBy(lambda x: x[1], ascending = False).take(5))"
      ],
      "metadata": {
        "colab": {
          "base_uri": "https://localhost:8080/"
        },
        "id": "hQ5hZ4RghrDs",
        "outputId": "eaf41ec2-bdd2-474b-af6a-f775166a3342"
      },
      "execution_count": null,
      "outputs": [
        {
          "output_type": "stream",
          "name": "stdout",
          "text": [
            "[('Eggs', 54960.07), ('Apple', 54690.859999999986), ('Orange', 53005.270000000026), ('Bread', 51383.13), ('Milk', 47475.599999999984)]\n",
            "[('Eggs', 54960.07), ('Apple', 54690.859999999986), ('Orange', 53005.270000000026), ('Bread', 51383.13), ('Milk', 47475.599999999984)]\n",
            "[('Eggs', 54960.07), ('Apple', 54690.859999999986), ('Orange', 53005.270000000026), ('Bread', 51383.13), ('Milk', 47475.599999999984)]\n"
          ]
        }
      ]
    },
    {
      "cell_type": "code",
      "source": [
        "#Total ventas por categoria (usando TotalSales existente en la tabla original)\n",
        "rddTotalSalesByCategory = rdd.map(lambda x: (x['Category'],x['TotalSales'])).reduceByKey(lambda x, y: x + y)\n",
        "rddTotalSalesByCategory.take(5)"
      ],
      "metadata": {
        "colab": {
          "base_uri": "https://localhost:8080/"
        },
        "id": "vZMH6RtfgOXh",
        "outputId": "143115db-2f7e-4422-8e18-0b53fa5d9f52"
      },
      "execution_count": null,
      "outputs": [
        {
          "output_type": "execute_result",
          "data": {
            "text/plain": [
              "[('Fruits', 133819.93000000002),\n",
              " ('Bakery', 117350.73000000001),\n",
              " ('Meat', 120920.83999999997),\n",
              " ('Dairy', 112181.76000000008)]"
            ]
          },
          "metadata": {},
          "execution_count": 50
        }
      ]
    },
    {
      "cell_type": "code",
      "source": [],
      "metadata": {
        "id": "juyh6jHphHl8"
      },
      "execution_count": null,
      "outputs": []
    }
  ]
}