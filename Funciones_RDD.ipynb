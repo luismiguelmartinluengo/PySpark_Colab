{
  "nbformat": 4,
  "nbformat_minor": 0,
  "metadata": {
    "colab": {
      "provenance": [],
      "authorship_tag": "ABX9TyP1JhlJZsyxFpWQHAR9nqJz",
      "include_colab_link": true
    },
    "kernelspec": {
      "name": "python3",
      "display_name": "Python 3"
    },
    "language_info": {
      "name": "python"
    }
  },
  "cells": [
    {
      "cell_type": "markdown",
      "metadata": {
        "id": "view-in-github",
        "colab_type": "text"
      },
      "source": [
        "<a href=\"https://colab.research.google.com/github/luismiguelmartinluengo/PySpark_Demos/blob/main/Funciones_RDD.ipynb\" target=\"_parent\"><img src=\"https://colab.research.google.com/assets/colab-badge.svg\" alt=\"Open In Colab\"/></a>"
      ]
    },
    {
      "cell_type": "code",
      "source": [
        "import random\n",
        "from pyspark.sql import SparkSession\n",
        "from pyspark import SparkContext\n",
        "from operator import add"
      ],
      "metadata": {
        "id": "xuBpy6PQTPY_"
      },
      "execution_count": null,
      "outputs": []
    },
    {
      "cell_type": "code",
      "execution_count": null,
      "metadata": {
        "colab": {
          "base_uri": "https://localhost:8080/"
        },
        "id": "xoD5RMfSYaUN",
        "outputId": "a1f84273-4ccf-416c-d086-1a9adb48e6fa"
      },
      "outputs": [
        {
          "output_type": "stream",
          "name": "stdout",
          "text": [
            "3.5.4\n",
            "<SparkContext master=local[*] appName=MiSesionSpark>\n"
          ]
        }
      ],
      "source": [
        "\n",
        "\n",
        "# Crear una sesión Spark\n",
        "sparkSession = SparkSession.builder \\\n",
        "    .appName(\"MiSesionSpark\") \\\n",
        "    .master(\"local[*]\") \\\n",
        "    .getOrCreate()\n",
        "# Verifica que la sesión se haya creado correctamente\n",
        "print(sparkSession.version)\n",
        "sparkContext = sparkSession.sparkContext\n",
        "print(sparkContext)\n",
        "#Otra forma de crear el contexto sin necesidad de declarar previamente una sesión:\n",
        "#sparkContext = SparkContext(\"local\", \"Mi aplicacion con Contexto directo\")\n",
        "#Solo se puede tener un contexto activo a la vez"
      ]
    },
    {
      "cell_type": "code",
      "source": [
        "#flat vs flatmap\n",
        "rdd = sparkContext.parallelize([1, 2, 3, 4, 5])\n",
        "rddMap = rdd.map(lambda x: [x,x,x])\n",
        "print(rddMap.collect())\n",
        "rddFlatMap = rdd.flatMap(lambda x: [x,x,x])\n",
        "print(rddFlatMap.collect())\n",
        "rddSquared = rdd.map(lambda x: x**2)\n",
        "print(rddSquared.collect())\n",
        "rddMult = rdd.flatMap(lambda x: [x, x*10])\n",
        "print(rddMult.collect())"
      ],
      "metadata": {
        "colab": {
          "base_uri": "https://localhost:8080/"
        },
        "id": "VhAdpy2kSZHd",
        "outputId": "f4c15a16-854b-48f8-a2c9-f5cfec57b548"
      },
      "execution_count": null,
      "outputs": [
        {
          "output_type": "stream",
          "name": "stdout",
          "text": [
            "[[1, 1, 1], [2, 2, 2], [3, 3, 3], [4, 4, 4], [5, 5, 5]]\n",
            "[1, 1, 1, 2, 2, 2, 3, 3, 3, 4, 4, 4, 5, 5, 5]\n",
            "[1, 4, 9, 16, 25]\n",
            "[1, 10, 2, 20, 3, 30, 4, 40, 5, 50]\n"
          ]
        }
      ]
    },
    {
      "cell_type": "code",
      "source": [
        "#filter and union\n",
        "rddFilter = rdd.filter(lambda x: x % 2 == 0)\n",
        "print(rddFilter.collect())\n",
        "rddUnion  = sparkContext.union([rdd, rddFlatMap, rddFilter])\n",
        "print(rddUnion.collect())"
      ],
      "metadata": {
        "colab": {
          "base_uri": "https://localhost:8080/"
        },
        "id": "RYvniqnUTRDG",
        "outputId": "c0fef2a9-f3b2-4929-ee2d-cbcb4fe0bb26"
      },
      "execution_count": null,
      "outputs": [
        {
          "output_type": "stream",
          "name": "stdout",
          "text": [
            "[2, 4]\n",
            "[1, 2, 3, 4, 5, 1, 1, 1, 2, 2, 2, 3, 3, 3, 4, 4, 4, 5, 5, 5, 2, 4]\n"
          ]
        }
      ]
    },
    {
      "cell_type": "code",
      "source": [
        "#reduce\n",
        "rddSumatory = rdd.reduce(lambda x, y: x + y)\n",
        "print(rddSumatory)"
      ],
      "metadata": {
        "colab": {
          "base_uri": "https://localhost:8080/"
        },
        "id": "L0qnKDWwUwWZ",
        "outputId": "c3adb334-3b72-46e2-eb2b-850dcc05dcc9"
      },
      "execution_count": null,
      "outputs": [
        {
          "output_type": "stream",
          "name": "stdout",
          "text": [
            "15\n"
          ]
        }
      ]
    },
    {
      "cell_type": "code",
      "source": [
        "#groupbykey\n",
        "rddGroupedByKey = rdd.groupBy(lambda x: x % 3)\n",
        "print(rddGroupedByKey.count())\n",
        "for key, value in rddGroupedByKey.collect():\n",
        "    print(key, list(value))"
      ],
      "metadata": {
        "colab": {
          "base_uri": "https://localhost:8080/"
        },
        "id": "eVfHs3sYUZOT",
        "outputId": "a3ef1e47-a3fc-4236-a50f-ca78381527d5"
      },
      "execution_count": null,
      "outputs": [
        {
          "output_type": "stream",
          "name": "stdout",
          "text": [
            "3\n",
            "2 [2, 5]\n",
            "0 [3]\n",
            "1 [1, 4]\n"
          ]
        }
      ]
    },
    {
      "cell_type": "code",
      "source": [
        "#distinct y Sample\n",
        "rddDistinct = rddFlatMap.distinct()\n",
        "print(rddDistinct.collect())\n",
        "#fraction 0.3 extraerá entre el 30 y el 40% de los datos\n",
        "rddSample = rdd.sample(withReplacement=False, fraction=0.3, seed = None)\n",
        "print(rdd.collect())\n",
        "print(rddSample.collect())"
      ],
      "metadata": {
        "colab": {
          "base_uri": "https://localhost:8080/"
        },
        "id": "RIsi5CqpieGZ",
        "outputId": "a118881a-abac-49ea-ead7-5e81eff430ef"
      },
      "execution_count": null,
      "outputs": [
        {
          "output_type": "stream",
          "name": "stdout",
          "text": [
            "[2, 4, 1, 3, 5]\n",
            "[1, 2, 3, 4, 5]\n",
            "[1]\n"
          ]
        }
      ]
    },
    {
      "cell_type": "code",
      "source": [
        "#Join inner/left/right\n",
        "rddkv1 = sparkContext.parallelize([(1, [111,112]), (2, [121,122]), (3, [131,132]), (4, [141,142])])\n",
        "rddkv2 = sparkContext.parallelize([(1, [211,212]), (2, [221,222]), (3, [231,232]), (5, [251,252])])\n",
        "print(rddkv1.collect())\n",
        "print(rddkv2.collect())\n",
        "rddJoin = rddkv1.join(rddkv2)\n",
        "print(rddJoin.collect())\n",
        "rddLeftJoin = rddkv1.leftOuterJoin(rddkv2)\n",
        "print(rddLeftJoin.collect())\n",
        "rddRightJoin = rddkv1.rightOuterJoin(rddkv2)\n",
        "print(rddRightJoin.collect())"
      ],
      "metadata": {
        "colab": {
          "base_uri": "https://localhost:8080/"
        },
        "id": "VxJ1n1TZHuEc",
        "outputId": "831a5678-91d8-44f7-a368-99d50b1f1f36"
      },
      "execution_count": null,
      "outputs": [
        {
          "output_type": "stream",
          "name": "stdout",
          "text": [
            "[(1, [111, 112]), (2, [121, 122]), (3, [131, 132]), (4, [141, 142])]\n",
            "[(1, [211, 212]), (2, [221, 222]), (3, [231, 232]), (5, [251, 252])]\n",
            "[(1, ([111, 112], [211, 212])), (2, ([121, 122], [221, 222])), (3, ([131, 132], [231, 232]))]\n",
            "[(4, ([141, 142], None)), (1, ([111, 112], [211, 212])), (2, ([121, 122], [221, 222])), (3, ([131, 132], [231, 232]))]\n",
            "[(1, ([111, 112], [211, 212])), (5, (None, [251, 252])), (2, ([121, 122], [221, 222])), (3, ([131, 132], [231, 232]))]\n"
          ]
        }
      ]
    },
    {
      "cell_type": "code",
      "source": [
        "#union & subtract\n",
        "rdd1 = sparkContext.parallelize([1,2,3,4,5])\n",
        "rdd2 = sparkContext.parallelize([4,5,6,7,8])\n",
        "rddUnion = rdd1.union(rdd2)\n",
        "print(rddUnion.collect())\n",
        "rddSubtraction = rdd1.subtract(rdd2)\n",
        "print(rddSubtraction.collect())"
      ],
      "metadata": {
        "colab": {
          "base_uri": "https://localhost:8080/"
        },
        "id": "NFy06_c4IqbM",
        "outputId": "30be9aba-42e1-4635-f361-670bfeb38406"
      },
      "execution_count": null,
      "outputs": [
        {
          "output_type": "stream",
          "name": "stdout",
          "text": [
            "[1, 2, 3, 4, 5, 4, 5, 6, 7, 8]\n",
            "[1, 2, 3]\n"
          ]
        }
      ]
    },
    {
      "cell_type": "code",
      "source": [
        "#repartition & coalesce\n",
        "print(rddJoin.getNumPartitions())\n",
        "rddJoin = rddJoin.repartition(8)\n",
        "print(rddJoin.getNumPartitions())\n",
        "rddJoin = rddJoin.coalesce(3) #--> solo se puede reducir el número de particiones y para hacer reducción es más eficiente que repartition\n",
        "print(rddJoin.getNumPartitions())"
      ],
      "metadata": {
        "colab": {
          "base_uri": "https://localhost:8080/"
        },
        "id": "JrHzak7LIoVM",
        "outputId": "af27a2a0-18f1-4042-e720-37eada111a15"
      },
      "execution_count": null,
      "outputs": [
        {
          "output_type": "stream",
          "name": "stdout",
          "text": [
            "4\n",
            "8\n",
            "3\n"
          ]
        }
      ]
    },
    {
      "cell_type": "code",
      "source": [
        "#reduce & reduceByKey\n",
        "rddReduce = rdd.reduce(add)\n",
        "print(rddReduce)\n",
        "\n",
        "letters = ['a','b','c','c','c','d','d','e']\n",
        "rddLetters = sparkContext.parallelize(letters)\n",
        "rddLetters = rddLetters.map(lambda x: (x,1))\n",
        "print(rddLetters.collect())\n",
        "rddLetters = rddLetters.reduceByKey(add)\n",
        "print(rddLetters.collect())"
      ],
      "metadata": {
        "colab": {
          "base_uri": "https://localhost:8080/"
        },
        "id": "sdHYaIDbjn6j",
        "outputId": "017c441b-e03b-4562-8412-6e363dd565a0"
      },
      "execution_count": null,
      "outputs": [
        {
          "output_type": "stream",
          "name": "stdout",
          "text": [
            "15\n",
            "[('a', 1), ('b', 1), ('c', 1), ('c', 1), ('c', 1), ('d', 1), ('d', 1), ('e', 1)]\n",
            "[('b', 1), ('c', 3), ('d', 2), ('a', 1), ('e', 1)]\n"
          ]
        }
      ]
    },
    {
      "cell_type": "code",
      "source": [
        "#take & first\n",
        "print(rddLetters.take(3))\n",
        "print(rddLetters.first())\n",
        "print(rddLetters.first())"
      ],
      "metadata": {
        "colab": {
          "base_uri": "https://localhost:8080/"
        },
        "id": "MtZIKU7Pr_NN",
        "outputId": "71ceb0bb-39ee-4519-8564-313f9209584d"
      },
      "execution_count": null,
      "outputs": [
        {
          "output_type": "stream",
          "name": "stdout",
          "text": [
            "[('b', 1), ('c', 3), ('d', 2)]\n",
            "('b', 1)\n",
            "('b', 1)\n"
          ]
        }
      ]
    },
    {
      "cell_type": "code",
      "source": [],
      "metadata": {
        "id": "4_AwlV1vm-ne"
      },
      "execution_count": null,
      "outputs": []
    },
    {
      "cell_type": "code",
      "source": [
        "#count\n",
        "print(rdd.count())"
      ],
      "metadata": {
        "colab": {
          "base_uri": "https://localhost:8080/"
        },
        "id": "07JVa69euFuj",
        "outputId": "5da20e6d-01fd-4542-d244-d238f437bb2e"
      },
      "execution_count": null,
      "outputs": [
        {
          "output_type": "stream",
          "name": "stdout",
          "text": [
            "5\n"
          ]
        }
      ]
    },
    {
      "cell_type": "code",
      "source": [
        "#for each --> no devuelve ningún resultado, es solo para aplicar algo sobre todos los elementos del RDD\n",
        "def printElement(x):\n",
        "  print(x) #--> esto no funciona porque el print se está haciendo en cada cluster no en el controlador\n",
        "  #sirve para ejecutar tareas con los elementos del rdd pero que puedan ser ejecutadas desde cada uno de los nodos ejecutores.\n",
        "#End printElement\n",
        "rdd.foreach(printElement)"
      ],
      "metadata": {
        "id": "Pinzu_fBS0S4"
      },
      "execution_count": null,
      "outputs": []
    },
    {
      "cell_type": "code",
      "source": [
        "#aggregate\n",
        "#Esto se hace con tuplas, pero fuerzo un poco las cosas para hacerlo con un diccionario\n",
        "acumuladorZero = {'suma':0, 'contador':0}\n",
        "def acumulacion(acumulador, nuevoValor):\n",
        "  suma = acumulador['suma'] + nuevoValor\n",
        "  contador = acumulador['contador'] + 1\n",
        "  return {'suma':suma, 'contador':contador}\n",
        "#End acumulacion\n",
        "def agregacion(acumulador1, acumulador2):\n",
        "  suma = acumulador1['suma'] + acumulador2['suma']\n",
        "  contador = acumulador1['contador'] + acumulador2['contador']\n",
        "  return {'suma':suma, 'contador':contador}\n",
        "#End agregacion\n",
        "acumuladorFinal = rdd.aggregate(acumuladorZero, acumulacion, agregacion)\n",
        "print(acumuladorFinal)\n",
        "print('Promedio: ', str(acumuladorFinal['suma']/acumuladorFinal['contador']))"
      ],
      "metadata": {
        "colab": {
          "base_uri": "https://localhost:8080/"
        },
        "id": "J410kglGTcit",
        "outputId": "d50109be-e115-4b4a-c130-565ca686b6fc"
      },
      "execution_count": null,
      "outputs": [
        {
          "output_type": "stream",
          "name": "stdout",
          "text": [
            "{'suma': 15, 'contador': 5}\n",
            "Promedio:  3.0\n"
          ]
        }
      ]
    },
    {
      "cell_type": "code",
      "source": [
        "#saveAsTextFile --> ejecutado en local, genera una carpeta y dentro de ella los ficheros correspondientes a cada partición\n",
        "rdd.repartition(4)\n",
        "rdd.saveAsTextFile('save')"
      ],
      "metadata": {
        "id": "tjcTWkKRY1VJ"
      },
      "execution_count": null,
      "outputs": []
    },
    {
      "cell_type": "code",
      "source": [
        "#takeOrderer\n",
        "#más eficiente que orderby y después extraer los n primeros elementos.\n",
        "#takeOrderer no necesita ordenar todo el rdd como si hace orderby\n",
        "print(rdd.takeOrdered(3))\n",
        "print(rdd.takeOrdered(3, key = lambda x: -x))"
      ],
      "metadata": {
        "colab": {
          "base_uri": "https://localhost:8080/"
        },
        "id": "kr6v_gj3bCmn",
        "outputId": "02ed548b-c4e9-4af8-f933-b9ff24f9abd4"
      },
      "execution_count": null,
      "outputs": [
        {
          "output_type": "stream",
          "name": "stdout",
          "text": [
            "[1, 2, 3]\n",
            "[5, 4, 3]\n"
          ]
        }
      ]
    },
    {
      "cell_type": "code",
      "source": [
        "nu"
      ],
      "metadata": {
        "id": "JlOG4trnDsjB"
      },
      "execution_count": null,
      "outputs": []
    },
    {
      "cell_type": "code",
      "source": [
        "#histogram\n",
        "rdd3 = sparkContext.parallelize(range(0,500))\n",
        "rdd3 = rdd3.map(lambda x: x + random.randint(1,400))\n",
        "bins, frecuencies = rdd3.histogram(3)\n",
        "rdd3.coalesce(1)\n",
        "max = rdd3.max()\n",
        "min = rdd3.min()\n",
        "print('Max: ', max)\n",
        "print('Min: ', min)\n",
        "print('Bins: ', bins)\n",
        "print('Frecuencias: ', frecuencies)\n",
        "binsManual = [min-10, ((max-min)/2)+min, max+10]\n",
        "print(binsManual)\n",
        "binsManual, frecuenciesManual = rdd3.histogram(binsManual)\n",
        "print('Bins manual: ', binsManual, '; valores: ', sum(frecuencies))\n",
        "print('Frecuencias manual: ', frecuenciesManual, '; valores: ', sum(frecuenciesManual))\n"
      ],
      "metadata": {
        "colab": {
          "base_uri": "https://localhost:8080/"
        },
        "id": "h_weVZ2EoYle",
        "outputId": "87627bc4-3a65-4b6c-f9e7-32652d39e692"
      },
      "execution_count": null,
      "outputs": [
        {
          "output_type": "stream",
          "name": "stdout",
          "text": [
            "Max:  865\n",
            "Min:  27\n",
            "Bins:  [32.0, 309.6666666666667, 587.3333333333334, 865]\n",
            "Frecuencias:  [116, 269, 113]\n",
            "[17, 446.0, 875]\n",
            "Bins manual:  [17, 446.0, 875] ; valores:  498\n",
            "Frecuencias manual:  [232, 266] ; valores:  498\n"
          ]
        }
      ]
    },
    {
      "cell_type": "code",
      "source": [
        "#sortby\n",
        "rddSortBy = rdd3.sortBy(lambda x: x if x%2 == 0 else x+20) #los números impares avanzan 20 en el orden\n",
        "print(rddSortBy.take(20))"
      ],
      "metadata": {
        "colab": {
          "base_uri": "https://localhost:8080/"
        },
        "id": "DgI-_MLUv24L",
        "outputId": "dd5ec3db-f1e9-4d86-e2cc-1c633056c14c"
      },
      "execution_count": null,
      "outputs": [
        {
          "output_type": "stream",
          "name": "stdout",
          "text": [
            "[46, 50, 56, 41, 49, 70, 70, 51, 72, 80, 61, 65, 92, 83, 106, 112, 118, 101, 109, 109]\n"
          ]
        }
      ]
    },
    {
      "cell_type": "code",
      "source": [
        "#countbykey\n",
        "rdd4 = sparkContext.parallelize(range(1,10))\n",
        "keys = ['a','b','c','d']\n",
        "rdd4 = rdd4.map(lambda x: (random.choice(keys), x))\n",
        "print(rdd4.collect())\n",
        "print(rdd4.countByKey().items())\n"
      ],
      "metadata": {
        "colab": {
          "base_uri": "https://localhost:8080/"
        },
        "id": "IrCRdWi7w_Yx",
        "outputId": "46da27e3-c86b-4e7f-ac51-5c732e4950a7"
      },
      "execution_count": null,
      "outputs": [
        {
          "output_type": "stream",
          "name": "stdout",
          "text": [
            "[('a', 1), ('c', 2), ('d', 3), ('b', 4), ('c', 5), ('c', 6), ('a', 7), ('b', 8), ('d', 9)]\n",
            "dict_items([('a', 4), ('b', 2), ('c', 2), ('d', 1)])\n"
          ]
        }
      ]
    },
    {
      "cell_type": "code",
      "source": [
        "#top --> devuelve los n primeros valores ordenados\n",
        "print(rdd3.top(5))\n",
        "print(rdd3.top(5, lambda x: -x))\n"
      ],
      "metadata": {
        "colab": {
          "base_uri": "https://localhost:8080/"
        },
        "id": "4tEhym-77Raw",
        "outputId": "eb608367-334d-4b9a-c56b-522ab26a1cd6"
      },
      "execution_count": null,
      "outputs": [
        {
          "output_type": "stream",
          "name": "stdout",
          "text": [
            "[871, 870, 864, 858, 839]\n",
            "[12, 21, 31, 40, 47]\n"
          ]
        }
      ]
    },
    {
      "cell_type": "code",
      "source": [],
      "metadata": {
        "id": "5eEdF9bd_zVq"
      },
      "execution_count": null,
      "outputs": []
    }
  ]
}