{
  "nbformat": 4,
  "nbformat_minor": 0,
  "metadata": {
    "colab": {
      "provenance": [],
      "mount_file_id": "1mgGBeOB2HpiyfeNZfSN_Is6miGdgZofX",
      "authorship_tag": "ABX9TyPTmhwU0P78GHaG2XDYt7HT",
      "include_colab_link": true
    },
    "kernelspec": {
      "name": "python3",
      "display_name": "Python 3"
    },
    "language_info": {
      "name": "python"
    }
  },
  "cells": [
    {
      "cell_type": "markdown",
      "metadata": {
        "id": "view-in-github",
        "colab_type": "text"
      },
      "source": [
        "<a href=\"https://colab.research.google.com/github/luismiguelmartinluengo/Test_in_Colab/blob/main/Introduction_PySpark_SalesStore.ipynb\" target=\"_parent\"><img src=\"https://colab.research.google.com/assets/colab-badge.svg\" alt=\"Open In Colab\"/></a>"
      ]
    },
    {
      "cell_type": "markdown",
      "source": [
        "## Imports, variables y creación de la sesión"
      ],
      "metadata": {
        "id": "1LcA0NesxqYE"
      }
    },
    {
      "cell_type": "code",
      "source": [
        "import pyspark\n",
        "from pyspark.sql.functions import *\n",
        "from pyspark.sql import SparkSession\n",
        "from pyspark.sql.types import IntegerType, FloatType\n",
        "from pyspark.sql.window import Window\n",
        "import os\n",
        "import math"
      ],
      "metadata": {
        "id": "ZnsRR5lbxiyw"
      },
      "execution_count": 47,
      "outputs": []
    },
    {
      "cell_type": "code",
      "source": [
        "ruta_fichero = 'drive/MyDrive/Colab Notebooks/Ficheros de prueba/Superstore.csv'"
      ],
      "metadata": {
        "id": "mj19kVw8x4l3"
      },
      "execution_count": null,
      "outputs": []
    },
    {
      "cell_type": "code",
      "source": [
        "ss = SparkSession.builder.appName(\"MiAppSpark\").getOrCreate()"
      ],
      "metadata": {
        "colab": {
          "base_uri": "https://localhost:8080/"
        },
        "id": "La4D4gXezJWy",
        "outputId": "18c87703-487b-4abb-e548-73400c749b60"
      },
      "execution_count": null,
      "outputs": [
        {
          "output_type": "stream",
          "name": "stdout",
          "text": [
            "El data frame tiene 9994 filas\n",
            "+------+--------------+----------+----------+--------------+-----------+---------------+---------+-------------+---------------+----------+-----------+------+---------------+---------------+------------+--------------------+--------+--------+--------+--------+\n",
            "|Row ID|      Order ID|Order Date| Ship Date|     Ship Mode|Customer ID|  Customer Name|  Segment|      Country|           City|     State|Postal Code|Region|     Product ID|       Category|Sub-Category|        Product Name|   Sales|Quantity|Discount|  Profit|\n",
            "+------+--------------+----------+----------+--------------+-----------+---------------+---------+-------------+---------------+----------+-----------+------+---------------+---------------+------------+--------------------+--------+--------+--------+--------+\n",
            "|     1|CA-2016-152156| 11/8/2016|11/11/2016|  Second Class|   CG-12520|    Claire Gute| Consumer|United States|      Henderson|  Kentucky|      42420| South|FUR-BO-10001798|      Furniture|   Bookcases|Bush Somerset Col...|  261.96|       2|       0| 41.9136|\n",
            "|     2|CA-2016-152156| 11/8/2016|11/11/2016|  Second Class|   CG-12520|    Claire Gute| Consumer|United States|      Henderson|  Kentucky|      42420| South|FUR-CH-10000454|      Furniture|      Chairs|Hon Deluxe Fabric...|  731.94|       3|       0| 219.582|\n",
            "|     3|CA-2016-138688| 6/12/2016| 6/16/2016|  Second Class|   DV-13045|Darrin Van Huff|Corporate|United States|    Los Angeles|California|      90036|  West|OFF-LA-10000240|Office Supplies|      Labels|Self-Adhesive Add...|   14.62|       2|       0|  6.8714|\n",
            "|     4|US-2015-108966|10/11/2015|10/18/2015|Standard Class|   SO-20335| Sean O'Donnell| Consumer|United States|Fort Lauderdale|   Florida|      33311| South|FUR-TA-10000577|      Furniture|      Tables|Bretford CR4500 S...|957.5775|       5|    0.45|-383.031|\n",
            "|     5|US-2015-108966|10/11/2015|10/18/2015|Standard Class|   SO-20335| Sean O'Donnell| Consumer|United States|Fort Lauderdale|   Florida|      33311| South|OFF-ST-10000760|Office Supplies|     Storage|Eldon Fold 'N Rol...|  22.368|       2|     0.2|  2.5164|\n",
            "+------+--------------+----------+----------+--------------+-----------+---------------+---------+-------------+---------------+----------+-----------+------+---------------+---------------+------------+--------------------+--------+--------+--------+--------+\n",
            "only showing top 5 rows\n",
            "\n"
          ]
        }
      ]
    },
    {
      "cell_type": "markdown",
      "source": [
        "## Carga de datos y adaptación del esquema"
      ],
      "metadata": {
        "id": "C2Br4a6RZ005"
      }
    },
    {
      "cell_type": "code",
      "source": [
        "df = ss.read.csv(ruta_fichero, header=True, inferSchema=True)\n",
        "print('El data frame tiene {} filas'.format(df.count()))\n",
        "df.show(5)"
      ],
      "metadata": {
        "colab": {
          "base_uri": "https://localhost:8080/"
        },
        "id": "x1p-hyWeaVm2",
        "outputId": "f834b3be-b173-4e6e-af90-8d7fd7397073"
      },
      "execution_count": 11,
      "outputs": [
        {
          "output_type": "stream",
          "name": "stdout",
          "text": [
            "El data frame tiene 9994 filas\n",
            "+------+--------------+----------+----------+--------------+-----------+---------------+---------+-------------+---------------+----------+-----------+------+---------------+---------------+------------+--------------------+--------+--------+--------+--------+\n",
            "|Row ID|      Order ID|Order Date| Ship Date|     Ship Mode|Customer ID|  Customer Name|  Segment|      Country|           City|     State|Postal Code|Region|     Product ID|       Category|Sub-Category|        Product Name|   Sales|Quantity|Discount|  Profit|\n",
            "+------+--------------+----------+----------+--------------+-----------+---------------+---------+-------------+---------------+----------+-----------+------+---------------+---------------+------------+--------------------+--------+--------+--------+--------+\n",
            "|     1|CA-2016-152156| 11/8/2016|11/11/2016|  Second Class|   CG-12520|    Claire Gute| Consumer|United States|      Henderson|  Kentucky|      42420| South|FUR-BO-10001798|      Furniture|   Bookcases|Bush Somerset Col...|  261.96|       2|       0| 41.9136|\n",
            "|     2|CA-2016-152156| 11/8/2016|11/11/2016|  Second Class|   CG-12520|    Claire Gute| Consumer|United States|      Henderson|  Kentucky|      42420| South|FUR-CH-10000454|      Furniture|      Chairs|Hon Deluxe Fabric...|  731.94|       3|       0| 219.582|\n",
            "|     3|CA-2016-138688| 6/12/2016| 6/16/2016|  Second Class|   DV-13045|Darrin Van Huff|Corporate|United States|    Los Angeles|California|      90036|  West|OFF-LA-10000240|Office Supplies|      Labels|Self-Adhesive Add...|   14.62|       2|       0|  6.8714|\n",
            "|     4|US-2015-108966|10/11/2015|10/18/2015|Standard Class|   SO-20335| Sean O'Donnell| Consumer|United States|Fort Lauderdale|   Florida|      33311| South|FUR-TA-10000577|      Furniture|      Tables|Bretford CR4500 S...|957.5775|       5|    0.45|-383.031|\n",
            "|     5|US-2015-108966|10/11/2015|10/18/2015|Standard Class|   SO-20335| Sean O'Donnell| Consumer|United States|Fort Lauderdale|   Florida|      33311| South|OFF-ST-10000760|Office Supplies|     Storage|Eldon Fold 'N Rol...|  22.368|       2|     0.2|  2.5164|\n",
            "+------+--------------+----------+----------+--------------+-----------+---------------+---------+-------------+---------------+----------+-----------+------+---------------+---------------+------------+--------------------+--------+--------+--------+--------+\n",
            "only showing top 5 rows\n",
            "\n"
          ]
        }
      ]
    },
    {
      "cell_type": "code",
      "source": [
        "df = df.withColumns({\"Quantity\":col(\"Quantity\").cast(IntegerType()),\n",
        "                     \"Sales\":col(\"Sales\").cast(FloatType())})\n",
        "df.printSchema()"
      ],
      "metadata": {
        "colab": {
          "base_uri": "https://localhost:8080/"
        },
        "id": "VQA6A2AWztTE",
        "outputId": "49101d54-1f05-40da-f1a1-611ab03edd2c"
      },
      "execution_count": 31,
      "outputs": [
        {
          "output_type": "stream",
          "name": "stdout",
          "text": [
            "root\n",
            " |-- Row ID: integer (nullable = true)\n",
            " |-- Order ID: string (nullable = true)\n",
            " |-- Order Date: string (nullable = true)\n",
            " |-- Ship Date: string (nullable = true)\n",
            " |-- Ship Mode: string (nullable = true)\n",
            " |-- Customer ID: string (nullable = true)\n",
            " |-- Customer Name: string (nullable = true)\n",
            " |-- Segment: string (nullable = true)\n",
            " |-- Country: string (nullable = true)\n",
            " |-- City: string (nullable = true)\n",
            " |-- State: string (nullable = true)\n",
            " |-- Postal Code: integer (nullable = true)\n",
            " |-- Region: string (nullable = true)\n",
            " |-- Product ID: string (nullable = true)\n",
            " |-- Category: string (nullable = true)\n",
            " |-- Sub-Category: string (nullable = true)\n",
            " |-- Product Name: string (nullable = true)\n",
            " |-- Sales: float (nullable = true)\n",
            " |-- Quantity: integer (nullable = true)\n",
            " |-- Discount: string (nullable = true)\n",
            " |-- Profit: double (nullable = true)\n",
            "\n"
          ]
        }
      ]
    },
    {
      "cell_type": "markdown",
      "source": [
        "## Análisis"
      ],
      "metadata": {
        "id": "WsKXrctNnYAo"
      }
    },
    {
      "cell_type": "markdown",
      "source": [
        "**Categoría con más unidades vendidas**"
      ],
      "metadata": {
        "id": "OwbNSxy6ndC_"
      }
    },
    {
      "cell_type": "code",
      "source": [
        "ventas_por_categoria = df.groupBy(\"Category\").agg(sum(\"Quantity\").alias(\"Total Quantity\"))\n",
        "categoria_mas_ventas = ventas_por_categoria.orderBy(col(\"Total Quantity\").desc()).first()\n",
        "print(f\"'{categoria_mas_ventas['Category']}' es la categoría con más ventas, con un total de {categoria_mas_ventas['Total Quantity']} unidades vendidas\")"
      ],
      "metadata": {
        "colab": {
          "base_uri": "https://localhost:8080/"
        },
        "id": "LGJ34lFrzz5E",
        "outputId": "933270ae-be5b-4aed-fa22-bde452ee9b95"
      },
      "execution_count": 14,
      "outputs": [
        {
          "output_type": "stream",
          "name": "stdout",
          "text": [
            "'Office Supplies' es la categoría con más ventas, con un total de 36739 unidades vendidas\n"
          ]
        }
      ]
    },
    {
      "cell_type": "markdown",
      "source": [
        "**Categoría con mayores ingresos**"
      ],
      "metadata": {
        "id": "pAar_o50niCw"
      }
    },
    {
      "cell_type": "code",
      "source": [
        "ingresos_por_categoria = df.groupBy(\"Category\").agg(sum(\"Sales\").alias(\"Total Sales\"))\n",
        "categoria_mayor_ingresos = ingresos_por_categoria.orderBy(col(\"Total Sales\").desc()).limit(1)\n",
        "categoria_mayor_ingresos = categoria_mayor_ingresos.withColumn(\"Total Sales\", round(categoria_mayor_ingresos[\"Total Sales\"],2)).first()\n",
        "print(f\"'{categoria_mayor_ingresos['Category']}' es la categoría con más ingresos, con un total de {categoria_mayor_ingresos['Total Sales']} (moneda) ingresados\")"
      ],
      "metadata": {
        "colab": {
          "base_uri": "https://localhost:8080/"
        },
        "id": "LsmkmHvsa4Wb",
        "outputId": "d7b35c5a-0ac3-487b-8de6-d6b391fe2010"
      },
      "execution_count": 24,
      "outputs": [
        {
          "output_type": "stream",
          "name": "stdout",
          "text": [
            "'Technology' es la categoría con más ingresos, con un total de 835900.07 (moneda) ingresados\n"
          ]
        }
      ]
    },
    {
      "cell_type": "markdown",
      "source": [
        "**Categoría con mayor beneficio**"
      ],
      "metadata": {
        "id": "gBilCT23nvNm"
      }
    },
    {
      "cell_type": "code",
      "source": [
        "# prompt: Mismo cálculo que la celda anterior pero para calcular los beneficios basados en la columna profit\n",
        "\n",
        "beneficios_por_categoria = df.groupBy(\"Category\").agg(sum(\"Profit\").alias(\"Total Profit\"))\n",
        "categoria_mayor_beneficios = beneficios_por_categoria.orderBy(col(\"Total Profit\").desc()).limit(1)\n",
        "categoria_mayor_beneficios = categoria_mayor_beneficios.withColumn(\"Total Profit\", round(categoria_mayor_beneficios[\"Total Profit\"],2)).first()\n",
        "print(f\"'{categoria_mayor_beneficios['Category']}' es la categoría con más beneficios, con un total de {categoria_mayor_beneficios['Total Profit']} (moneda) de beneficio\")\n"
      ],
      "metadata": {
        "colab": {
          "base_uri": "https://localhost:8080/"
        },
        "id": "ei-mHX9jhdNH",
        "outputId": "538552eb-b6f9-4eee-9732-5c1743ee1109"
      },
      "execution_count": 25,
      "outputs": [
        {
          "output_type": "stream",
          "name": "stdout",
          "text": [
            "'Technology' es la categoría con más beneficios, con un total de 145388.3 (moneda) de beneficio\n"
          ]
        }
      ]
    },
    {
      "cell_type": "markdown",
      "source": [
        "**Top 10 clientes con mayores ventas**"
      ],
      "metadata": {
        "id": "oSjW8mrKn9gU"
      }
    },
    {
      "cell_type": "code",
      "source": [
        "ventas_x_cliente = df.groupBy(\"Customer Name\").agg(sum(\"Sales\").alias(\"Total Sales\"))\\\n",
        "                           .orderBy('Total Sales', ascending = False)\\\n",
        "                           .limit(10)\\\n",
        "                           .withColumn(\"Total Sales\", round(col(\"Total Sales\"),2))\n",
        "ventas_x_cliente.show()\n"
      ],
      "metadata": {
        "colab": {
          "base_uri": "https://localhost:8080/"
        },
        "id": "o1T1IhuVlbJF",
        "outputId": "dd029247-fba4-444d-9ce0-3e879b3be2a7"
      },
      "execution_count": 43,
      "outputs": [
        {
          "output_type": "stream",
          "name": "stdout",
          "text": [
            "+------------------+-----------+\n",
            "|     Customer Name|Total Sales|\n",
            "+------------------+-----------+\n",
            "|       Sean Miller|   25043.05|\n",
            "|      Tamara Chand|   19017.85|\n",
            "|      Raymond Buch|   15117.34|\n",
            "|      Tom Ashbrook|   14595.62|\n",
            "|     Adrian Barton|   14355.61|\n",
            "|      Sanjit Chand|   14142.33|\n",
            "|      Ken Lonsdale|   14071.92|\n",
            "|      Hunter Lopez|    12873.3|\n",
            "|      Sanjit Engle|   12209.44|\n",
            "|Christopher Conant|   12129.07|\n",
            "+------------------+-----------+\n",
            "\n"
          ]
        }
      ]
    },
    {
      "cell_type": "markdown",
      "source": [
        "**Categoría con más unidades vendidas para cada tipo de cliente**"
      ],
      "metadata": {
        "id": "w3j_Nyp4o7nl"
      }
    },
    {
      "cell_type": "code",
      "source": [
        "cat_seg_quantity = df.groupBy(\"Segment\", \"Category\").agg(sum(\"Quantity\").alias(\"Total Quantity\"))\n",
        "particiones_segmento = Window.partitionBy(\"Segment\").orderBy(col(\"Total Quantity\").desc())\n",
        "cat_seg_quantity_max = cat_seg_quantity.withColumn(\"rank\", rank().over(particiones_segmento)) \\\n",
        "                                        .filter(col(\"rank\") == 1) \\\n",
        "                                        .drop(\"rank\")\n",
        "cat_seg_quantity_max.show()"
      ],
      "metadata": {
        "colab": {
          "base_uri": "https://localhost:8080/"
        },
        "id": "iIaG2NbPl4Gv",
        "outputId": "520bfae7-9bdc-4eb5-af34-11f62e0ac321"
      },
      "execution_count": 48,
      "outputs": [
        {
          "output_type": "stream",
          "name": "stdout",
          "text": [
            "+-----------+---------------+--------------+\n",
            "|    Segment|       Category|Total Quantity|\n",
            "+-----------+---------------+--------------+\n",
            "|   Consumer|Office Supplies|         17122|\n",
            "|  Corporate|Office Supplies|         13110|\n",
            "|Home Office|Office Supplies|          6507|\n",
            "+-----------+---------------+--------------+\n",
            "\n"
          ]
        }
      ]
    },
    {
      "cell_type": "code",
      "source": [],
      "metadata": {
        "id": "pGOE5QjZp3_F"
      },
      "execution_count": null,
      "outputs": []
    }
  ]
}