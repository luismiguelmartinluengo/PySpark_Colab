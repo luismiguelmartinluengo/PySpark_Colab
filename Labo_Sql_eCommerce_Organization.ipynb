{
  "nbformat": 4,
  "nbformat_minor": 0,
  "metadata": {
    "colab": {
      "provenance": [],
      "mount_file_id": "1aB2XLO3mw7TKrcfZhud-xvORgT6agpHb",
      "authorship_tag": "ABX9TyPOyIoWfXhWi25juKlilWnD",
      "include_colab_link": true
    },
    "kernelspec": {
      "name": "python3",
      "display_name": "Python 3"
    },
    "language_info": {
      "name": "python"
    }
  },
  "cells": [
    {
      "cell_type": "markdown",
      "metadata": {
        "id": "view-in-github",
        "colab_type": "text"
      },
      "source": [
        "<a href=\"https://colab.research.google.com/github/luismiguelmartinluengo/PySpark_Demos/blob/main/Labo_Sql_eCommerce_Organization.ipynb\" target=\"_parent\"><img src=\"https://colab.research.google.com/assets/colab-badge.svg\" alt=\"Open In Colab\"/></a>"
      ]
    },
    {
      "cell_type": "code",
      "source": [
        "from google.colab import drive\n",
        "drive.mount('/content/drive')"
      ],
      "metadata": {
        "id": "Kq6yzMYuisdB"
      },
      "execution_count": null,
      "outputs": []
    },
    {
      "cell_type": "code",
      "source": [
        "from pyspark.sql import SparkSession\n",
        "from pyspark.sql.types import *\n",
        "from pyspark.sql.functions import lower, upper, avg, min, max, sum"
      ],
      "metadata": {
        "id": "wy0E4YaKix6M"
      },
      "execution_count": 1,
      "outputs": []
    },
    {
      "cell_type": "code",
      "source": [
        "sparkSession = SparkSession.builder.appName('Labo Sql eCommerce Organization').getOrCreate()"
      ],
      "metadata": {
        "id": "dHrSs6vii2VH"
      },
      "execution_count": 2,
      "outputs": []
    },
    {
      "cell_type": "code",
      "source": [
        "customers = sparkSession.read.csv('/content/drive/MyDrive/Colab Notebooks/data/customers.csv',\n",
        "                                  header = True,\n",
        "                                  inferSchema = True)\n",
        "customers.printSchema()\n",
        "customers.show(5)"
      ],
      "metadata": {
        "id": "UGDqyxtCvzC1",
        "colab": {
          "base_uri": "https://localhost:8080/"
        },
        "outputId": "dcf47d8f-284e-414c-f5e6-d98765980756"
      },
      "execution_count": 37,
      "outputs": [
        {
          "output_type": "stream",
          "name": "stdout",
          "text": [
            "root\n",
            " |-- customer_id: integer (nullable = true)\n",
            " |-- name: string (nullable = true)\n",
            " |-- email: string (nullable = true)\n",
            " |-- join_date: date (nullable = true)\n",
            " |-- country: string (nullable = true)\n",
            " |-- loyalty_points: integer (nullable = true)\n",
            "\n",
            "+-----------+-----------------+--------------------+----------+-------------+--------------+\n",
            "|customer_id|             name|               email| join_date|      country|loyalty_points|\n",
            "+-----------+-----------------+--------------------+----------+-------------+--------------+\n",
            "|          1|     Norma Fisher| ysullivan@yahoo.com|2023-10-23|Guinea-Bissau|          6311|\n",
            "|          2|     Susan Wagner|katelynmontgomery...|2024-04-14|      Romania|          6890|\n",
            "|          3|Stephanie Collins|thomas15@stewart-...|2024-06-15|      Lesotho|           663|\n",
            "|          4|     Joseph Brown|cortezraymond@gar...|2021-10-30|  Saint Lucia|          4242|\n",
            "|          5|         Seth Lee|lindathomas@west.net|2023-12-02|     Botswana|          8376|\n",
            "+-----------+-----------------+--------------------+----------+-------------+--------------+\n",
            "only showing top 5 rows\n",
            "\n"
          ]
        }
      ]
    },
    {
      "cell_type": "code",
      "source": [
        "purchases = sparkSession.read.csv('/content/drive/MyDrive/Colab Notebooks/data/purchases.csv',\n",
        "                                  header = True,\n",
        "                                  inferSchema = True)\n",
        "purchases.printSchema()\n",
        "purchases.show(5)"
      ],
      "metadata": {
        "colab": {
          "base_uri": "https://localhost:8080/"
        },
        "id": "1XhmphPmJB6b",
        "outputId": "cdc567ee-92c0-470b-9ee0-601f9348d608"
      },
      "execution_count": 38,
      "outputs": [
        {
          "output_type": "stream",
          "name": "stdout",
          "text": [
            "root\n",
            " |-- purchase_id: integer (nullable = true)\n",
            " |-- customer_id: integer (nullable = true)\n",
            " |-- purchase_amount: double (nullable = true)\n",
            " |-- purchase_date: date (nullable = true)\n",
            " |-- product_category: string (nullable = true)\n",
            " |-- payment_method: string (nullable = true)\n",
            "\n",
            "+-----------+-----------+---------------+-------------+----------------+--------------+\n",
            "|purchase_id|customer_id|purchase_amount|purchase_date|product_category|payment_method|\n",
            "+-----------+-----------+---------------+-------------+----------------+--------------+\n",
            "|          1|         67|          263.9|   2023-09-12|          Beauty|        PayPal|\n",
            "|          2|        240|         192.87|   2023-11-05|           Books|        PayPal|\n",
            "|          3|        597|          93.98|   2024-09-28|     Electronics| Bank Transfer|\n",
            "|          4|        517|         170.66|   2024-04-25|            Toys|   Credit Card|\n",
            "|          5|        832|          73.61|   2023-02-20|           Books|    Debit Card|\n",
            "+-----------+-----------+---------------+-------------+----------------+--------------+\n",
            "only showing top 5 rows\n",
            "\n"
          ]
        }
      ]
    },
    {
      "cell_type": "code",
      "source": [
        "#Esta notación no unifica el campo de unión y obliga a quitarlo explícitamente para tener un dataframe limpio. No me gusta\n",
        "#df = customers.join(purchases, customers.customer_id == purchases.customer_id, how='inner').drop(purchases.customer_id)\n",
        "#Mejor usar la que es similar a pandas.merge\n",
        "cp = customers.join(purchases, on = 'customer_id', how='inner')\n",
        "cp.show(5)"
      ],
      "metadata": {
        "colab": {
          "base_uri": "https://localhost:8080/"
        },
        "id": "OCwjI2KtunPt",
        "outputId": "c74469d6-2086-497f-db9a-3a55f26881dd"
      },
      "execution_count": 39,
      "outputs": [
        {
          "output_type": "stream",
          "name": "stdout",
          "text": [
            "+-----------+-----------------+--------------------+----------+-------------+--------------+-----------+---------------+-------------+----------------+--------------+\n",
            "|customer_id|             name|               email| join_date|      country|loyalty_points|purchase_id|purchase_amount|purchase_date|product_category|payment_method|\n",
            "+-----------+-----------------+--------------------+----------+-------------+--------------+-----------+---------------+-------------+----------------+--------------+\n",
            "|          1|     Norma Fisher| ysullivan@yahoo.com|2023-10-23|Guinea-Bissau|          6311|        642|         317.67|   2023-02-15|          Beauty|        PayPal|\n",
            "|          2|     Susan Wagner|katelynmontgomery...|2024-04-14|      Romania|          6890|        455|         407.47|   2023-08-20|         Fashion|     Gift Card|\n",
            "|          3|Stephanie Collins|thomas15@stewart-...|2024-06-15|      Lesotho|           663|        714|          157.4|   2024-03-02|          Beauty|    Debit Card|\n",
            "|          4|     Joseph Brown|cortezraymond@gar...|2021-10-30|  Saint Lucia|          4242|        151|          28.71|   2024-02-26|     Electronics| Bank Transfer|\n",
            "|          5|         Seth Lee|lindathomas@west.net|2023-12-02|     Botswana|          8376|         95|          43.99|   2023-02-04|          Beauty|   Credit Card|\n",
            "+-----------+-----------------+--------------------+----------+-------------+--------------+-----------+---------------+-------------+----------------+--------------+\n",
            "only showing top 5 rows\n",
            "\n"
          ]
        }
      ]
    },
    {
      "cell_type": "code",
      "source": [
        "cp.createOrReplaceTempView('cp')\n",
        "customers.createOrReplaceTempView('customers')\n",
        "purchases.createOrReplaceTempView('purchases')"
      ],
      "metadata": {
        "id": "gUc_cb1mwU6f"
      },
      "execution_count": 40,
      "outputs": []
    },
    {
      "cell_type": "code",
      "source": [
        "sqlCustomersTopPurchase = '''SELECT name AS Name, SUM(purchase_amount) as TotalPurchase\n",
        "                            FROM cp\n",
        "                            WHERE PURCHASE_DATE >= \"2024-01-01\"\n",
        "                            GROUP BY name\n",
        "                            ORDER BY TotalPurchase DESC\n",
        "                            LIMIT 3'''\n",
        "sparkSession.sql(sqlCustomersTopPurchase).show()"
      ],
      "metadata": {
        "colab": {
          "base_uri": "https://localhost:8080/"
        },
        "id": "AEkztlufzOHL",
        "outputId": "4fb3f161-a88d-45ca-81f3-433b3cc513e0"
      },
      "execution_count": 41,
      "outputs": [
        {
          "output_type": "stream",
          "name": "stdout",
          "text": [
            "+---------------+-------------+\n",
            "|           Name|TotalPurchase|\n",
            "+---------------+-------------+\n",
            "|      Mark Hart|      1301.17|\n",
            "|     Kevin Wade|        928.6|\n",
            "|Jonathan Gaines|       926.78|\n",
            "+---------------+-------------+\n",
            "\n"
          ]
        }
      ]
    },
    {
      "cell_type": "code",
      "source": [
        "sqlCustomersTopAvgPurchase = '''SELECT name AS Name, AVG(purchase_amount) as AveragePurchase\n",
        "                            FROM cp\n",
        "                            WHERE PURCHASE_DATE >= \"2024-01-01\"\n",
        "                            GROUP BY name\n",
        "                            ORDER BY AveragePurchase DESC\n",
        "                            LIMIT 3'''\n",
        "sparkSession.sql(sqlCustomersTopAvgPurchase).show()"
      ],
      "metadata": {
        "colab": {
          "base_uri": "https://localhost:8080/"
        },
        "id": "iQ0-v45vzdXq",
        "outputId": "720d0528-6b3a-489f-d59f-398bb67c475e"
      },
      "execution_count": 42,
      "outputs": [
        {
          "output_type": "stream",
          "name": "stdout",
          "text": [
            "+--------------+---------------+\n",
            "|          Name|AveragePurchase|\n",
            "+--------------+---------------+\n",
            "|  Diane Palmer|         498.16|\n",
            "|Jessica Dorsey|         493.67|\n",
            "| Sharon Farmer|         488.77|\n",
            "+--------------+---------------+\n",
            "\n"
          ]
        }
      ]
    },
    {
      "cell_type": "code",
      "source": [
        "#Madre mía, tienen la consulta mal. Travis Schultz no es cliente inactivo y sale en los resultados.\n",
        "sqlInactiveCustomers = '''SELECT c.customer_id, c.name, c.email\n",
        "                          FROM Customers c\n",
        "                            LEFT JOIN Purchases p ON c.customer_id = p.customer_id\n",
        "                          WHERE p.purchase_date IS NULL\n",
        "                             OR p.purchase_date < \"2023-01-01\"'''\n",
        "sparkSession.sql(sqlInactiveCustomers).show(10)\n",
        "#demostración del error\n",
        "purchases.filter(purchases.customer_id == 18).show(100, truncate = False)"
      ],
      "metadata": {
        "colab": {
          "base_uri": "https://localhost:8080/"
        },
        "id": "0WLysGoc4B5d",
        "outputId": "89a1f079-cc66-4e9a-ddbf-8361bcc0797a"
      },
      "execution_count": 55,
      "outputs": [
        {
          "output_type": "stream",
          "name": "stdout",
          "text": [
            "+-----------+------------------+--------------------+\n",
            "|customer_id|              name|               email|\n",
            "+-----------+------------------+--------------------+\n",
            "|         11|    Susan Ferguson|martinezjacob@wil...|\n",
            "|         15|     Michael Bruce|   david72@gmail.com|\n",
            "|         16|      Keith Romero|  paul42@hotmail.com|\n",
            "|         17|Gabriella Williams|johnbenton@yahoo.com|\n",
            "|         18|    Travis Schultz|  paul61@wheeler.com|\n",
            "|         21|     Sheri Burnett|monroedavid@moral...|\n",
            "|         24|       Diana Smith|eringrant@mays-br...|\n",
            "|         26|   Richard Johnson|edwardsilva@yahoo...|\n",
            "|         27|       Brian Cross|hayden81@powell-m...|\n",
            "|         28|      Karen Rogers|mendozaholly@yaho...|\n",
            "+-----------+------------------+--------------------+\n",
            "only showing top 10 rows\n",
            "\n",
            "+-----------+-----------+---------------+-------------+----------------+--------------+\n",
            "|purchase_id|customer_id|purchase_amount|purchase_date|product_category|payment_method|\n",
            "+-----------+-----------+---------------+-------------+----------------+--------------+\n",
            "|22         |18         |184.62         |2024-04-07   |Toys            |Credit Card   |\n",
            "|486        |18         |428.71         |2022-12-12   |Toys            |Bank Transfer |\n",
            "|499        |18         |182.21         |2024-05-27   |Beauty          |Gift Card     |\n",
            "|869        |18         |327.91         |2023-01-29   |Toys            |Debit Card    |\n",
            "|958        |18         |202.96         |2023-12-31   |Beauty          |Bank Transfer |\n",
            "+-----------+-----------+---------------+-------------+----------------+--------------+\n",
            "\n"
          ]
        }
      ]
    },
    {
      "cell_type": "code",
      "source": [
        "#consulta de clientes inactivos alternativa\n",
        "sqlInactiveCustomersAlt = '''SELECT c.customer_id, c.name, c.email, MAX(p.purchase_date) as LastPurchaseDate\n",
        "                          FROM Customers c\n",
        "                            LEFT JOIN Purchases p ON c.customer_id = p.customer_id\n",
        "                          GROUP BY c.customer_id, c.name, c.email\n",
        "                          HAVING (LastPurchaseDate IS NULL OR LastPurchaseDate < \"2023-01-01\")'''\n",
        "sparkSession.sql(sqlInactiveCustomersAlt).show(10)"
      ],
      "metadata": {
        "colab": {
          "base_uri": "https://localhost:8080/"
        },
        "id": "APryrffa6jB3",
        "outputId": "ede6bf87-07fa-4687-bb18-49bb1db818a2"
      },
      "execution_count": 65,
      "outputs": [
        {
          "output_type": "stream",
          "name": "stdout",
          "text": [
            "+-----------+--------------------+--------------------+----------------+\n",
            "|customer_id|                name|               email|LastPurchaseDate|\n",
            "+-----------+--------------------+--------------------+----------------+\n",
            "|        115|    Margaret Sanchez|webbpamela@hotmai...|            NULL|\n",
            "|        389|           John Knox|johnwilliams@brow...|            NULL|\n",
            "|        956|       Andrew Pierce|ramirezaustin@yah...|            NULL|\n",
            "|        586|Mr. Michael Mccul...| dbryan@martinez.net|            NULL|\n",
            "|        718|          Kathryn Li|elizabethphillips...|            NULL|\n",
            "|        248|   Kristopher Castro|ronalddrake@hotma...|            NULL|\n",
            "|        589|    Jacqueline Walls|robertsims@sulliv...|            NULL|\n",
            "|         11|      Susan Ferguson|martinezjacob@wil...|            NULL|\n",
            "|        489|           John Hill|travis59@sandoval...|            NULL|\n",
            "|        577|       Tiffany Carey|gonzalezcody@will...|      2022-12-10|\n",
            "+-----------+--------------------+--------------------+----------------+\n",
            "only showing top 10 rows\n",
            "\n"
          ]
        }
      ]
    },
    {
      "cell_type": "code",
      "source": [
        "purchases.filter(purchases.customer_id == 577).show(100, truncate = False)"
      ],
      "metadata": {
        "colab": {
          "base_uri": "https://localhost:8080/"
        },
        "id": "gMJCGYAi-gqs",
        "outputId": "5bb7275f-0f1c-426f-cd57-f7359da14675"
      },
      "execution_count": 67,
      "outputs": [
        {
          "output_type": "stream",
          "name": "stdout",
          "text": [
            "+-----------+-----------+---------------+-------------+----------------+--------------+\n",
            "|purchase_id|customer_id|purchase_amount|purchase_date|product_category|payment_method|\n",
            "+-----------+-----------+---------------+-------------+----------------+--------------+\n",
            "|741        |577        |76.34          |2022-12-10   |Home & Kitchen  |Credit Card   |\n",
            "+-----------+-----------+---------------+-------------+----------------+--------------+\n",
            "\n"
          ]
        }
      ]
    },
    {
      "cell_type": "code",
      "source": [
        "sales = sparkSession.read.csv('/content/drive/MyDrive/Colab Notebooks/data/sales_data.csv',\n",
        "                                  header = True,\n",
        "                                  inferSchema = True)\n",
        "sales.createOrReplaceTempView('sales')\n",
        "sales.printSchema()\n",
        "sales.show(5)"
      ],
      "metadata": {
        "colab": {
          "base_uri": "https://localhost:8080/"
        },
        "id": "ryWfn7i0-qN6",
        "outputId": "4fbaa212-e2be-41b6-d3ea-e0422d0964c8"
      },
      "execution_count": 70,
      "outputs": [
        {
          "output_type": "stream",
          "name": "stdout",
          "text": [
            "root\n",
            " |-- transaction_id: integer (nullable = true)\n",
            " |-- product_id: integer (nullable = true)\n",
            " |-- product_name: string (nullable = true)\n",
            " |-- quantity_sold: integer (nullable = true)\n",
            " |-- price_per_unit: double (nullable = true)\n",
            " |-- transaction_date: date (nullable = true)\n",
            " |-- region: string (nullable = true)\n",
            " |-- payment_method: string (nullable = true)\n",
            "\n",
            "+--------------+----------+---------------+-------------+--------------+----------------+-------------+--------------+\n",
            "|transaction_id|product_id|   product_name|quantity_sold|price_per_unit|transaction_date|       region|payment_method|\n",
            "+--------------+----------+---------------+-------------+--------------+----------------+-------------+--------------+\n",
            "|             1|      1002|         Laptop|            1|        754.47|      2024-02-15|       Europe|    Debit Card|\n",
            "|             2|      1003|     Headphones|            2|        692.86|      2023-01-01|       Africa|   Credit Card|\n",
            "|             3|      1010|Fitness Tracker|            7|         80.19|      2022-10-26|North America|    Debit Card|\n",
            "|             4|      1004|         Tablet|            9|        621.92|      2024-05-04|       Africa|    Debit Card|\n",
            "|             5|      1009| Gaming Console|            7|        259.42|      2023-05-08|       Africa|        PayPal|\n",
            "+--------------+----------+---------------+-------------+--------------+----------------+-------------+--------------+\n",
            "only showing top 5 rows\n",
            "\n"
          ]
        }
      ]
    },
    {
      "cell_type": "code",
      "source": [
        "sqlTotalRevenue = '''SELECT SUM(quantity_sold * price_per_unit) as TotalRevenue\n",
        "                     FROM sales'''\n",
        "sparkSession.sql(sqlTotalRevenue).show()"
      ],
      "metadata": {
        "colab": {
          "base_uri": "https://localhost:8080/"
        },
        "id": "yW9yB81zBHJu",
        "outputId": "f31652fe-bd18-4047-dffc-7d633c03278a"
      },
      "execution_count": 71,
      "outputs": [
        {
          "output_type": "stream",
          "name": "stdout",
          "text": [
            "+------------------+\n",
            "|      TotalRevenue|\n",
            "+------------------+\n",
            "|2886615.8699999982|\n",
            "+------------------+\n",
            "\n"
          ]
        }
      ]
    },
    {
      "cell_type": "code",
      "source": [
        "sqlTop5SellingProducts = '''SELECT product_name, SUM(quantity_sold) as TotalQuantitySold\n",
        "                            FROM sales\n",
        "                            GROUP BY product_name\n",
        "                            ORDER BY TotalQuantitySold DESC\n",
        "                            LIMIT 5'''\n",
        "sparkSession.sql(sqlTop5SellingProducts).show()"
      ],
      "metadata": {
        "colab": {
          "base_uri": "https://localhost:8080/"
        },
        "id": "BKoVJFPACx1e",
        "outputId": "fb2e3591-b39e-40dd-aefc-ec2631916b38"
      },
      "execution_count": 72,
      "outputs": [
        {
          "output_type": "stream",
          "name": "stdout",
          "text": [
            "+-----------------+-----------------+\n",
            "|     product_name|TotalQuantitySold|\n",
            "+-----------------+-----------------+\n",
            "|       Headphones|              729|\n",
            "|       Smartwatch|              650|\n",
            "|   Gaming Console|              646|\n",
            "|           Camera|              611|\n",
            "|Bluetooth Speaker|              568|\n",
            "+-----------------+-----------------+\n",
            "\n"
          ]
        }
      ]
    },
    {
      "cell_type": "code",
      "source": [
        "sqlRevenueByRegion = '''SELECT region, SUM(quantity_sold * price_per_unit) as TotalRevenue\n",
        "                       FROM sales\n",
        "                       GROUP BY region\n",
        "                       ORDER BY TotalRevenue DESC'''\n",
        "sparkSession.sql(sqlRevenueByRegion).show()"
      ],
      "metadata": {
        "colab": {
          "base_uri": "https://localhost:8080/"
        },
        "id": "V2wyfzXoDJsf",
        "outputId": "eecd640f-3b68-4a25-fe80-e066e637b699"
      },
      "execution_count": 74,
      "outputs": [
        {
          "output_type": "stream",
          "name": "stdout",
          "text": [
            "+-------------+-----------------+\n",
            "|       region|     TotalRevenue|\n",
            "+-------------+-----------------+\n",
            "|North America|612992.0200000001|\n",
            "|       Africa|        612526.04|\n",
            "|         Asia|582756.7499999995|\n",
            "|       Europe|542810.5700000002|\n",
            "|South America|535530.4899999999|\n",
            "+-------------+-----------------+\n",
            "\n"
          ]
        }
      ]
    },
    {
      "cell_type": "code",
      "source": [],
      "metadata": {
        "id": "5Yqe9nztLSDB"
      },
      "execution_count": null,
      "outputs": []
    },
    {
      "cell_type": "code",
      "source": [
        "sqlRevenueByMonth = '''SELECT date_format(transaction_date, \"yyyy-MM\") as YearMonth,\n",
        "                                SUM(quantity_sold * price_per_unit) as TotalRevenue\n",
        "                       FROM sales\n",
        "                       GROUP BY YearMonth\n",
        "                       ORDER BY YearMonth ASC'''\n",
        "sparkSession.sql(sqlRevenueByMonth).show()"
      ],
      "metadata": {
        "colab": {
          "base_uri": "https://localhost:8080/"
        },
        "id": "jpe0mXHBDj24",
        "outputId": "ca31deeb-179a-4b53-b01e-3d827f51fc8f"
      },
      "execution_count": 85,
      "outputs": [
        {
          "output_type": "stream",
          "name": "stdout",
          "text": [
            "+---------+------------------+\n",
            "|YearMonth|      TotalRevenue|\n",
            "+---------+------------------+\n",
            "|  2022-10| 68568.84999999999|\n",
            "|  2022-11|         128946.73|\n",
            "|  2022-12|         111895.84|\n",
            "|  2023-01| 82350.47000000002|\n",
            "|  2023-02|         117857.88|\n",
            "|  2023-03|         130579.66|\n",
            "|  2023-04|142318.37999999998|\n",
            "|  2023-05|132260.43999999997|\n",
            "|  2023-06|100764.25999999998|\n",
            "|  2023-07|          79193.52|\n",
            "|  2023-08|123068.06000000001|\n",
            "|  2023-09|136960.55000000002|\n",
            "|  2023-10| 97569.38000000002|\n",
            "|  2023-11|123324.64000000003|\n",
            "|  2023-12|         151322.35|\n",
            "|  2024-01| 92639.99999999999|\n",
            "|  2024-02|127024.93999999997|\n",
            "|  2024-03|135940.77000000002|\n",
            "|  2024-04|114910.29000000001|\n",
            "|  2024-05|126780.42000000001|\n",
            "+---------+------------------+\n",
            "only showing top 20 rows\n",
            "\n"
          ]
        }
      ]
    },
    {
      "cell_type": "code",
      "source": [
        "sqlMostPopularPaymentMethodByRegion = '''WITH RankedPayments AS (\n",
        "                                              SELECT region,\n",
        "                                                  payment_method,\n",
        "                                                  COUNT(*) as PaymentCount,\n",
        "                                                  ROW_NUMBER() OVER (PARTITION BY region ORDER BY COUNT(*) DESC) as rn\n",
        "                                              FROM sales\n",
        "                                              GROUP BY region, payment_method\n",
        "                                          )--End With\n",
        "\n",
        "                                          SELECT region, payment_method, PaymentCount\n",
        "                                          FROM RankedPayments\n",
        "                                          WHERE rn = 1\n",
        "                                          ORDER BY region'''\n",
        "sparkSession.sql(sqlMostPopularPaymentMethodByRegion).show()"
      ],
      "metadata": {
        "colab": {
          "base_uri": "https://localhost:8080/"
        },
        "id": "VTCPtp5JJtog",
        "outputId": "5eb7a8bf-a84d-48a1-be95-99aca21d518f"
      },
      "execution_count": 87,
      "outputs": [
        {
          "output_type": "stream",
          "name": "stdout",
          "text": [
            "+-------------+--------------+------------+\n",
            "|       region|payment_method|PaymentCount|\n",
            "+-------------+--------------+------------+\n",
            "|       Africa|   Credit Card|          47|\n",
            "|         Asia|     Gift Card|          55|\n",
            "|       Europe|        PayPal|          45|\n",
            "|North America|        PayPal|          52|\n",
            "|South America|        PayPal|          46|\n",
            "+-------------+--------------+------------+\n",
            "\n"
          ]
        }
      ]
    },
    {
      "cell_type": "code",
      "source": [
        "sqlAverageRevenueByRegion = '''SELECT region, avg(quantity_sold * price_per_unit) as AverageRevenue\n",
        "                              FROM sales\n",
        "                              GROUP BY region\n",
        "                              ORDER BY AverageRevenue DESC'''\n",
        "sparkSession.sql(sqlAverageRevenueByRegion).show()"
      ],
      "metadata": {
        "colab": {
          "base_uri": "https://localhost:8080/"
        },
        "id": "c9WBL8i3L7OH",
        "outputId": "85d4abb0-715b-4c9b-a1ac-50d68bddafe3"
      },
      "execution_count": 88,
      "outputs": [
        {
          "output_type": "stream",
          "name": "stdout",
          "text": [
            "+-------------+------------------+\n",
            "|       region|    AverageRevenue|\n",
            "+-------------+------------------+\n",
            "|       Africa| 3017.369655172414|\n",
            "|North America|2961.3141062801938|\n",
            "|         Asia|2884.9344059405917|\n",
            "|       Europe|2783.6439487179496|\n",
            "|South America|2774.7693782383412|\n",
            "+-------------+------------------+\n",
            "\n"
          ]
        }
      ]
    },
    {
      "cell_type": "code",
      "source": [
        "sqlMostRevenueProduct = '''SELECT product_name, sum(quantity_sold * price_per_unit) as TotalRevenue\n",
        "                           FROM sales\n",
        "                           GROUP BY product_name\n",
        "                           ORDER BY TotalRevenue DESC\n",
        "                           LIMIT 1'''\n",
        "sparkSession.sql(sqlMostRevenueProduct).show()"
      ],
      "metadata": {
        "colab": {
          "base_uri": "https://localhost:8080/"
        },
        "id": "yB5w35Z4Ol6A",
        "outputId": "8b90d0c6-8dd7-4337-ce6d-ffa6ce9c205f"
      },
      "execution_count": 89,
      "outputs": [
        {
          "output_type": "stream",
          "name": "stdout",
          "text": [
            "+------------+-----------------+\n",
            "|product_name|     TotalRevenue|\n",
            "+------------+-----------------+\n",
            "|  Headphones|382734.3199999999|\n",
            "+------------+-----------------+\n",
            "\n"
          ]
        }
      ]
    },
    {
      "cell_type": "code",
      "source": [],
      "metadata": {
        "id": "7-6rLsTIO-I9"
      },
      "execution_count": null,
      "outputs": []
    }
  ]
}