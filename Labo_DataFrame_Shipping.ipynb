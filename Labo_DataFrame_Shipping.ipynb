{
  "nbformat": 4,
  "nbformat_minor": 0,
  "metadata": {
    "colab": {
      "provenance": [],
      "authorship_tag": "ABX9TyN7Ot6BAeyXYhR8h6yk2dd2",
      "include_colab_link": true
    },
    "kernelspec": {
      "name": "python3",
      "display_name": "Python 3"
    },
    "language_info": {
      "name": "python"
    }
  },
  "cells": [
    {
      "cell_type": "markdown",
      "metadata": {
        "id": "view-in-github",
        "colab_type": "text"
      },
      "source": [
        "<a href=\"https://colab.research.google.com/github/luismiguelmartinluengo/PySpark_Demos/blob/main/Labo_DataFrame_Shipping.ipynb\" target=\"_parent\"><img src=\"https://colab.research.google.com/assets/colab-badge.svg\" alt=\"Open In Colab\"/></a>"
      ]
    },
    {
      "cell_type": "code",
      "source": [
        "from google.colab import drive\n",
        "drive.mount('/content/drive')"
      ],
      "metadata": {
        "colab": {
          "base_uri": "https://localhost:8080/"
        },
        "id": "m0oILQnWUCmv",
        "outputId": "56e18e27-61b7-4f50-e70c-7095e5dbe4e8"
      },
      "execution_count": 1,
      "outputs": [
        {
          "output_type": "stream",
          "name": "stdout",
          "text": [
            "Mounted at /content/drive\n"
          ]
        }
      ]
    },
    {
      "cell_type": "code",
      "source": [
        "from pyspark.sql import SparkSession\n",
        "from pyspark.sql.functions import avg, col, lit, when, count, expr, date_format, date_add, date_diff, asc_nulls_last"
      ],
      "metadata": {
        "id": "sAkQRSCdYvk_"
      },
      "execution_count": 54,
      "outputs": []
    },
    {
      "cell_type": "code",
      "source": [
        "sparkSession = SparkSession.builder.appName(\"Labo DataFrame Shipping\").getOrCreate()"
      ],
      "metadata": {
        "id": "AVrHw-Z9ZEuC"
      },
      "execution_count": 4,
      "outputs": []
    },
    {
      "cell_type": "code",
      "source": [
        "df = sparkSession.read.csv('/content/drive/MyDrive/Colab Notebooks/data/shipping_log.csv',\n",
        "                           header = True,\n",
        "                           inferSchema = True)\n",
        "df.show(5)\n",
        "print('Registros:', df.count())\n",
        "df.printSchema()"
      ],
      "metadata": {
        "colab": {
          "base_uri": "https://localhost:8080/"
        },
        "id": "gmCGr8jjZRTg",
        "outputId": "6640bc95-1300-4b1a-c632-f3c272669eb5"
      },
      "execution_count": 13,
      "outputs": [
        {
          "output_type": "stream",
          "name": "stdout",
          "text": [
            "+----------+-----------+-------------+------------+------------+----------+------+\n",
            "|ShipmentID|     Origin|  Destination|ShipmentDate|DeliveryDate|    Status|  Cost|\n",
            "+----------+-----------+-------------+------------+------------+----------+------+\n",
            "|         1|      Miami|       Boston|  2023-04-13|  2023-04-15|In Transit|147.92|\n",
            "|         2|      Miami|San Francisco|  2023-04-15|  2023-04-17| Delivered|149.56|\n",
            "|         3|    Houston|San Francisco|  2023-05-18|  2023-05-19|In Transit|191.56|\n",
            "|         4|    Houston|      Houston|  2023-07-26|  2023-07-31| Delivered|121.13|\n",
            "|         5|Los Angeles|       Dallas|  2023-12-07|  2023-12-09|In Transit|163.55|\n",
            "+----------+-----------+-------------+------------+------------+----------+------+\n",
            "only showing top 5 rows\n",
            "\n",
            "Registros: 1000\n",
            "root\n",
            " |-- ShipmentID: integer (nullable = true)\n",
            " |-- Origin: string (nullable = true)\n",
            " |-- Destination: string (nullable = true)\n",
            " |-- ShipmentDate: date (nullable = true)\n",
            " |-- DeliveryDate: date (nullable = true)\n",
            " |-- Status: string (nullable = true)\n",
            " |-- Cost: double (nullable = true)\n",
            "\n"
          ]
        }
      ]
    },
    {
      "cell_type": "code",
      "source": [
        "df.printSchema()"
      ],
      "metadata": {
        "colab": {
          "base_uri": "https://localhost:8080/"
        },
        "id": "_ecedSg1ZdB5",
        "outputId": "37fa4d27-7747-4476-82cf-ab281517670a"
      },
      "execution_count": 10,
      "outputs": [
        {
          "output_type": "stream",
          "name": "stdout",
          "text": [
            "root\n",
            " |-- ShipmentID: integer (nullable = true)\n",
            " |-- Origin: string (nullable = true)\n",
            " |-- Destination: string (nullable = true)\n",
            " |-- ShipmentDate: date (nullable = true)\n",
            " |-- DeliveryDate: date (nullable = true)\n",
            " |-- Status: string (nullable = true)\n",
            " |-- Cost: double (nullable = true)\n",
            "\n"
          ]
        }
      ]
    },
    {
      "cell_type": "code",
      "source": [
        "#Eliminar registros con nulos\n",
        "dfClean = df.dropna()\n",
        "print('Registros tras eliminar nulos:', dfClean.count())\n",
        "if (dfClean.count() < df.count()):\n",
        "  print('Registros eliminados:', df.count() - dfClean.count())\n",
        "  df = dfClean\n",
        "#End if"
      ],
      "metadata": {
        "colab": {
          "base_uri": "https://localhost:8080/"
        },
        "id": "LmBqan6JZ4v2",
        "outputId": "8bc1fa1d-360e-44a3-c0d5-da6a362e1672"
      },
      "execution_count": 15,
      "outputs": [
        {
          "output_type": "stream",
          "name": "stdout",
          "text": [
            "Registros tras eliminar nulos: 1000\n"
          ]
        }
      ]
    },
    {
      "cell_type": "code",
      "source": [
        "#Analizar tiempos de entrega\n",
        "df = df.withColumn('Delay', expr('datediff(DeliveryDate, ShipmentDate)'))\n",
        "promedioDelay = int(round(df.select(avg('Delay')).first()[0]))\n",
        "print('Promedio de retraso:', promedioDelay)\n",
        "dfDelays = df.groupBy('Delay').count()\n",
        "dfDelays.orderBy('Delay').show()\n"
      ],
      "metadata": {
        "colab": {
          "base_uri": "https://localhost:8080/"
        },
        "id": "JmivKr2_fMUJ",
        "outputId": "a657257c-e3e6-4822-aca3-00efe87d429a"
      },
      "execution_count": 46,
      "outputs": [
        {
          "output_type": "stream",
          "name": "stdout",
          "text": [
            "Promedio de retraso: 4\n",
            "+-----+-----+\n",
            "|Delay|count|\n",
            "+-----+-----+\n",
            "|    1|  148|\n",
            "|    2|  151|\n",
            "|    3|  140|\n",
            "|    4|  149|\n",
            "|    5|  130|\n",
            "|    6|  132|\n",
            "|    7|  150|\n",
            "+-----+-----+\n",
            "\n"
          ]
        }
      ]
    },
    {
      "cell_type": "code",
      "source": [
        "#Calcular fecha estimada de entrega para los envios\n",
        "df = df.withColumn('Estimated Delivery Date', date_add(col('ShipmentDate'), promedioDelay))\n",
        "df.select('ShipmentDate', 'Estimated Delivery Date').sample(0.01).show()"
      ],
      "metadata": {
        "colab": {
          "base_uri": "https://localhost:8080/"
        },
        "id": "Kndw2MtLg7JL",
        "outputId": "4de20f9a-dee1-4f52-d7db-4a1c3873d990"
      },
      "execution_count": 47,
      "outputs": [
        {
          "output_type": "stream",
          "name": "stdout",
          "text": [
            "+------------+-----------------------+\n",
            "|ShipmentDate|Estimated Delivery Date|\n",
            "+------------+-----------------------+\n",
            "|  2023-10-20|             2023-10-24|\n",
            "|  2023-05-29|             2023-06-02|\n",
            "|  2023-06-16|             2023-06-20|\n",
            "|  2023-03-03|             2023-03-07|\n",
            "|  2023-11-26|             2023-11-30|\n",
            "|  2023-06-07|             2023-06-11|\n",
            "|  2023-08-20|             2023-08-24|\n",
            "|  2023-01-25|             2023-01-29|\n",
            "|  2023-07-25|             2023-07-29|\n",
            "+------------+-----------------------+\n",
            "\n"
          ]
        }
      ]
    },
    {
      "cell_type": "code",
      "source": [
        "#Identificar en Status los envíos entregados con retraso\n",
        "df = df.withColumn('Status', when(date_diff('DeliveryDate','Estimated Delivery Date')>0, 'Delivered whith Delay').otherwise(col('Status')))\n",
        "df.groupBy('Status').count().show(truncate = False)"
      ],
      "metadata": {
        "colab": {
          "base_uri": "https://localhost:8080/"
        },
        "id": "48XHCR06qakz",
        "outputId": "51071de5-edf2-47d9-d0eb-4f7ea29b31ff"
      },
      "execution_count": 48,
      "outputs": [
        {
          "output_type": "stream",
          "name": "stdout",
          "text": [
            "+---------------------+-----+\n",
            "|Status               |count|\n",
            "+---------------------+-----+\n",
            "|Delivered whith Delay|412  |\n",
            "|In Transit           |214  |\n",
            "|Delivered            |192  |\n",
            "|Delayed              |182  |\n",
            "+---------------------+-----+\n",
            "\n"
          ]
        }
      ]
    },
    {
      "cell_type": "code",
      "source": [
        "#Promedio de envíos entregados sin retraso:\n",
        "dfPerformance = df.withColumn('OnTime', when(col('Delay')<=promedioDelay, 1).otherwise(0))\n",
        "dfPerformance.agg(avg('OnTime').alias('% of OnTime')).show()"
      ],
      "metadata": {
        "colab": {
          "base_uri": "https://localhost:8080/"
        },
        "id": "uGm5Uo4Wt4jR",
        "outputId": "af0bba45-bf39-47d3-a498-9416b46215e0"
      },
      "execution_count": 49,
      "outputs": [
        {
          "output_type": "stream",
          "name": "stdout",
          "text": [
            "+-----------+\n",
            "|% of OnTime|\n",
            "+-----------+\n",
            "|      0.588|\n",
            "+-----------+\n",
            "\n"
          ]
        }
      ]
    },
    {
      "cell_type": "code",
      "source": [
        "#Identificar la ruta más usada\n",
        "dfPaths = df.groupBy('Origin', 'Destination').count()\n",
        "dfPaths.orderBy(col('count').desc()).show(1)"
      ],
      "metadata": {
        "colab": {
          "base_uri": "https://localhost:8080/"
        },
        "id": "5HRRDwqLknut",
        "outputId": "46366e63-d485-498f-9769-c9b8ecb67c8e"
      },
      "execution_count": 30,
      "outputs": [
        {
          "output_type": "stream",
          "name": "stdout",
          "text": [
            "+--------+-----------+-----+\n",
            "|  Origin|Destination|count|\n",
            "+--------+-----------+-----+\n",
            "|New York|    Chicago|   64|\n",
            "+--------+-----------+-----+\n",
            "only showing top 1 row\n",
            "\n"
          ]
        }
      ]
    },
    {
      "cell_type": "code",
      "source": [
        "#Determinar envíos con sobrecoste\n",
        "promedioCost = df.agg(avg('Cost')).collect()[0][0]\n",
        "print('Costo medio:', promedioCost)\n",
        "dfOverruns = df.filter(col('Cost')>promedioCost)\n",
        "dfOverruns.show(5)"
      ],
      "metadata": {
        "colab": {
          "base_uri": "https://localhost:8080/"
        },
        "id": "cy3MXQ2-nU7a",
        "outputId": "c2562767-db5f-43b5-d3f8-4c04f93290d4"
      },
      "execution_count": 35,
      "outputs": [
        {
          "output_type": "stream",
          "name": "stdout",
          "text": [
            "Costo medio: 199.13505000000015\n",
            "+----------+-----------+-------------+------------+------------+----------+------+-----------------------+\n",
            "|ShipmentID|     Origin|  Destination|ShipmentDate|DeliveryDate|    Status|  Cost|Estimated Delivery Date|\n",
            "+----------+-----------+-------------+------------+------------+----------+------+-----------------------+\n",
            "|         7|   New York|      Houston|  2023-08-28|  2023-09-02|   Delayed|222.68|             2023-09-01|\n",
            "|         8|    Houston|      Houston|  2023-09-22|  2023-09-24|In Transit| 258.9|             2023-09-26|\n",
            "|        10|    Chicago|      Houston|  2023-08-26|  2023-09-01|In Transit|296.93|             2023-08-30|\n",
            "|        11|    Houston|       Boston|  2023-07-06|  2023-07-11|In Transit|271.69|             2023-07-10|\n",
            "|        13|   New York|      Chicago|  2023-04-20|  2023-04-22|In Transit|279.13|             2023-04-24|\n",
            "|        14|      Miami|       Dallas|  2023-06-01|  2023-06-02|   Delayed|224.32|             2023-06-05|\n",
            "|        15|      Miami|       Boston|  2023-07-19|  2023-07-20|In Transit|234.59|             2023-07-23|\n",
            "|        16|Los Angeles|       Dallas|  2023-10-20|  2023-10-26|In Transit|263.93|             2023-10-24|\n",
            "|        17|    Chicago|       Boston|  2023-10-17|  2023-10-22|In Transit|297.22|             2023-10-21|\n",
            "|        18|Los Angeles|      Houston|  2023-07-19|  2023-07-26|In Transit|214.26|             2023-07-23|\n",
            "|        20|    Houston|      Houston|  2023-07-30|  2023-08-01| Delivered|295.18|             2023-08-03|\n",
            "|        22|      Miami|       Boston|  2023-01-18|  2023-01-21|In Transit|199.64|             2023-01-22|\n",
            "|        26|Los Angeles|San Francisco|  2023-05-28|  2023-05-30|In Transit|209.32|             2023-06-01|\n",
            "|        27|      Miami|San Francisco|  2023-05-27|  2023-05-29|   Delayed|260.18|             2023-05-31|\n",
            "|        28|      Miami|       Boston|  2023-02-01|  2023-02-06|   Delayed|213.36|             2023-02-05|\n",
            "|        30|   New York|      Chicago|  2023-03-14|  2023-03-17| Delivered| 267.9|             2023-03-18|\n",
            "|        31|    Chicago|San Francisco|  2023-09-19|  2023-09-26| Delivered| 299.8|             2023-09-23|\n",
            "|        36|   New York|       Dallas|  2023-06-17|  2023-06-24| Delivered|276.37|             2023-06-21|\n",
            "|        38|   New York|San Francisco|  2023-01-20|  2023-01-24|In Transit| 295.8|             2023-01-24|\n",
            "|        39|    Houston|       Dallas|  2023-07-13|  2023-07-15|   Delayed|205.31|             2023-07-17|\n",
            "+----------+-----------+-------------+------------+------------+----------+------+-----------------------+\n",
            "only showing top 20 rows\n",
            "\n"
          ]
        }
      ]
    },
    {
      "cell_type": "code",
      "source": [
        "#Análisis de envíos y costes por origen y destino\n",
        "df.rollup('Origin','Destination').agg(avg('Cost').alias('Average Cost'),\n",
        "                                       count('ShipmentId').alias('Total Shipments'))\\\n",
        "                                       .orderBy(asc_nulls_last('Origin'), asc_nulls_last('Destination')).show()"
      ],
      "metadata": {
        "colab": {
          "base_uri": "https://localhost:8080/"
        },
        "id": "naI2YpugpYKk",
        "outputId": "6b50fb33-4d65-4b78-91c8-4d7482b0c3ef"
      },
      "execution_count": 55,
      "outputs": [
        {
          "output_type": "stream",
          "name": "stdout",
          "text": [
            "+-----------+-------------+------------------+---------------+\n",
            "|     Origin|  Destination|      Average Cost|Total Shipments|\n",
            "+-----------+-------------+------------------+---------------+\n",
            "|    Chicago|       Boston| 203.9380952380953|             42|\n",
            "|    Chicago|      Chicago| 181.5591891891892|             37|\n",
            "|    Chicago|       Dallas|193.91325000000006|             40|\n",
            "|    Chicago|      Houston|218.21971428571428|             35|\n",
            "|    Chicago|San Francisco|200.49695652173915|             46|\n",
            "|    Chicago|         NULL|199.50084999999984|            200|\n",
            "|    Houston|       Boston| 208.0913888888889|             36|\n",
            "|    Houston|      Chicago|192.80810810810814|             37|\n",
            "|    Houston|       Dallas|184.47959183673467|             49|\n",
            "|    Houston|      Houston|206.00150000000002|             40|\n",
            "|    Houston|San Francisco|190.91210526315794|             38|\n",
            "|    Houston|         NULL| 195.7970499999999|            200|\n",
            "|Los Angeles|       Boston|201.91062499999998|             32|\n",
            "|Los Angeles|      Chicago|190.99806451612906|             31|\n",
            "|Los Angeles|       Dallas|196.74970588235288|             34|\n",
            "|Los Angeles|      Houston|216.34255813953487|             43|\n",
            "|Los Angeles|San Francisco|          182.4575|             40|\n",
            "|Los Angeles|         NULL|198.18111111111114|            180|\n",
            "|      Miami|       Boston|188.00023255813957|             43|\n",
            "|      Miami|      Chicago| 216.0235135135135|             37|\n",
            "+-----------+-------------+------------------+---------------+\n",
            "only showing top 20 rows\n",
            "\n"
          ]
        }
      ]
    },
    {
      "cell_type": "code",
      "source": [],
      "metadata": {
        "id": "h_5qM8gD2M2W"
      },
      "execution_count": null,
      "outputs": []
    }
  ]
}