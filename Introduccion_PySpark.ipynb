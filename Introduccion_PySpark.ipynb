{
  "nbformat": 4,
  "nbformat_minor": 0,
  "metadata": {
    "colab": {
      "provenance": [],
      "mount_file_id": "https://github.com/luismiguelmartinluengo/Test_in_Colab/blob/main/Introduccion_PySpark.ipynb",
      "authorship_tag": "ABX9TyMsza7yOiGzAEQE1ylgIMSv",
      "include_colab_link": true
    },
    "kernelspec": {
      "name": "python3",
      "display_name": "Python 3"
    },
    "language_info": {
      "name": "python"
    }
  },
  "cells": [
    {
      "cell_type": "markdown",
      "metadata": {
        "id": "view-in-github",
        "colab_type": "text"
      },
      "source": [
        "<a href=\"https://colab.research.google.com/github/luismiguelmartinluengo/Test_in_Colab/blob/main/Introduccion_PySpark.ipynb\" target=\"_parent\"><img src=\"https://colab.research.google.com/assets/colab-badge.svg\" alt=\"Open In Colab\"/></a>"
      ]
    },
    {
      "cell_type": "code",
      "execution_count": 91,
      "metadata": {
        "id": "F2xowtgSnQps"
      },
      "outputs": [],
      "source": [
        "import pyspark\n",
        "from pyspark.sql import SparkSession\n",
        "from pyspark.sql.functions import when, lit, col, count, mean, avg, sum, broadcast, desc, asc\n",
        "from pyspark.sql import types"
      ]
    },
    {
      "cell_type": "code",
      "source": [
        "ruta_dataset_1 = 'drive/MyDrive/Colab Notebooks/Ficheros de prueba/csv1.txt'\n",
        "ruta_dataset_2 = 'drive/MyDrive/Colab Notebooks/Ficheros de prueba/csv2.txt'"
      ],
      "metadata": {
        "id": "MexOH76uqXLB"
      },
      "execution_count": 2,
      "outputs": []
    },
    {
      "cell_type": "code",
      "source": [
        "spark_session = (SparkSession.builder.appName(\"SparkSQLExampleApp\").getOrCreate())"
      ],
      "metadata": {
        "id": "hNJseKIDoGiJ"
      },
      "execution_count": 3,
      "outputs": []
    },
    {
      "cell_type": "code",
      "source": [
        "spark_session.version"
      ],
      "metadata": {
        "colab": {
          "base_uri": "https://localhost:8080/",
          "height": 37
        },
        "id": "oPhtz4gkAjo6",
        "outputId": "e21431d0-bccf-4cd8-97a2-acfb6d1ce286"
      },
      "execution_count": 4,
      "outputs": [
        {
          "output_type": "execute_result",
          "data": {
            "text/plain": [
              "'3.5.4'"
            ],
            "application/vnd.google.colaboratory.intrinsic+json": {
              "type": "string"
            }
          },
          "metadata": {},
          "execution_count": 4
        }
      ]
    },
    {
      "cell_type": "code",
      "source": [
        "import os\n",
        "for item in os.listdir('drive/MyDrive/Colab Notebooks/Ficheros de prueba/'):\n",
        "  print(item)"
      ],
      "metadata": {
        "colab": {
          "base_uri": "https://localhost:8080/"
        },
        "id": "KkoF8B3hpE8-",
        "outputId": "e337182c-fdf1-42c2-8b5c-b47c3ff5f07f"
      },
      "execution_count": 5,
      "outputs": [
        {
          "output_type": "stream",
          "name": "stdout",
          "text": [
            "csv1.txt\n",
            "csv2.txt\n"
          ]
        }
      ]
    },
    {
      "cell_type": "code",
      "source": [
        "df1 = spark_session.read.csv(ruta_dataset_1, header = True, sep = ';')"
      ],
      "metadata": {
        "id": "DSQ3VU33rHbC"
      },
      "execution_count": 41,
      "outputs": []
    },
    {
      "cell_type": "code",
      "source": [
        "df1.show()"
      ],
      "metadata": {
        "colab": {
          "base_uri": "https://localhost:8080/"
        },
        "id": "xkUURs1REnfw",
        "outputId": "1514e861-a94e-4626-e78c-ac6c37ea01df"
      },
      "execution_count": 7,
      "outputs": [
        {
          "output_type": "stream",
          "name": "stdout",
          "text": [
            "+---+---+---+---+\n",
            "|  a|  b|  c|  d|\n",
            "+---+---+---+---+\n",
            "|  1|  2|  3|  4|\n",
            "|  5|  6|  7|  8|\n",
            "|  9| 10| 11| 12|\n",
            "| 13| 14| 15| 16|\n",
            "+---+---+---+---+\n",
            "\n"
          ]
        }
      ]
    },
    {
      "cell_type": "code",
      "source": [
        "df1.describe().show()"
      ],
      "metadata": {
        "id": "w9McSUGxz4fb",
        "colab": {
          "base_uri": "https://localhost:8080/"
        },
        "outputId": "6cce89c1-a1cb-44a0-d0ee-db745eb10f6f"
      },
      "execution_count": 8,
      "outputs": [
        {
          "output_type": "stream",
          "name": "stdout",
          "text": [
            "+-------+-----------------+-----------------+-----------------+-----------------+\n",
            "|summary|                a|                b|                c|                d|\n",
            "+-------+-----------------+-----------------+-----------------+-----------------+\n",
            "|  count|                4|                4|                4|                4|\n",
            "|   mean|              7.0|              8.0|              9.0|             10.0|\n",
            "| stddev|5.163977794943222|5.163977794943222|5.163977794943222|5.163977794943222|\n",
            "|    min|                1|               10|               11|               12|\n",
            "|    max|                9|                6|                7|                8|\n",
            "+-------+-----------------+-----------------+-----------------+-----------------+\n",
            "\n"
          ]
        }
      ]
    },
    {
      "cell_type": "code",
      "source": [
        "df1.printSchema()"
      ],
      "metadata": {
        "colab": {
          "base_uri": "https://localhost:8080/"
        },
        "id": "JR5HMUp59kn7",
        "outputId": "f95fc52c-50b2-4666-bfeb-1da4cfcf5fae"
      },
      "execution_count": 9,
      "outputs": [
        {
          "output_type": "stream",
          "name": "stdout",
          "text": [
            "root\n",
            " |-- a: string (nullable = true)\n",
            " |-- b: string (nullable = true)\n",
            " |-- c: string (nullable = true)\n",
            " |-- d: string (nullable = true)\n",
            "\n"
          ]
        }
      ]
    },
    {
      "cell_type": "code",
      "source": [
        "df1.isEmpty()"
      ],
      "metadata": {
        "colab": {
          "base_uri": "https://localhost:8080/"
        },
        "id": "IkPWD1X8-nrV",
        "outputId": "c6bf61ac-d264-4d00-b210-b1a2aa93f8fe"
      },
      "execution_count": 10,
      "outputs": [
        {
          "output_type": "execute_result",
          "data": {
            "text/plain": [
              "False"
            ]
          },
          "metadata": {},
          "execution_count": 10
        }
      ]
    },
    {
      "cell_type": "code",
      "source": [
        "df1.columns"
      ],
      "metadata": {
        "colab": {
          "base_uri": "https://localhost:8080/"
        },
        "id": "VX93uCN7FpmM",
        "outputId": "6013a81c-fbcc-4a5d-8e84-ef4259aad481"
      },
      "execution_count": 11,
      "outputs": [
        {
          "output_type": "execute_result",
          "data": {
            "text/plain": [
              "['a', 'b', 'c', 'd']"
            ]
          },
          "metadata": {},
          "execution_count": 11
        }
      ]
    },
    {
      "cell_type": "code",
      "source": [
        "df1.count()"
      ],
      "metadata": {
        "colab": {
          "base_uri": "https://localhost:8080/"
        },
        "id": "X-wP1TVtFtJV",
        "outputId": "6722a5c0-d83d-47cb-bb6b-f385a087db4f"
      },
      "execution_count": 12,
      "outputs": [
        {
          "output_type": "execute_result",
          "data": {
            "text/plain": [
              "4"
            ]
          },
          "metadata": {},
          "execution_count": 12
        }
      ]
    },
    {
      "cell_type": "code",
      "source": [
        "df1.head(2)"
      ],
      "metadata": {
        "colab": {
          "base_uri": "https://localhost:8080/"
        },
        "id": "2hU1bPIhG1hY",
        "outputId": "6db7589b-0da3-455d-d01a-b248abad72f6"
      },
      "execution_count": 13,
      "outputs": [
        {
          "output_type": "execute_result",
          "data": {
            "text/plain": [
              "[Row(a='1', b='2', c='3', d='4'), Row(a='5', b='6', c='7', d='8')]"
            ]
          },
          "metadata": {},
          "execution_count": 13
        }
      ]
    },
    {
      "cell_type": "code",
      "source": [
        "df2 = spark_session.read.csv(ruta_dataset_2, header = True, sep = ';')\n",
        "df2.show(2)"
      ],
      "metadata": {
        "colab": {
          "base_uri": "https://localhost:8080/"
        },
        "id": "K_Fk2eGhG4IH",
        "outputId": "d441010f-7b5a-4e25-9403-4d77473b99b8"
      },
      "execution_count": 42,
      "outputs": [
        {
          "output_type": "stream",
          "name": "stdout",
          "text": [
            "+---+---+---+---+---+\n",
            "|  a|  d|  e|  f|  g|\n",
            "+---+---+---+---+---+\n",
            "|  1| 17| 18| 19| 20|\n",
            "|  5| 21| 22| 23| 24|\n",
            "+---+---+---+---+---+\n",
            "only showing top 2 rows\n",
            "\n"
          ]
        }
      ]
    },
    {
      "cell_type": "code",
      "source": [
        "df1_2 = spark_session.read.csv(ruta_dataset_1, header = True, sep = ';')\n",
        "dfea = df1.exceptAll(df1_2)\n",
        "dfea.show()"
      ],
      "metadata": {
        "colab": {
          "base_uri": "https://localhost:8080/"
        },
        "id": "T3mpdOePHu8u",
        "outputId": "344c8db9-fd4f-486b-9cb3-360cfc0ce9c2"
      },
      "execution_count": 16,
      "outputs": [
        {
          "output_type": "stream",
          "name": "stdout",
          "text": [
            "+---+---+---+---+\n",
            "|  a|  b|  c|  d|\n",
            "+---+---+---+---+\n",
            "+---+---+---+---+\n",
            "\n"
          ]
        }
      ]
    },
    {
      "cell_type": "code",
      "source": [
        "dfea.describe().show()"
      ],
      "metadata": {
        "colab": {
          "base_uri": "https://localhost:8080/"
        },
        "id": "cz31yTO_IWa1",
        "outputId": "02497e53-f133-49e9-fe91-6bb1cd002317"
      },
      "execution_count": 17,
      "outputs": [
        {
          "output_type": "stream",
          "name": "stdout",
          "text": [
            "+-------+----+----+----+----+\n",
            "|summary|   a|   b|   c|   d|\n",
            "+-------+----+----+----+----+\n",
            "|  count|   0|   0|   0|   0|\n",
            "|   mean|NULL|NULL|NULL|NULL|\n",
            "| stddev|NULL|NULL|NULL|NULL|\n",
            "|    min|NULL|NULL|NULL|NULL|\n",
            "|    max|NULL|NULL|NULL|NULL|\n",
            "+-------+----+----+----+----+\n",
            "\n"
          ]
        }
      ]
    },
    {
      "cell_type": "code",
      "source": [
        "df1.select('a','c').limit(3).show()"
      ],
      "metadata": {
        "colab": {
          "base_uri": "https://localhost:8080/"
        },
        "id": "93i1xRUrIiZw",
        "outputId": "9ad6651f-9aef-4154-c498-f328066f9218"
      },
      "execution_count": 18,
      "outputs": [
        {
          "output_type": "stream",
          "name": "stdout",
          "text": [
            "+---+---+\n",
            "|  a|  c|\n",
            "+---+---+\n",
            "|  1|  3|\n",
            "|  5|  7|\n",
            "|  9| 11|\n",
            "+---+---+\n",
            "\n"
          ]
        }
      ]
    },
    {
      "cell_type": "code",
      "source": [
        "df1.take(2)"
      ],
      "metadata": {
        "colab": {
          "base_uri": "https://localhost:8080/"
        },
        "id": "RGXb9ZgHYKdx",
        "outputId": "ef5d3387-40c2-446f-adbe-d09261682c6b"
      },
      "execution_count": 19,
      "outputs": [
        {
          "output_type": "execute_result",
          "data": {
            "text/plain": [
              "[Row(a='1', b='2', c='3', d='4'), Row(a='5', b='6', c='7', d='8')]"
            ]
          },
          "metadata": {},
          "execution_count": 19
        }
      ]
    },
    {
      "cell_type": "code",
      "source": [
        "df1.head(2)"
      ],
      "metadata": {
        "colab": {
          "base_uri": "https://localhost:8080/"
        },
        "id": "9iHyUyh4Yx9o",
        "outputId": "985c8ce2-30c6-4fb3-a49a-83dbd5d2b993"
      },
      "execution_count": 20,
      "outputs": [
        {
          "output_type": "execute_result",
          "data": {
            "text/plain": [
              "[Row(a='1', b='2', c='3', d='4'), Row(a='5', b='6', c='7', d='8')]"
            ]
          },
          "metadata": {},
          "execution_count": 20
        }
      ]
    },
    {
      "cell_type": "code",
      "source": [
        "filas = df1.limit(2).collect()\n",
        "print(filas[0].asDict())\n",
        "print(filas[1].asDict())"
      ],
      "metadata": {
        "colab": {
          "base_uri": "https://localhost:8080/"
        },
        "id": "vAtwSgbxY62V",
        "outputId": "f2fc6b4e-8a04-4798-8079-c23282a6ed32"
      },
      "execution_count": 21,
      "outputs": [
        {
          "output_type": "stream",
          "name": "stdout",
          "text": [
            "{'a': '1', 'b': '2', 'c': '3', 'd': '4'}\n",
            "{'a': '5', 'b': '6', 'c': '7', 'd': '8'}\n"
          ]
        }
      ]
    },
    {
      "cell_type": "code",
      "source": [
        "union = df1.union(df1_2)\n",
        "union.show()"
      ],
      "metadata": {
        "colab": {
          "base_uri": "https://localhost:8080/"
        },
        "id": "wzflxNpXZypj",
        "outputId": "7987dc32-30a7-4ad5-f73f-e143118ae5a2"
      },
      "execution_count": 23,
      "outputs": [
        {
          "output_type": "stream",
          "name": "stdout",
          "text": [
            "+---+---+---+---+\n",
            "|  a|  b|  c|  d|\n",
            "+---+---+---+---+\n",
            "|  1|  2|  3|  4|\n",
            "|  5|  6|  7|  8|\n",
            "|  9| 10| 11| 12|\n",
            "| 13| 14| 15| 16|\n",
            "|  1|  2|  3|  4|\n",
            "|  5|  6|  7|  8|\n",
            "|  9| 10| 11| 12|\n",
            "| 13| 14| 15| 16|\n",
            "+---+---+---+---+\n",
            "\n"
          ]
        }
      ]
    },
    {
      "cell_type": "code",
      "source": [
        "dfwc = df1.withColumns({'nueva_columna':when(df1.a == '1', 'cazado').otherwise('no cazado'),\n",
        "                        'nueva_columna2':lit(6)})\n",
        "dfwc.show()"
      ],
      "metadata": {
        "colab": {
          "base_uri": "https://localhost:8080/"
        },
        "id": "bJWxZ_UZZYV5",
        "outputId": "cbb2a909-38ff-4b77-9f4f-c9a867e141cf"
      },
      "execution_count": 24,
      "outputs": [
        {
          "output_type": "stream",
          "name": "stdout",
          "text": [
            "+---+---+---+---+-------------+--------------+\n",
            "|  a|  b|  c|  d|nueva_columna|nueva_columna2|\n",
            "+---+---+---+---+-------------+--------------+\n",
            "|  1|  2|  3|  4|       cazado|             6|\n",
            "|  5|  6|  7|  8|    no cazado|             6|\n",
            "|  9| 10| 11| 12|    no cazado|             6|\n",
            "| 13| 14| 15| 16|    no cazado|             6|\n",
            "+---+---+---+---+-------------+--------------+\n",
            "\n"
          ]
        }
      ]
    },
    {
      "cell_type": "code",
      "source": [
        "dfwc.withColumnRenamed('nueva_columna', 'es_cazado').drop('nueva_columna2').show()"
      ],
      "metadata": {
        "id": "okN1g-q5im8J",
        "outputId": "64ffa2ce-22f7-41af-b7a6-00aec657f77e",
        "colab": {
          "base_uri": "https://localhost:8080/"
        }
      },
      "execution_count": 25,
      "outputs": [
        {
          "output_type": "stream",
          "name": "stdout",
          "text": [
            "+---+---+---+---+---------+\n",
            "|  a|  b|  c|  d|es_cazado|\n",
            "+---+---+---+---+---------+\n",
            "|  1|  2|  3|  4|   cazado|\n",
            "|  5|  6|  7|  8|no cazado|\n",
            "|  9| 10| 11| 12|no cazado|\n",
            "| 13| 14| 15| 16|no cazado|\n",
            "+---+---+---+---+---------+\n",
            "\n"
          ]
        }
      ]
    },
    {
      "cell_type": "code",
      "source": [
        "union = union.dropDuplicates()#sin parámetros hace lo mismo que distinct\n",
        "union = union.distinct()\n",
        "union.show()"
      ],
      "metadata": {
        "id": "NDaml6Q0hz2e",
        "outputId": "c81c29ee-ea16-4379-de96-86845ed9f9e3",
        "colab": {
          "base_uri": "https://localhost:8080/"
        }
      },
      "execution_count": 26,
      "outputs": [
        {
          "output_type": "stream",
          "name": "stdout",
          "text": [
            "+---+---+---+---+\n",
            "|  a|  b|  c|  d|\n",
            "+---+---+---+---+\n",
            "|  1|  2|  3|  4|\n",
            "|  9| 10| 11| 12|\n",
            "| 13| 14| 15| 16|\n",
            "|  5|  6|  7|  8|\n",
            "+---+---+---+---+\n",
            "\n"
          ]
        }
      ]
    },
    {
      "cell_type": "code",
      "source": [
        "datos_nuevo_df = [('n11','n12','n13','n14'),\n",
        "                  ('n21','n22','n23','n24')]\n",
        "columnas_nuevo_df = union.columns\n",
        "nuevo_df = spark_session.createDataFrame(data = datos_nuevo_df, schema = columnas_nuevo_df)\n",
        "nuevo_df.show()"
      ],
      "metadata": {
        "id": "7yH-o4nbphiC",
        "outputId": "8e443e41-a153-49a2-e6e7-dec51d3541bc",
        "colab": {
          "base_uri": "https://localhost:8080/"
        }
      },
      "execution_count": 27,
      "outputs": [
        {
          "output_type": "stream",
          "name": "stdout",
          "text": [
            "+---+---+---+---+\n",
            "|  a|  b|  c|  d|\n",
            "+---+---+---+---+\n",
            "|n11|n12|n13|n14|\n",
            "|n21|n22|n23|n24|\n",
            "+---+---+---+---+\n",
            "\n"
          ]
        }
      ]
    },
    {
      "cell_type": "code",
      "source": [
        "union = union.union(nuevo_df)\n",
        "union.show()"
      ],
      "metadata": {
        "id": "dIiXBvUxp1fH",
        "outputId": "4df04069-20e2-42d6-c9e2-3a23a256ea20",
        "colab": {
          "base_uri": "https://localhost:8080/"
        }
      },
      "execution_count": 28,
      "outputs": [
        {
          "output_type": "stream",
          "name": "stdout",
          "text": [
            "+---+---+---+---+\n",
            "|  a|  b|  c|  d|\n",
            "+---+---+---+---+\n",
            "|  1|  2|  3|  4|\n",
            "|  9| 10| 11| 12|\n",
            "| 13| 14| 15| 16|\n",
            "|  5|  6|  7|  8|\n",
            "|n11|n12|n13|n14|\n",
            "|n21|n22|n23|n24|\n",
            "+---+---+---+---+\n",
            "\n"
          ]
        }
      ]
    },
    {
      "cell_type": "code",
      "source": [
        "union.createOrReplaceTempView('union')\n",
        "df_select = spark_session.sql('select * from union where a like \"%1%\"')\n",
        "df_select.show()"
      ],
      "metadata": {
        "id": "-gzNllPeuzEr",
        "outputId": "651a0bff-5fdc-4324-a616-2f8cadb38082",
        "colab": {
          "base_uri": "https://localhost:8080/"
        }
      },
      "execution_count": 29,
      "outputs": [
        {
          "output_type": "stream",
          "name": "stdout",
          "text": [
            "+---+---+---+---+\n",
            "|  a|  b|  c|  d|\n",
            "+---+---+---+---+\n",
            "|  1|  2|  3|  4|\n",
            "| 13| 14| 15| 16|\n",
            "|n11|n12|n13|n14|\n",
            "|n21|n22|n23|n24|\n",
            "+---+---+---+---+\n",
            "\n"
          ]
        }
      ]
    },
    {
      "cell_type": "code",
      "source": [
        "#Otra forma de filtro (como pandas)\n",
        "df_filtrado = union.filter(col(\"a\").contains(\"1\"))\n",
        "df_filtrado.show()"
      ],
      "metadata": {
        "id": "WCeoOX-Pvajn",
        "outputId": "bb3e9865-36e3-4a1b-cbe6-997f20b0624f",
        "colab": {
          "base_uri": "https://localhost:8080/"
        }
      },
      "execution_count": 30,
      "outputs": [
        {
          "output_type": "stream",
          "name": "stdout",
          "text": [
            "+---+---+---+---+\n",
            "|  a|  b|  c|  d|\n",
            "+---+---+---+---+\n",
            "|  1|  2|  3|  4|\n",
            "| 13| 14| 15| 16|\n",
            "|n11|n12|n13|n14|\n",
            "|n21|n22|n23|n24|\n",
            "+---+---+---+---+\n",
            "\n"
          ]
        }
      ]
    },
    {
      "cell_type": "code",
      "source": [
        "print(df_filtrado.collect())"
      ],
      "metadata": {
        "id": "jXtP_Xu0wIf2",
        "outputId": "ff2d2637-9bc7-4733-d999-81805aefeae4",
        "colab": {
          "base_uri": "https://localhost:8080/"
        }
      },
      "execution_count": 31,
      "outputs": [
        {
          "output_type": "stream",
          "name": "stdout",
          "text": [
            "[Row(a='1', b='2', c='3', d='4'), Row(a='13', b='14', c='15', d='16'), Row(a='n11', b='n12', c='n13', d='n14'), Row(a='n21', b='n22', c='n23', d='n24')]\n"
          ]
        }
      ]
    },
    {
      "cell_type": "code",
      "source": [
        "df1.show()"
      ],
      "metadata": {
        "id": "THFDmVRowgsR",
        "outputId": "a6550e24-563c-44e0-a2c3-a582c79c12d3",
        "colab": {
          "base_uri": "https://localhost:8080/"
        }
      },
      "execution_count": 32,
      "outputs": [
        {
          "output_type": "stream",
          "name": "stdout",
          "text": [
            "+---+---+---+---+\n",
            "|  a|  b|  c|  d|\n",
            "+---+---+---+---+\n",
            "|  1|  2|  3|  4|\n",
            "|  5|  6|  7|  8|\n",
            "|  9| 10| 11| 12|\n",
            "| 13| 14| 15| 16|\n",
            "+---+---+---+---+\n",
            "\n"
          ]
        }
      ]
    },
    {
      "cell_type": "code",
      "source": [
        "dfnum = df1.withColumns({\"a\": df1.a.cast(types.IntegerType()),\n",
        "                         \"b\": df1.b.cast(types.IntegerType()),\n",
        "                         \"d\": df1.d.cast(types.FloatType())})\n",
        "print(dfnum.dtypes)\n",
        "dfnum.show()"
      ],
      "metadata": {
        "id": "QggoWC8WxezP",
        "outputId": "b99070c9-fb63-4535-caaa-78f9d33810fb",
        "colab": {
          "base_uri": "https://localhost:8080/"
        }
      },
      "execution_count": 33,
      "outputs": [
        {
          "output_type": "stream",
          "name": "stdout",
          "text": [
            "[('a', 'int'), ('b', 'int'), ('c', 'string'), ('d', 'float')]\n",
            "+---+---+---+----+\n",
            "|  a|  b|  c|   d|\n",
            "+---+---+---+----+\n",
            "|  1|  2|  3| 4.0|\n",
            "|  5|  6|  7| 8.0|\n",
            "|  9| 10| 11|12.0|\n",
            "| 13| 14| 15|16.0|\n",
            "+---+---+---+----+\n",
            "\n"
          ]
        }
      ]
    },
    {
      "cell_type": "code",
      "source": [
        "dfag = dfnum.groupBy('c').agg({'a':'sum', 'b':'mean', 'd':'max'})\n",
        "dfag.show()"
      ],
      "metadata": {
        "id": "qPRz92HRzXNi",
        "outputId": "0010e935-126e-406f-eaff-a387f9683eaf",
        "colab": {
          "base_uri": "https://localhost:8080/"
        }
      },
      "execution_count": 34,
      "outputs": [
        {
          "output_type": "stream",
          "name": "stdout",
          "text": [
            "+---+------+------+------+\n",
            "|  c|sum(a)|avg(b)|max(d)|\n",
            "+---+------+------+------+\n",
            "|  7|     5|   6.0|   8.0|\n",
            "| 15|    13|  14.0|  16.0|\n",
            "| 11|     9|  10.0|  12.0|\n",
            "|  3|     1|   2.0|   4.0|\n",
            "+---+------+------+------+\n",
            "\n"
          ]
        }
      ]
    },
    {
      "cell_type": "code",
      "source": [
        "dfag2 = dfnum.groupBy('c').agg(sum(\"a\").alias(\"suma_de_a\"),\n",
        "                               mean(\"b\").alias(\"mediana de b\"),\n",
        "                               avg(\"d\").alias(\"media de d\"))\n",
        "dfag2.show()"
      ],
      "metadata": {
        "id": "5rM7CocTzVxj",
        "outputId": "cf0d90d4-de0e-4317-b4e4-3f1d90e75233",
        "colab": {
          "base_uri": "https://localhost:8080/"
        }
      },
      "execution_count": 39,
      "outputs": [
        {
          "output_type": "stream",
          "name": "stdout",
          "text": [
            "+---+---------+------------+----------+\n",
            "|  c|suma_de_a|mediana de b|media de d|\n",
            "+---+---------+------------+----------+\n",
            "|  7|        5|         6.0|       8.0|\n",
            "| 15|       13|        14.0|      16.0|\n",
            "| 11|        9|        10.0|      12.0|\n",
            "|  3|        1|         2.0|       4.0|\n",
            "+---+---------+------------+----------+\n",
            "\n"
          ]
        }
      ]
    },
    {
      "cell_type": "code",
      "source": [
        "join = df1.join(df2, on = 'a', how = 'inner')\n",
        "join.show()"
      ],
      "metadata": {
        "colab": {
          "base_uri": "https://localhost:8080/"
        },
        "id": "iJuL8zJrbBja",
        "outputId": "c855defc-316d-4131-9765-2cfcf4f466b9"
      },
      "execution_count": 43,
      "outputs": [
        {
          "output_type": "stream",
          "name": "stdout",
          "text": [
            "+---+---+---+---+---+---+---+---+\n",
            "|  a|  b|  c|  d|  d|  e|  f|  g|\n",
            "+---+---+---+---+---+---+---+---+\n",
            "|  1|  2|  3|  4| 17| 18| 19| 20|\n",
            "|  5|  6|  7|  8| 21| 22| 23| 24|\n",
            "|  9| 10| 11| 12| 25| 26| 27| 28|\n",
            "| 13| 14| 15| 16| 29| 30| 31| 32|\n",
            "+---+---+---+---+---+---+---+---+\n",
            "\n"
          ]
        }
      ]
    },
    {
      "cell_type": "code",
      "source": [
        "crossjoin = df1.crossJoin(df2.select('f','g'))\n",
        "crossjoin.show()"
      ],
      "metadata": {
        "colab": {
          "base_uri": "https://localhost:8080/"
        },
        "id": "Oy0Po66ObsQk",
        "outputId": "ce0f4567-dcd2-441f-a6b4-7415f60a26ea"
      },
      "execution_count": 45,
      "outputs": [
        {
          "output_type": "stream",
          "name": "stdout",
          "text": [
            "+---+---+---+---+---+---+\n",
            "|  a|  b|  c|  d|  f|  g|\n",
            "+---+---+---+---+---+---+\n",
            "|  1|  2|  3|  4| 19| 20|\n",
            "|  1|  2|  3|  4| 23| 24|\n",
            "|  1|  2|  3|  4| 27| 28|\n",
            "|  1|  2|  3|  4| 31| 32|\n",
            "|  5|  6|  7|  8| 19| 20|\n",
            "|  5|  6|  7|  8| 23| 24|\n",
            "|  5|  6|  7|  8| 27| 28|\n",
            "|  5|  6|  7|  8| 31| 32|\n",
            "|  9| 10| 11| 12| 19| 20|\n",
            "|  9| 10| 11| 12| 23| 24|\n",
            "|  9| 10| 11| 12| 27| 28|\n",
            "|  9| 10| 11| 12| 31| 32|\n",
            "| 13| 14| 15| 16| 19| 20|\n",
            "| 13| 14| 15| 16| 23| 24|\n",
            "| 13| 14| 15| 16| 27| 28|\n",
            "| 13| 14| 15| 16| 31| 32|\n",
            "+---+---+---+---+---+---+\n",
            "\n"
          ]
        }
      ]
    },
    {
      "cell_type": "code",
      "source": [
        "f1_broadcasted = broadcast(df1)\n",
        "#se hace broadcast con el dataframe más pequeño. Esto hace que el dataset se copie en todos los nodos\n",
        "#y así la ejecución es más rápida.\n",
        "f1_broadcasted.show()\n",
        "join_with_broadcasted = f1_broadcasted.join(df2, on = 'a', how = 'inner')\n",
        "join_with_broadcasted.show()"
      ],
      "metadata": {
        "colab": {
          "base_uri": "https://localhost:8080/"
        },
        "id": "q2cq4U3OcYay",
        "outputId": "068f15ba-410e-44fb-ce58-f6ad4809c245"
      },
      "execution_count": 50,
      "outputs": [
        {
          "output_type": "stream",
          "name": "stdout",
          "text": [
            "+---+---+---+---+\n",
            "|  a|  b|  c|  d|\n",
            "+---+---+---+---+\n",
            "|  1|  2|  3|  4|\n",
            "|  5|  6|  7|  8|\n",
            "|  9| 10| 11| 12|\n",
            "| 13| 14| 15| 16|\n",
            "+---+---+---+---+\n",
            "\n",
            "+---+---+---+---+---+---+---+---+\n",
            "|  a|  b|  c|  d|  d|  e|  f|  g|\n",
            "+---+---+---+---+---+---+---+---+\n",
            "|  1|  2|  3|  4| 17| 18| 19| 20|\n",
            "|  5|  6|  7|  8| 21| 22| 23| 24|\n",
            "|  9| 10| 11| 12| 25| 26| 27| 28|\n",
            "| 13| 14| 15| 16| 29| 30| 31| 32|\n",
            "+---+---+---+---+---+---+---+---+\n",
            "\n"
          ]
        }
      ]
    },
    {
      "cell_type": "code",
      "source": [
        "''' sirve para tener copia de un dataframe\n",
        "además permite usar la notación de texto que pongo en la función select\n",
        "'''\n",
        "df1_alias = df1.alias('df_con_alias')\n",
        "df1_alias.select('df_con_alias.a','df_con_alias.b').show()\n"
      ],
      "metadata": {
        "colab": {
          "base_uri": "https://localhost:8080/"
        },
        "id": "PDtmaZfwdA5H",
        "outputId": "437e7ed4-1e91-4a15-db1a-b28a07252977"
      },
      "execution_count": 53,
      "outputs": [
        {
          "output_type": "stream",
          "name": "stdout",
          "text": [
            "+---+---+\n",
            "|  a|  b|\n",
            "+---+---+\n",
            "|  1|  2|\n",
            "|  5|  6|\n",
            "|  9| 10|\n",
            "| 13| 14|\n",
            "+---+---+\n",
            "\n"
          ]
        }
      ]
    },
    {
      "cell_type": "code",
      "source": [
        "#rollup aplica la función dentro de la jerarquía\n",
        "df2_num = df2.alias('df2_num')\n",
        "for columna in df2_num.columns:\n",
        "  df2_num = df2_num.withColumn(columna, df2_num[columna].cast(types.IntegerType()))\n",
        "#End for\n",
        "rollup = df2_num.rollup('a','d').avg('f')\n",
        "rollup.orderBy('a','d').show()"
      ],
      "metadata": {
        "colab": {
          "base_uri": "https://localhost:8080/"
        },
        "id": "pHtHtyeHfSLJ",
        "outputId": "254e72de-8069-4bee-ca11-95500f1cd76b"
      },
      "execution_count": 62,
      "outputs": [
        {
          "output_type": "stream",
          "name": "stdout",
          "text": [
            "+----+----+------+\n",
            "|   a|   d|avg(f)|\n",
            "+----+----+------+\n",
            "|NULL|NULL|  25.0|\n",
            "|   1|NULL|  19.0|\n",
            "|   1|  17|  19.0|\n",
            "|   5|NULL|  23.0|\n",
            "|   5|  21|  23.0|\n",
            "|   9|NULL|  27.0|\n",
            "|   9|  25|  27.0|\n",
            "|  13|NULL|  31.0|\n",
            "|  13|  29|  31.0|\n",
            "+----+----+------+\n",
            "\n"
          ]
        }
      ]
    },
    {
      "cell_type": "code",
      "source": [
        "#igual que rollup pero desarrolla toda la jerarquía hacia adelante y hacia atrás\n",
        "cube = df2_num.cube('a','d').avg('f')\n",
        "cube.orderBy('a','d').show()"
      ],
      "metadata": {
        "colab": {
          "base_uri": "https://localhost:8080/"
        },
        "id": "IOzxVzu2jPJk",
        "outputId": "ee61a648-4a33-4a27-91c1-c295ad28e74b"
      },
      "execution_count": 64,
      "outputs": [
        {
          "output_type": "stream",
          "name": "stdout",
          "text": [
            "+----+----+------+\n",
            "|   a|   d|avg(f)|\n",
            "+----+----+------+\n",
            "|NULL|NULL|  25.0|\n",
            "|NULL|  17|  19.0|\n",
            "|NULL|  21|  23.0|\n",
            "|NULL|  25|  27.0|\n",
            "|NULL|  29|  31.0|\n",
            "|   1|NULL|  19.0|\n",
            "|   1|  17|  19.0|\n",
            "|   5|NULL|  23.0|\n",
            "|   5|  21|  23.0|\n",
            "|   9|NULL|  27.0|\n",
            "|   9|  25|  27.0|\n",
            "|  13|NULL|  31.0|\n",
            "|  13|  29|  31.0|\n",
            "+----+----+------+\n",
            "\n"
          ]
        }
      ]
    },
    {
      "cell_type": "code",
      "source": [
        "pivot_gb = df2_num.groupBy('a').pivot('d').avg('f')\n",
        "pivot_gb.show()"
      ],
      "metadata": {
        "colab": {
          "base_uri": "https://localhost:8080/"
        },
        "id": "18sPEVtVjdNj",
        "outputId": "e50014f8-acc7-428f-c99c-ed02bc0b5456"
      },
      "execution_count": 68,
      "outputs": [
        {
          "output_type": "stream",
          "name": "stdout",
          "text": [
            "+---+----+----+----+----+\n",
            "|  a|  17|  21|  25|  29|\n",
            "+---+----+----+----+----+\n",
            "|  1|19.0|NULL|NULL|NULL|\n",
            "| 13|NULL|NULL|NULL|31.0|\n",
            "|  5|NULL|23.0|NULL|NULL|\n",
            "|  9|NULL|NULL|27.0|NULL|\n",
            "+---+----+----+----+----+\n",
            "\n"
          ]
        }
      ]
    },
    {
      "cell_type": "code",
      "source": [
        "rollup_pivot = df2_num.rollup('a','d').avg('f').withColumnRenamed('avg(f)','f')\n",
        "rollup_pivot = rollup_pivot.groupby('a').pivot('d').max('f')\n",
        "rollup_pivot.show()"
      ],
      "metadata": {
        "id": "ZeIzukQ8ql5R",
        "outputId": "670852d5-64ed-4002-db67-d5d89854ba33",
        "colab": {
          "base_uri": "https://localhost:8080/"
        }
      },
      "execution_count": 73,
      "outputs": [
        {
          "output_type": "stream",
          "name": "stdout",
          "text": [
            "+----+----+----+----+----+----+\n",
            "|   a|null|  17|  21|  25|  29|\n",
            "+----+----+----+----+----+----+\n",
            "|NULL|25.0|NULL|NULL|NULL|NULL|\n",
            "|   1|19.0|19.0|NULL|NULL|NULL|\n",
            "|  13|31.0|NULL|NULL|NULL|31.0|\n",
            "|   5|23.0|NULL|23.0|NULL|NULL|\n",
            "|   9|27.0|NULL|NULL|27.0|NULL|\n",
            "+----+----+----+----+----+----+\n",
            "\n"
          ]
        }
      ]
    },
    {
      "cell_type": "code",
      "source": [
        "cube_pivot = df2_num.cube('a','d').avg('f').withColumnRenamed('avg(f)','f')\n",
        "cube_pivot = cube_pivot.groupby('a').pivot('d').max('f')\n",
        "cube_pivot.show()"
      ],
      "metadata": {
        "id": "KToHnq3NsaoB",
        "outputId": "5ca7c196-712e-415a-defe-205781712b8e",
        "colab": {
          "base_uri": "https://localhost:8080/"
        }
      },
      "execution_count": 74,
      "outputs": [
        {
          "output_type": "stream",
          "name": "stdout",
          "text": [
            "+----+----+----+----+----+----+\n",
            "|   a|null|  17|  21|  25|  29|\n",
            "+----+----+----+----+----+----+\n",
            "|NULL|25.0|19.0|23.0|27.0|31.0|\n",
            "|   1|19.0|19.0|NULL|NULL|NULL|\n",
            "|  13|31.0|NULL|NULL|NULL|31.0|\n",
            "|   5|23.0|NULL|23.0|NULL|NULL|\n",
            "|   9|27.0|NULL|NULL|27.0|NULL|\n",
            "+----+----+----+----+----+----+\n",
            "\n"
          ]
        }
      ]
    },
    {
      "cell_type": "code",
      "source": [
        "sb = df1.select('a','b').union(df2.select('a','d').withColumnRenamed('d','b'))\n",
        "sb.sort(['a','b'], ascending = [False, True]).show()\n",
        "sb.orderBy(['a','b'], ascending = [False, True]).show()\n",
        "sb.orderBy(asc('a'), desc('b')).show()\n"
      ],
      "metadata": {
        "id": "IIZj2BN3uoqo",
        "outputId": "86eca9f5-fd44-4bc0-963f-1b4bd193f340",
        "colab": {
          "base_uri": "https://localhost:8080/"
        }
      },
      "execution_count": 93,
      "outputs": [
        {
          "output_type": "stream",
          "name": "stdout",
          "text": [
            "+---+---+\n",
            "|  a|  b|\n",
            "+---+---+\n",
            "|  9| 10|\n",
            "|  9| 25|\n",
            "|  5| 21|\n",
            "|  5|  6|\n",
            "| 13| 14|\n",
            "| 13| 29|\n",
            "|  1| 17|\n",
            "|  1|  2|\n",
            "+---+---+\n",
            "\n",
            "+---+---+\n",
            "|  a|  b|\n",
            "+---+---+\n",
            "|  9| 10|\n",
            "|  9| 25|\n",
            "|  5| 21|\n",
            "|  5|  6|\n",
            "| 13| 14|\n",
            "| 13| 29|\n",
            "|  1| 17|\n",
            "|  1|  2|\n",
            "+---+---+\n",
            "\n",
            "+---+---+\n",
            "|  a|  b|\n",
            "+---+---+\n",
            "|  1|  2|\n",
            "|  1| 17|\n",
            "| 13| 29|\n",
            "| 13| 14|\n",
            "|  5|  6|\n",
            "|  5| 21|\n",
            "|  9| 25|\n",
            "|  9| 10|\n",
            "+---+---+\n",
            "\n"
          ]
        }
      ]
    },
    {
      "cell_type": "code",
      "source": [
        "duplicate_dropped = sb.dropDuplicates(['a'])\n",
        "duplicate_dropped.show()"
      ],
      "metadata": {
        "id": "cJ6Lq0qLwhEe",
        "outputId": "0295cb0f-6c13-4493-c8a0-53c80ad96d8a",
        "colab": {
          "base_uri": "https://localhost:8080/"
        }
      },
      "execution_count": 96,
      "outputs": [
        {
          "output_type": "stream",
          "name": "stdout",
          "text": [
            "+---+---+\n",
            "|  a|  b|\n",
            "+---+---+\n",
            "|  1|  2|\n",
            "| 13| 14|\n",
            "|  5|  6|\n",
            "|  9| 10|\n",
            "+---+---+\n",
            "\n"
          ]
        }
      ]
    },
    {
      "cell_type": "code",
      "source": [],
      "metadata": {
        "id": "rqud6LGqBXhm"
      },
      "execution_count": null,
      "outputs": []
    }
  ]
}