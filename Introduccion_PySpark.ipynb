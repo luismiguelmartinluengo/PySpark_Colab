{
  "nbformat": 4,
  "nbformat_minor": 0,
  "metadata": {
    "colab": {
      "provenance": [],
      "authorship_tag": "ABX9TyPtJuiLffftqTdVdaDYRyWk",
      "include_colab_link": true
    },
    "kernelspec": {
      "name": "python3",
      "display_name": "Python 3"
    },
    "language_info": {
      "name": "python"
    }
  },
  "cells": [
    {
      "cell_type": "markdown",
      "metadata": {
        "id": "view-in-github",
        "colab_type": "text"
      },
      "source": [
        "<a href=\"https://colab.research.google.com/github/luismiguelmartinluengo/Test_in_Colab/blob/main/Introduccion_PySpark.ipynb\" target=\"_parent\"><img src=\"https://colab.research.google.com/assets/colab-badge.svg\" alt=\"Open In Colab\"/></a>"
      ]
    },
    {
      "cell_type": "code",
      "execution_count": 107,
      "metadata": {
        "id": "F2xowtgSnQps"
      },
      "outputs": [],
      "source": [
        "import pyspark\n",
        "from pyspark.sql import SparkSession"
      ]
    },
    {
      "cell_type": "code",
      "source": [
        "ruta_dataset_1 = 'sample_data/csv1.txt'\n",
        "ruta_dataset_2 = 'sample_data/csv2.txt'"
      ],
      "metadata": {
        "id": "MexOH76uqXLB"
      },
      "execution_count": 108,
      "outputs": []
    },
    {
      "cell_type": "markdown",
      "source": [],
      "metadata": {
        "id": "6DNNrFMBHg5H"
      }
    },
    {
      "cell_type": "code",
      "source": [],
      "metadata": {
        "id": "Jee70TKVHgdo"
      },
      "execution_count": 108,
      "outputs": []
    },
    {
      "cell_type": "code",
      "source": [
        "spark_session = (SparkSession.builder.appName(\"SparkSQLExampleApp\").getOrCreate())"
      ],
      "metadata": {
        "id": "hNJseKIDoGiJ"
      },
      "execution_count": 109,
      "outputs": []
    },
    {
      "cell_type": "code",
      "source": [
        "spark_session.version"
      ],
      "metadata": {
        "colab": {
          "base_uri": "https://localhost:8080/",
          "height": 36
        },
        "id": "oPhtz4gkAjo6",
        "outputId": "fa99cacf-a26f-4f8a-efa6-747c587a6f8b"
      },
      "execution_count": 110,
      "outputs": [
        {
          "output_type": "execute_result",
          "data": {
            "text/plain": [
              "'3.5.4'"
            ],
            "application/vnd.google.colaboratory.intrinsic+json": {
              "type": "string"
            }
          },
          "metadata": {},
          "execution_count": 110
        }
      ]
    },
    {
      "cell_type": "code",
      "source": [
        "import os\n",
        "for item in os.listdir('sample_data/'):\n",
        "  print(item)"
      ],
      "metadata": {
        "colab": {
          "base_uri": "https://localhost:8080/"
        },
        "id": "KkoF8B3hpE8-",
        "outputId": "4d115621-2bc4-4b5b-d862-0c18247f441e"
      },
      "execution_count": 111,
      "outputs": [
        {
          "output_type": "stream",
          "name": "stdout",
          "text": [
            "README.md\n",
            "anscombe.json\n",
            "csv2.txt\n",
            "csv1.txt\n",
            "mnist_train_small.csv\n",
            "mnist_test.csv\n",
            "california_housing_test.csv\n",
            "california_housing_train.csv\n"
          ]
        }
      ]
    },
    {
      "cell_type": "code",
      "source": [
        "df1 = spark_session.read.csv(ruta_dataset_1, header = True, sep = ';')"
      ],
      "metadata": {
        "id": "DSQ3VU33rHbC"
      },
      "execution_count": 112,
      "outputs": []
    },
    {
      "cell_type": "code",
      "source": [
        "df1.show()"
      ],
      "metadata": {
        "colab": {
          "base_uri": "https://localhost:8080/"
        },
        "id": "xkUURs1REnfw",
        "outputId": "8a185e1d-ef61-4a45-adc8-9208a81066f6"
      },
      "execution_count": 113,
      "outputs": [
        {
          "output_type": "stream",
          "name": "stdout",
          "text": [
            "+---+---+-----+---+\n",
            "|  a|  b|    c|  d|\n",
            "+---+---+-----+---+\n",
            "|  1| 21| hola|4.1|\n",
            "|  2| 22|  que|4.2|\n",
            "|  3| 23|  tal|4.3|\n",
            "|  4| 24|estas|4.4|\n",
            "|  5| 25|   tu|4.5|\n",
            "+---+---+-----+---+\n",
            "\n"
          ]
        }
      ]
    },
    {
      "cell_type": "code",
      "source": [
        "df1.describe().show()"
      ],
      "metadata": {
        "id": "w9McSUGxz4fb",
        "colab": {
          "base_uri": "https://localhost:8080/"
        },
        "outputId": "78794e55-3ebe-4b28-f76b-bcaaa4004ab6"
      },
      "execution_count": 114,
      "outputs": [
        {
          "output_type": "stream",
          "name": "stdout",
          "text": [
            "+-------+------------------+------------------+-----+-------------------+\n",
            "|summary|                 a|                 b|    c|                  d|\n",
            "+-------+------------------+------------------+-----+-------------------+\n",
            "|  count|                 5|                 5|    5|                  5|\n",
            "|   mean|               3.0|              23.0| NULL|                4.3|\n",
            "| stddev|1.5811388300841898|1.5811388300841898| NULL|0.15811388300841897|\n",
            "|    min|                 1|                21|estas|                4.1|\n",
            "|    max|                 5|                25|   tu|                4.5|\n",
            "+-------+------------------+------------------+-----+-------------------+\n",
            "\n"
          ]
        }
      ]
    },
    {
      "cell_type": "code",
      "source": [
        "df1.printSchema()"
      ],
      "metadata": {
        "colab": {
          "base_uri": "https://localhost:8080/"
        },
        "id": "JR5HMUp59kn7",
        "outputId": "023954ad-a07e-4f74-cba3-8e859c71078d"
      },
      "execution_count": 115,
      "outputs": [
        {
          "output_type": "stream",
          "name": "stdout",
          "text": [
            "root\n",
            " |-- a: string (nullable = true)\n",
            " |-- b: string (nullable = true)\n",
            " |-- c: string (nullable = true)\n",
            " |-- d: string (nullable = true)\n",
            "\n"
          ]
        }
      ]
    },
    {
      "cell_type": "code",
      "source": [
        "df1.isEmpty()"
      ],
      "metadata": {
        "colab": {
          "base_uri": "https://localhost:8080/"
        },
        "id": "IkPWD1X8-nrV",
        "outputId": "586c3ed7-f960-4f0e-b312-bf439f33b4fc"
      },
      "execution_count": 116,
      "outputs": [
        {
          "output_type": "execute_result",
          "data": {
            "text/plain": [
              "False"
            ]
          },
          "metadata": {},
          "execution_count": 116
        }
      ]
    },
    {
      "cell_type": "code",
      "source": [
        "df1.columns"
      ],
      "metadata": {
        "colab": {
          "base_uri": "https://localhost:8080/"
        },
        "id": "VX93uCN7FpmM",
        "outputId": "2a03d361-f32e-474b-8e19-4fbc9caa92ab"
      },
      "execution_count": 117,
      "outputs": [
        {
          "output_type": "execute_result",
          "data": {
            "text/plain": [
              "['a', 'b', 'c', 'd']"
            ]
          },
          "metadata": {},
          "execution_count": 117
        }
      ]
    },
    {
      "cell_type": "code",
      "source": [
        "df1.count()"
      ],
      "metadata": {
        "colab": {
          "base_uri": "https://localhost:8080/"
        },
        "id": "X-wP1TVtFtJV",
        "outputId": "6804faaa-9184-4f55-bbfd-81dde155849b"
      },
      "execution_count": 118,
      "outputs": [
        {
          "output_type": "execute_result",
          "data": {
            "text/plain": [
              "5"
            ]
          },
          "metadata": {},
          "execution_count": 118
        }
      ]
    },
    {
      "cell_type": "code",
      "source": [
        "df1.head(2)"
      ],
      "metadata": {
        "colab": {
          "base_uri": "https://localhost:8080/"
        },
        "id": "2hU1bPIhG1hY",
        "outputId": "dd18f3bc-5471-4d17-914b-c38ae8563f57"
      },
      "execution_count": 119,
      "outputs": [
        {
          "output_type": "execute_result",
          "data": {
            "text/plain": [
              "[Row(a='1', b='21', c='hola', d='4.1'), Row(a='2', b='22', c='que', d='4.2')]"
            ]
          },
          "metadata": {},
          "execution_count": 119
        }
      ]
    },
    {
      "cell_type": "code",
      "source": [
        "df2 = spark_session.read.csv(ruta_dataset_2, header = True, sep = ';')\n",
        "df2.show(2)"
      ],
      "metadata": {
        "colab": {
          "base_uri": "https://localhost:8080/"
        },
        "id": "K_Fk2eGhG4IH",
        "outputId": "97d99403-f059-4f9d-bedd-f93d39dcc90a"
      },
      "execution_count": 120,
      "outputs": [
        {
          "output_type": "stream",
          "name": "stdout",
          "text": [
            "+---+---+---+---+\n",
            "|  a|  b|  c|  d|\n",
            "+---+---+---+---+\n",
            "|  1|  2|  3|  4|\n",
            "|  2|  2|  3|  4|\n",
            "+---+---+---+---+\n",
            "only showing top 2 rows\n",
            "\n"
          ]
        }
      ]
    },
    {
      "cell_type": "code",
      "source": [
        "dfea = df1.exceptAll(df2)\n",
        "dfea.show()"
      ],
      "metadata": {
        "colab": {
          "base_uri": "https://localhost:8080/"
        },
        "id": "T3mpdOePHu8u",
        "outputId": "4797ab72-2e58-4f50-c763-081f7b98ce04"
      },
      "execution_count": 121,
      "outputs": [
        {
          "output_type": "stream",
          "name": "stdout",
          "text": [
            "+---+---+-----+---+\n",
            "|  a|  b|    c|  d|\n",
            "+---+---+-----+---+\n",
            "|  3| 23|  tal|4.3|\n",
            "|  5| 25|   tu|4.5|\n",
            "|  1| 21| hola|4.1|\n",
            "|  2| 22|  que|4.2|\n",
            "|  4| 24|estas|4.4|\n",
            "+---+---+-----+---+\n",
            "\n"
          ]
        }
      ]
    },
    {
      "cell_type": "code",
      "source": [
        "dfea.describe().show()"
      ],
      "metadata": {
        "colab": {
          "base_uri": "https://localhost:8080/"
        },
        "id": "cz31yTO_IWa1",
        "outputId": "ab12112a-f49c-44fb-911c-048e7d184581"
      },
      "execution_count": 122,
      "outputs": [
        {
          "output_type": "stream",
          "name": "stdout",
          "text": [
            "+-------+------------------+------------------+-----+-------------------+\n",
            "|summary|                 a|                 b|    c|                  d|\n",
            "+-------+------------------+------------------+-----+-------------------+\n",
            "|  count|                 5|                 5|    5|                  5|\n",
            "|   mean|               3.0|              23.0| NULL|                4.3|\n",
            "| stddev|1.5811388300841898|1.5811388300841898| NULL|0.15811388300841916|\n",
            "|    min|                 1|                21|estas|                4.1|\n",
            "|    max|                 5|                25|   tu|                4.5|\n",
            "+-------+------------------+------------------+-----+-------------------+\n",
            "\n"
          ]
        }
      ]
    },
    {
      "cell_type": "code",
      "source": [
        "df1.select('a','c').limit(3).show()"
      ],
      "metadata": {
        "colab": {
          "base_uri": "https://localhost:8080/"
        },
        "id": "93i1xRUrIiZw",
        "outputId": "29a3a8ce-a76a-4eb9-ad34-75a8b9ecb2be"
      },
      "execution_count": 123,
      "outputs": [
        {
          "output_type": "stream",
          "name": "stdout",
          "text": [
            "+---+----+\n",
            "|  a|   c|\n",
            "+---+----+\n",
            "|  1|hola|\n",
            "|  2| que|\n",
            "|  3| tal|\n",
            "+---+----+\n",
            "\n"
          ]
        }
      ]
    },
    {
      "cell_type": "code",
      "source": [
        "df1.take(2)"
      ],
      "metadata": {
        "colab": {
          "base_uri": "https://localhost:8080/"
        },
        "id": "RGXb9ZgHYKdx",
        "outputId": "ad45683f-2513-408d-8630-14bda9c555d0"
      },
      "execution_count": 124,
      "outputs": [
        {
          "output_type": "execute_result",
          "data": {
            "text/plain": [
              "[Row(a='1', b='21', c='hola', d='4.1'), Row(a='2', b='22', c='que', d='4.2')]"
            ]
          },
          "metadata": {},
          "execution_count": 124
        }
      ]
    },
    {
      "cell_type": "code",
      "source": [
        "df1.head(2)"
      ],
      "metadata": {
        "colab": {
          "base_uri": "https://localhost:8080/"
        },
        "id": "9iHyUyh4Yx9o",
        "outputId": "ee237542-474a-4599-ae72-f9ff93e46607"
      },
      "execution_count": 125,
      "outputs": [
        {
          "output_type": "execute_result",
          "data": {
            "text/plain": [
              "[Row(a='1', b='21', c='hola', d='4.1'), Row(a='2', b='22', c='que', d='4.2')]"
            ]
          },
          "metadata": {},
          "execution_count": 125
        }
      ]
    },
    {
      "cell_type": "code",
      "source": [
        "filas = df1.limit(2).collect()\n",
        "print(filas[0].asDict())\n",
        "print(filas[1].asDict())"
      ],
      "metadata": {
        "colab": {
          "base_uri": "https://localhost:8080/"
        },
        "id": "vAtwSgbxY62V",
        "outputId": "228135f8-8818-49a3-f52e-642c81a56065"
      },
      "execution_count": 126,
      "outputs": [
        {
          "output_type": "stream",
          "name": "stdout",
          "text": [
            "{'a': '1', 'b': '21', 'c': 'hola', 'd': '4.1'}\n",
            "{'a': '2', 'b': '22', 'c': 'que', 'd': '4.2'}\n"
          ]
        }
      ]
    },
    {
      "cell_type": "code",
      "source": [],
      "metadata": {
        "id": "wzflxNpXZypj"
      },
      "execution_count": 126,
      "outputs": []
    },
    {
      "cell_type": "code",
      "source": [],
      "metadata": {
        "id": "bJWxZ_UZZYV5"
      },
      "execution_count": 126,
      "outputs": []
    }
  ]
}