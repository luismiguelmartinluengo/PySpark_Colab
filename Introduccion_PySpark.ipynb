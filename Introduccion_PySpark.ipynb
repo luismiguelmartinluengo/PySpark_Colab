{
  "nbformat": 4,
  "nbformat_minor": 0,
  "metadata": {
    "colab": {
      "provenance": [],
      "authorship_tag": "ABX9TyN7s1tuoQ2narq45URTTvt9",
      "include_colab_link": true
    },
    "kernelspec": {
      "name": "python3",
      "display_name": "Python 3"
    },
    "language_info": {
      "name": "python"
    }
  },
  "cells": [
    {
      "cell_type": "markdown",
      "metadata": {
        "id": "view-in-github",
        "colab_type": "text"
      },
      "source": [
        "<a href=\"https://colab.research.google.com/github/luismiguelmartinluengo/Test_in_Colab/blob/main/Introduccion_PySpark.ipynb\" target=\"_parent\"><img src=\"https://colab.research.google.com/assets/colab-badge.svg\" alt=\"Open In Colab\"/></a>"
      ]
    },
    {
      "cell_type": "code",
      "execution_count": 69,
      "metadata": {
        "id": "F2xowtgSnQps"
      },
      "outputs": [],
      "source": [
        "import pyspark\n",
        "from pyspark.sql import SparkSession\n",
        "from pyspark.sql.functions import when, lit, col, count, mean, avg\n",
        "from pyspark.sql import types"
      ]
    },
    {
      "cell_type": "code",
      "source": [
        "ruta_dataset_1 = 'sample_data/csv1.txt'\n",
        "ruta_dataset_2 = 'sample_data/csv2.txt'"
      ],
      "metadata": {
        "id": "MexOH76uqXLB"
      },
      "execution_count": 2,
      "outputs": []
    },
    {
      "cell_type": "markdown",
      "source": [],
      "metadata": {
        "id": "6DNNrFMBHg5H"
      }
    },
    {
      "cell_type": "code",
      "source": [],
      "metadata": {
        "id": "Jee70TKVHgdo"
      },
      "execution_count": 2,
      "outputs": []
    },
    {
      "cell_type": "code",
      "source": [
        "spark_session = (SparkSession.builder.appName(\"SparkSQLExampleApp\").getOrCreate())"
      ],
      "metadata": {
        "id": "hNJseKIDoGiJ"
      },
      "execution_count": 3,
      "outputs": []
    },
    {
      "cell_type": "code",
      "source": [
        "spark_session.version"
      ],
      "metadata": {
        "colab": {
          "base_uri": "https://localhost:8080/",
          "height": 36
        },
        "id": "oPhtz4gkAjo6",
        "outputId": "a61ec67a-76a1-48be-d3d0-03d5df06a601"
      },
      "execution_count": 4,
      "outputs": [
        {
          "output_type": "execute_result",
          "data": {
            "text/plain": [
              "'3.5.4'"
            ],
            "application/vnd.google.colaboratory.intrinsic+json": {
              "type": "string"
            }
          },
          "metadata": {},
          "execution_count": 4
        }
      ]
    },
    {
      "cell_type": "code",
      "source": [
        "import os\n",
        "for item in os.listdir('sample_data/'):\n",
        "  print(item)"
      ],
      "metadata": {
        "colab": {
          "base_uri": "https://localhost:8080/"
        },
        "id": "KkoF8B3hpE8-",
        "outputId": "7a155426-b407-4bb4-9a88-298caa69f4c3"
      },
      "execution_count": 5,
      "outputs": [
        {
          "output_type": "stream",
          "name": "stdout",
          "text": [
            "README.md\n",
            "anscombe.json\n",
            "csv2.txt\n",
            "csv1.txt\n",
            "mnist_train_small.csv\n",
            "mnist_test.csv\n",
            "california_housing_test.csv\n",
            "california_housing_train.csv\n"
          ]
        }
      ]
    },
    {
      "cell_type": "code",
      "source": [
        "df1 = spark_session.read.csv(ruta_dataset_1, header = True, sep = ';')"
      ],
      "metadata": {
        "id": "DSQ3VU33rHbC"
      },
      "execution_count": 6,
      "outputs": []
    },
    {
      "cell_type": "code",
      "source": [
        "df1.show()"
      ],
      "metadata": {
        "colab": {
          "base_uri": "https://localhost:8080/"
        },
        "id": "xkUURs1REnfw",
        "outputId": "a0fd6cec-cbb7-464d-fe3b-caed6e528afa"
      },
      "execution_count": 8,
      "outputs": [
        {
          "output_type": "stream",
          "name": "stdout",
          "text": [
            "+---+---+-----+---+\n",
            "|  a|  b|    c|  d|\n",
            "+---+---+-----+---+\n",
            "|  1| 21| hola|4.1|\n",
            "|  2| 22|  que|4.2|\n",
            "|  3| 23|  tal|4.3|\n",
            "|  4| 24|estas|4.4|\n",
            "|  5| 25|   tu|4.5|\n",
            "+---+---+-----+---+\n",
            "\n"
          ]
        }
      ]
    },
    {
      "cell_type": "code",
      "source": [
        "df1.describe().show()"
      ],
      "metadata": {
        "id": "w9McSUGxz4fb",
        "colab": {
          "base_uri": "https://localhost:8080/"
        },
        "outputId": "7f4aaef7-c6ce-4950-d630-d4b82ef4f9f0"
      },
      "execution_count": 9,
      "outputs": [
        {
          "output_type": "stream",
          "name": "stdout",
          "text": [
            "+-------+------------------+------------------+-----+-------------------+\n",
            "|summary|                 a|                 b|    c|                  d|\n",
            "+-------+------------------+------------------+-----+-------------------+\n",
            "|  count|                 5|                 5|    5|                  5|\n",
            "|   mean|               3.0|              23.0| NULL|                4.3|\n",
            "| stddev|1.5811388300841898|1.5811388300841898| NULL|0.15811388300841897|\n",
            "|    min|                 1|                21|estas|                4.1|\n",
            "|    max|                 5|                25|   tu|                4.5|\n",
            "+-------+------------------+------------------+-----+-------------------+\n",
            "\n"
          ]
        }
      ]
    },
    {
      "cell_type": "code",
      "source": [
        "df1.printSchema()"
      ],
      "metadata": {
        "colab": {
          "base_uri": "https://localhost:8080/"
        },
        "id": "JR5HMUp59kn7",
        "outputId": "98e01f7e-5e14-40e9-99c7-30568faa1772"
      },
      "execution_count": 10,
      "outputs": [
        {
          "output_type": "stream",
          "name": "stdout",
          "text": [
            "root\n",
            " |-- a: string (nullable = true)\n",
            " |-- b: string (nullable = true)\n",
            " |-- c: string (nullable = true)\n",
            " |-- d: string (nullable = true)\n",
            "\n"
          ]
        }
      ]
    },
    {
      "cell_type": "code",
      "source": [
        "df1.isEmpty()"
      ],
      "metadata": {
        "colab": {
          "base_uri": "https://localhost:8080/"
        },
        "id": "IkPWD1X8-nrV",
        "outputId": "e391566c-f7f1-482b-9ae9-8046fbf36249"
      },
      "execution_count": 11,
      "outputs": [
        {
          "output_type": "execute_result",
          "data": {
            "text/plain": [
              "False"
            ]
          },
          "metadata": {},
          "execution_count": 11
        }
      ]
    },
    {
      "cell_type": "code",
      "source": [
        "df1.columns"
      ],
      "metadata": {
        "colab": {
          "base_uri": "https://localhost:8080/"
        },
        "id": "VX93uCN7FpmM",
        "outputId": "b53c4ee5-6db0-480b-e0c3-b4600d10ff6b"
      },
      "execution_count": 12,
      "outputs": [
        {
          "output_type": "execute_result",
          "data": {
            "text/plain": [
              "['a', 'b', 'c', 'd']"
            ]
          },
          "metadata": {},
          "execution_count": 12
        }
      ]
    },
    {
      "cell_type": "code",
      "source": [
        "df1.count()"
      ],
      "metadata": {
        "colab": {
          "base_uri": "https://localhost:8080/"
        },
        "id": "X-wP1TVtFtJV",
        "outputId": "f59d7894-4c6c-4eaa-acf6-7c6d772a6c0b"
      },
      "execution_count": 13,
      "outputs": [
        {
          "output_type": "execute_result",
          "data": {
            "text/plain": [
              "5"
            ]
          },
          "metadata": {},
          "execution_count": 13
        }
      ]
    },
    {
      "cell_type": "code",
      "source": [
        "df1.head(2)"
      ],
      "metadata": {
        "colab": {
          "base_uri": "https://localhost:8080/"
        },
        "id": "2hU1bPIhG1hY",
        "outputId": "4b069361-879e-4a17-d17e-e305187c8d81"
      },
      "execution_count": 14,
      "outputs": [
        {
          "output_type": "execute_result",
          "data": {
            "text/plain": [
              "[Row(a='1', b='21', c='hola', d='4.1'), Row(a='2', b='22', c='que', d='4.2')]"
            ]
          },
          "metadata": {},
          "execution_count": 14
        }
      ]
    },
    {
      "cell_type": "code",
      "source": [
        "df2 = spark_session.read.csv(ruta_dataset_2, header = True, sep = ';')\n",
        "df2.show(2)"
      ],
      "metadata": {
        "colab": {
          "base_uri": "https://localhost:8080/"
        },
        "id": "K_Fk2eGhG4IH",
        "outputId": "4bf2ee81-cc9e-48aa-d4a1-95991bd3657c"
      },
      "execution_count": 15,
      "outputs": [
        {
          "output_type": "stream",
          "name": "stdout",
          "text": [
            "+---+---+---+---+\n",
            "|  a|  b|  c|  d|\n",
            "+---+---+---+---+\n",
            "|  1|  2|  3|  4|\n",
            "|  2|  2|  3|  4|\n",
            "+---+---+---+---+\n",
            "only showing top 2 rows\n",
            "\n"
          ]
        }
      ]
    },
    {
      "cell_type": "code",
      "source": [
        "dfea = df1.exceptAll(df2)\n",
        "dfea.show()"
      ],
      "metadata": {
        "colab": {
          "base_uri": "https://localhost:8080/"
        },
        "id": "T3mpdOePHu8u",
        "outputId": "5872376b-4f81-4515-e2bb-7dec37b9ed7f"
      },
      "execution_count": 16,
      "outputs": [
        {
          "output_type": "stream",
          "name": "stdout",
          "text": [
            "+---+---+-----+---+\n",
            "|  a|  b|    c|  d|\n",
            "+---+---+-----+---+\n",
            "|  3| 23|  tal|4.3|\n",
            "|  5| 25|   tu|4.5|\n",
            "|  1| 21| hola|4.1|\n",
            "|  2| 22|  que|4.2|\n",
            "|  4| 24|estas|4.4|\n",
            "+---+---+-----+---+\n",
            "\n"
          ]
        }
      ]
    },
    {
      "cell_type": "code",
      "source": [
        "dfea.describe().show()"
      ],
      "metadata": {
        "colab": {
          "base_uri": "https://localhost:8080/"
        },
        "id": "cz31yTO_IWa1",
        "outputId": "9270ef3c-f3e6-4149-a914-df1a4777d7bc"
      },
      "execution_count": 17,
      "outputs": [
        {
          "output_type": "stream",
          "name": "stdout",
          "text": [
            "+-------+------------------+------------------+-----+-------------------+\n",
            "|summary|                 a|                 b|    c|                  d|\n",
            "+-------+------------------+------------------+-----+-------------------+\n",
            "|  count|                 5|                 5|    5|                  5|\n",
            "|   mean|               3.0|              23.0| NULL|                4.3|\n",
            "| stddev|1.5811388300841898|1.5811388300841898| NULL|0.15811388300841916|\n",
            "|    min|                 1|                21|estas|                4.1|\n",
            "|    max|                 5|                25|   tu|                4.5|\n",
            "+-------+------------------+------------------+-----+-------------------+\n",
            "\n"
          ]
        }
      ]
    },
    {
      "cell_type": "code",
      "source": [
        "df1.select('a','c').limit(3).show()"
      ],
      "metadata": {
        "colab": {
          "base_uri": "https://localhost:8080/"
        },
        "id": "93i1xRUrIiZw",
        "outputId": "aa48a5f2-6e3a-4bca-ec9f-85f9a5ece111"
      },
      "execution_count": 18,
      "outputs": [
        {
          "output_type": "stream",
          "name": "stdout",
          "text": [
            "+---+----+\n",
            "|  a|   c|\n",
            "+---+----+\n",
            "|  1|hola|\n",
            "|  2| que|\n",
            "|  3| tal|\n",
            "+---+----+\n",
            "\n"
          ]
        }
      ]
    },
    {
      "cell_type": "code",
      "source": [
        "df1.take(2)"
      ],
      "metadata": {
        "colab": {
          "base_uri": "https://localhost:8080/"
        },
        "id": "RGXb9ZgHYKdx",
        "outputId": "e741782f-0b58-4701-cb05-8f8128003d40"
      },
      "execution_count": 19,
      "outputs": [
        {
          "output_type": "execute_result",
          "data": {
            "text/plain": [
              "[Row(a='1', b='21', c='hola', d='4.1'), Row(a='2', b='22', c='que', d='4.2')]"
            ]
          },
          "metadata": {},
          "execution_count": 19
        }
      ]
    },
    {
      "cell_type": "code",
      "source": [
        "df1.head(2)"
      ],
      "metadata": {
        "colab": {
          "base_uri": "https://localhost:8080/"
        },
        "id": "9iHyUyh4Yx9o",
        "outputId": "88606e5e-335a-46d5-904a-077de9f43194"
      },
      "execution_count": 20,
      "outputs": [
        {
          "output_type": "execute_result",
          "data": {
            "text/plain": [
              "[Row(a='1', b='21', c='hola', d='4.1'), Row(a='2', b='22', c='que', d='4.2')]"
            ]
          },
          "metadata": {},
          "execution_count": 20
        }
      ]
    },
    {
      "cell_type": "code",
      "source": [
        "filas = df1.limit(2).collect()\n",
        "print(filas[0].asDict())\n",
        "print(filas[1].asDict())"
      ],
      "metadata": {
        "colab": {
          "base_uri": "https://localhost:8080/"
        },
        "id": "vAtwSgbxY62V",
        "outputId": "bfb67ddf-1f1a-4b62-bc98-f1ba90a58100"
      },
      "execution_count": 21,
      "outputs": [
        {
          "output_type": "stream",
          "name": "stdout",
          "text": [
            "{'a': '1', 'b': '21', 'c': 'hola', 'd': '4.1'}\n",
            "{'a': '2', 'b': '22', 'c': 'que', 'd': '4.2'}\n"
          ]
        }
      ]
    },
    {
      "cell_type": "code",
      "source": [
        "union = df1.union(df2)\n",
        "union.show()"
      ],
      "metadata": {
        "colab": {
          "base_uri": "https://localhost:8080/"
        },
        "id": "wzflxNpXZypj",
        "outputId": "c7c69cbc-d33c-4a34-8595-4af204588e7c"
      },
      "execution_count": 23,
      "outputs": [
        {
          "output_type": "stream",
          "name": "stdout",
          "text": [
            "+---+---+-----+---+\n",
            "|  a|  b|    c|  d|\n",
            "+---+---+-----+---+\n",
            "|  1| 21| hola|4.1|\n",
            "|  2| 22|  que|4.2|\n",
            "|  3| 23|  tal|4.3|\n",
            "|  4| 24|estas|4.4|\n",
            "|  5| 25|   tu|4.5|\n",
            "|  1|  2|    3|  4|\n",
            "|  2|  2|    3|  4|\n",
            "|  2|  2|    3|  4|\n",
            "|  2|  2|    3|  4|\n",
            "|  2|  2|    3|  4|\n",
            "+---+---+-----+---+\n",
            "\n"
          ]
        }
      ]
    },
    {
      "cell_type": "code",
      "source": [
        "dfwc = df1.withColumns({'nueva_columna':when(df1.a == '1', 'cazado').otherwise('no cazado'),\n",
        "                        'nueva_columna2':lit(6)})\n",
        "dfwc.show()"
      ],
      "metadata": {
        "colab": {
          "base_uri": "https://localhost:8080/"
        },
        "id": "bJWxZ_UZZYV5",
        "outputId": "bf70c3a9-da73-47c5-ebf2-26763e713df2"
      },
      "execution_count": 24,
      "outputs": [
        {
          "output_type": "stream",
          "name": "stdout",
          "text": [
            "+---+---+-----+---+-------------+--------------+\n",
            "|  a|  b|    c|  d|nueva_columna|nueva_columna2|\n",
            "+---+---+-----+---+-------------+--------------+\n",
            "|  1| 21| hola|4.1|       cazado|             6|\n",
            "|  2| 22|  que|4.2|    no cazado|             6|\n",
            "|  3| 23|  tal|4.3|    no cazado|             6|\n",
            "|  4| 24|estas|4.4|    no cazado|             6|\n",
            "|  5| 25|   tu|4.5|    no cazado|             6|\n",
            "+---+---+-----+---+-------------+--------------+\n",
            "\n"
          ]
        }
      ]
    },
    {
      "cell_type": "code",
      "source": [
        "dfwc.withColumnRenamed('nueva_columna', 'es_cazado').drop('nueva_columna2').show()"
      ],
      "metadata": {
        "id": "okN1g-q5im8J",
        "outputId": "74310ee1-37c6-425f-fe37-de0b6e623ec7",
        "colab": {
          "base_uri": "https://localhost:8080/"
        }
      },
      "execution_count": 25,
      "outputs": [
        {
          "output_type": "stream",
          "name": "stdout",
          "text": [
            "+---+---+-----+---+---------+\n",
            "|  a|  b|    c|  d|es_cazado|\n",
            "+---+---+-----+---+---------+\n",
            "|  1| 21| hola|4.1|   cazado|\n",
            "|  2| 22|  que|4.2|no cazado|\n",
            "|  3| 23|  tal|4.3|no cazado|\n",
            "|  4| 24|estas|4.4|no cazado|\n",
            "|  5| 25|   tu|4.5|no cazado|\n",
            "+---+---+-----+---+---------+\n",
            "\n"
          ]
        }
      ]
    },
    {
      "cell_type": "code",
      "source": [
        "union = union.dropDuplicates()#sin parámetros hace lo mismo que distinct\n",
        "union = union.distinct()\n",
        "union.show()"
      ],
      "metadata": {
        "id": "NDaml6Q0hz2e",
        "outputId": "68d27122-048e-4c3a-c8ee-48de256f4562",
        "colab": {
          "base_uri": "https://localhost:8080/"
        }
      },
      "execution_count": 30,
      "outputs": [
        {
          "output_type": "stream",
          "name": "stdout",
          "text": [
            "+---+---+-----+---+\n",
            "|  a|  b|    c|  d|\n",
            "+---+---+-----+---+\n",
            "|  3| 23|  tal|4.3|\n",
            "|  5| 25|   tu|4.5|\n",
            "|  1| 21| hola|4.1|\n",
            "|  2| 22|  que|4.2|\n",
            "|  4| 24|estas|4.4|\n",
            "|  1|  2|    3|  4|\n",
            "|  2|  2|    3|  4|\n",
            "+---+---+-----+---+\n",
            "\n"
          ]
        }
      ]
    },
    {
      "cell_type": "code",
      "source": [
        "datos_nuevo_df = [('n11','n12','n13','n14'),\n",
        "                  ('n21','n22','n23','n24')]\n",
        "columnas_nuevo_df = union.columns\n",
        "nuevo_df = spark_session.createDataFrame(data = datos_nuevo_df, schema = columnas_nuevo_df)\n",
        "nuevo_df.show()"
      ],
      "metadata": {
        "id": "7yH-o4nbphiC",
        "outputId": "9d8bf801-0ca7-42d5-8f3c-deda918b1afd",
        "colab": {
          "base_uri": "https://localhost:8080/"
        }
      },
      "execution_count": 32,
      "outputs": [
        {
          "output_type": "stream",
          "name": "stdout",
          "text": [
            "+---+---+---+---+\n",
            "|  a|  b|  c|  d|\n",
            "+---+---+---+---+\n",
            "|n11|n12|n13|n14|\n",
            "|n21|n22|n23|n24|\n",
            "+---+---+---+---+\n",
            "\n"
          ]
        }
      ]
    },
    {
      "cell_type": "code",
      "source": [
        "union = union.union(nuevo_df)\n",
        "union.show()"
      ],
      "metadata": {
        "id": "dIiXBvUxp1fH",
        "outputId": "f5d0462d-0dfa-489a-9470-19823825c865",
        "colab": {
          "base_uri": "https://localhost:8080/"
        }
      },
      "execution_count": 33,
      "outputs": [
        {
          "output_type": "stream",
          "name": "stdout",
          "text": [
            "+---+---+-----+---+\n",
            "|  a|  b|    c|  d|\n",
            "+---+---+-----+---+\n",
            "|  3| 23|  tal|4.3|\n",
            "|  5| 25|   tu|4.5|\n",
            "|  1| 21| hola|4.1|\n",
            "|  2| 22|  que|4.2|\n",
            "|  4| 24|estas|4.4|\n",
            "|  1|  2|    3|  4|\n",
            "|  2|  2|    3|  4|\n",
            "|n11|n12|  n13|n14|\n",
            "|n21|n22|  n23|n24|\n",
            "+---+---+-----+---+\n",
            "\n"
          ]
        }
      ]
    },
    {
      "cell_type": "code",
      "source": [
        "union.createOrReplaceTempView('union')\n",
        "df_select = spark_session.sql('select * from union where a like \"%1%\"')\n",
        "df_select.show()"
      ],
      "metadata": {
        "id": "-gzNllPeuzEr",
        "outputId": "ab118a56-7c2d-4af8-cf84-829f9dafdef8",
        "colab": {
          "base_uri": "https://localhost:8080/"
        }
      },
      "execution_count": 34,
      "outputs": [
        {
          "output_type": "stream",
          "name": "stdout",
          "text": [
            "+---+---+----+---+\n",
            "|  a|  b|   c|  d|\n",
            "+---+---+----+---+\n",
            "|  1| 21|hola|4.1|\n",
            "|  1|  2|   3|  4|\n",
            "|n11|n12| n13|n14|\n",
            "|n21|n22| n23|n24|\n",
            "+---+---+----+---+\n",
            "\n"
          ]
        }
      ]
    },
    {
      "cell_type": "markdown",
      "source": [],
      "metadata": {
        "id": "DtTO2Ck2wLkP"
      }
    },
    {
      "cell_type": "code",
      "source": [
        "#Otra forma de filtro (como pandas)\n",
        "df_filtrado = union.filter(col(\"a\").contains(\"1\"))\n",
        "df_filtrado.show()"
      ],
      "metadata": {
        "id": "WCeoOX-Pvajn",
        "outputId": "dc01db5b-e939-464c-a9a9-ffdfec002f4d",
        "colab": {
          "base_uri": "https://localhost:8080/"
        }
      },
      "execution_count": 37,
      "outputs": [
        {
          "output_type": "stream",
          "name": "stdout",
          "text": [
            "+---+---+----+---+\n",
            "|  a|  b|   c|  d|\n",
            "+---+---+----+---+\n",
            "|  1| 21|hola|4.1|\n",
            "|  1|  2|   3|  4|\n",
            "|n11|n12| n13|n14|\n",
            "|n21|n22| n23|n24|\n",
            "+---+---+----+---+\n",
            "\n"
          ]
        }
      ]
    },
    {
      "cell_type": "code",
      "source": [
        "print(df_filtrado.collect())"
      ],
      "metadata": {
        "id": "jXtP_Xu0wIf2",
        "outputId": "ad413f56-ebed-46a6-9d17-65e54fdaa5f6",
        "colab": {
          "base_uri": "https://localhost:8080/"
        }
      },
      "execution_count": 40,
      "outputs": [
        {
          "output_type": "stream",
          "name": "stdout",
          "text": [
            "[Row(a='1', b='21', c='hola', d='4.1'), Row(a='1', b='2', c='3', d='4'), Row(a='n11', b='n12', c='n13', d='n14'), Row(a='n21', b='n22', c='n23', d='n24')]\n"
          ]
        }
      ]
    },
    {
      "cell_type": "code",
      "source": [
        "df1.show()"
      ],
      "metadata": {
        "id": "THFDmVRowgsR",
        "outputId": "d5902882-0543-47a9-8894-e17b44f08474",
        "colab": {
          "base_uri": "https://localhost:8080/"
        }
      },
      "execution_count": 41,
      "outputs": [
        {
          "output_type": "stream",
          "name": "stdout",
          "text": [
            "+---+---+-----+---+\n",
            "|  a|  b|    c|  d|\n",
            "+---+---+-----+---+\n",
            "|  1| 21| hola|4.1|\n",
            "|  2| 22|  que|4.2|\n",
            "|  3| 23|  tal|4.3|\n",
            "|  4| 24|estas|4.4|\n",
            "|  5| 25|   tu|4.5|\n",
            "+---+---+-----+---+\n",
            "\n"
          ]
        }
      ]
    },
    {
      "cell_type": "code",
      "source": [
        "df1.a = df1.a.astype('int')\n",
        "df1.b = df1.b.astype('int')\n",
        "df1.d = df1.d.astype('float')\n",
        "print(df1.dtypes)\n",
        "df1.show()"
      ],
      "metadata": {
        "id": "hddN9iDpxVYe",
        "outputId": "deee4685-72a6-4f45-d9b0-f94973deebd5",
        "colab": {
          "base_uri": "https://localhost:8080/"
        }
      },
      "execution_count": 46,
      "outputs": [
        {
          "output_type": "stream",
          "name": "stdout",
          "text": [
            "[('a', 'string'), ('b', 'string'), ('c', 'string'), ('d', 'string')]\n",
            "+---+---+-----+---+\n",
            "|  a|  b|    c|  d|\n",
            "+---+---+-----+---+\n",
            "|  1| 21| hola|4.1|\n",
            "|  2| 22|  que|4.2|\n",
            "|  3| 23|  tal|4.3|\n",
            "|  4| 24|estas|4.4|\n",
            "|  5| 25|   tu|4.5|\n",
            "+---+---+-----+---+\n",
            "\n"
          ]
        }
      ]
    },
    {
      "cell_type": "code",
      "source": [
        "dfnum = df1.withColumns({\"a\": df1.a.cast(types.IntegerType()),\n",
        "                         \"b\": df1.b.cast(types.IntegerType()),\n",
        "                         \"d\": df1.d.cast(types.FloatType())})\n",
        "print(dfnum.dtypes)\n",
        "dfnum.show()"
      ],
      "metadata": {
        "id": "QggoWC8WxezP",
        "outputId": "6961b02d-16c2-4604-db6e-5908b1b69af4",
        "colab": {
          "base_uri": "https://localhost:8080/"
        }
      },
      "execution_count": 52,
      "outputs": [
        {
          "output_type": "stream",
          "name": "stdout",
          "text": [
            "[('a', 'int'), ('b', 'int'), ('c', 'string'), ('d', 'float')]\n",
            "+---+---+-----+---+\n",
            "|  a|  b|    c|  d|\n",
            "+---+---+-----+---+\n",
            "|  1| 21| hola|4.1|\n",
            "|  2| 22|  que|4.2|\n",
            "|  3| 23|  tal|4.3|\n",
            "|  4| 24|estas|4.4|\n",
            "|  5| 25|   tu|4.5|\n",
            "+---+---+-----+---+\n",
            "\n"
          ]
        }
      ]
    },
    {
      "cell_type": "code",
      "source": [
        "dfag = dfnum.groupBy('c').agg({'a':'sum', 'b':'mean', 'd':'max'})\n",
        "dfag.show()"
      ],
      "metadata": {
        "id": "qPRz92HRzXNi",
        "outputId": "06959854-ab0a-43f5-b896-4b4a725b2bd2",
        "colab": {
          "base_uri": "https://localhost:8080/"
        }
      },
      "execution_count": 55,
      "outputs": [
        {
          "output_type": "stream",
          "name": "stdout",
          "text": [
            "+-----+------+------+------+\n",
            "|    c|sum(a)|avg(b)|max(d)|\n",
            "+-----+------+------+------+\n",
            "|   tu|     5|  25.0|   4.5|\n",
            "|estas|     4|  24.0|   4.4|\n",
            "|  que|     2|  22.0|   4.2|\n",
            "| hola|     1|  21.0|   4.1|\n",
            "|  tal|     3|  23.0|   4.3|\n",
            "+-----+------+------+------+\n",
            "\n"
          ]
        }
      ]
    },
    {
      "cell_type": "code",
      "source": [
        "dfag2 = dfnum.groupBy('c').agg(count(\"a\").alias(\"suma_de_a\"),\n",
        "                               mean(\"b\").alias(\"mediana de b\"),\n",
        "                               avg(\"d\").alias(\"media de d\"))\n",
        "dfag2.show()"
      ],
      "metadata": {
        "id": "5rM7CocTzVxj",
        "outputId": "f3261701-9afa-4a6f-d2ae-cc3e0527a5f9",
        "colab": {
          "base_uri": "https://localhost:8080/"
        }
      },
      "execution_count": 73,
      "outputs": [
        {
          "output_type": "stream",
          "name": "stdout",
          "text": [
            "+-----+---------+------------+-----------------+\n",
            "|    c|suma_de_a|mediana de b|       media de d|\n",
            "+-----+---------+------------+-----------------+\n",
            "|   tu|        1|        25.0|              4.5|\n",
            "|estas|        1|        24.0|4.400000095367432|\n",
            "|  que|        1|        22.0|4.199999809265137|\n",
            "| hola|        1|        21.0|4.099999904632568|\n",
            "|  tal|        1|        23.0|4.300000190734863|\n",
            "+-----+---------+------------+-----------------+\n",
            "\n"
          ]
        }
      ]
    }
  ]
}